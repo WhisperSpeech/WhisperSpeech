{
 "cells": [
  {
   "cell_type": "code",
   "execution_count": 1,
   "id": "270a43c8",
   "metadata": {},
   "outputs": [],
   "source": [
    "#| default_exp pipeline"
   ]
  },
  {
   "cell_type": "code",
   "execution_count": 2,
   "id": "e1ea1c0a",
   "metadata": {},
   "outputs": [],
   "source": [
    "#| exporti\n",
    "import torch\n",
    "from whisperspeech.t2s_up import TSARTransformer\n",
    "from whisperspeech.s2a_delar_mup import SADelARTransformer\n",
    "from whisperspeech.a2wav import Vocoder"
   ]
  },
  {
   "cell_type": "code",
   "execution_count": 3,
   "id": "502ea753",
   "metadata": {},
   "outputs": [],
   "source": [
    "#| export\n",
    "class Pipeline:\n",
    "    def __init__(self, use_kv_cache=True):\n",
    "        self.t2s = TSARTransformer.load_model(use_kv_cache=use_kv_cache).cuda()\n",
    "        self.s2a = SADelARTransformer.load_model(use_kv_cache=use_kv_cache).cuda()\n",
    "        self.vocoder = Vocoder()\n",
    "\n",
    "    def generate_atoks(self, text, speaker=\"3645\"):\n",
    "        text = text.replace(\"\\n\", \" \")\n",
    "        stoks = self.t2s.generate(text, T=.5, top_k=3)\n",
    "        atoks = self.s2a.generate(stoks, [speaker], T=2, top_k=8)\n",
    "        return atoks\n",
    "        \n",
    "    def generate(self, text, speaker=\"3645\"):\n",
    "        return self.vocoder.decode(self.generate_atoks(text, speaker))\n",
    "\n",
    "    def generate_to_file(self, fname, text, speaker=\"3645\"):\n",
    "        self.vocoder.decode_to_file(fname, self.generate_atoks(text, speaker))\n",
    "\n",
    "    def generate_to_notebook(self, text, speaker=\"3645\"):\n",
    "        self.vocoder.decode_to_notebook(self.generate_atoks(text, speaker))"
   ]
  },
  {
   "cell_type": "code",
   "execution_count": null,
   "id": "7aa030b8",
   "metadata": {},
   "outputs": [],
   "source": []
  }
 ],
 "metadata": {
  "kernelspec": {
   "display_name": "Python 3 (ipykernel)",
   "language": "python",
   "name": "python3"
  },
  "language_info": {
   "codemirror_mode": {
    "name": "ipython",
    "version": 3
   },
   "file_extension": ".py",
   "mimetype": "text/x-python",
   "name": "python",
   "nbconvert_exporter": "python",
   "pygments_lexer": "ipython3",
   "version": "3.9.16"
  }
 },
 "nbformat": 4,
 "nbformat_minor": 5
}
