{
 "cells": [
  {
   "cell_type": "code",
   "execution_count": null,
   "id": "7c4adca2",
   "metadata": {},
   "outputs": [],
   "source": [
    "#| default_exp t2s_up\n",
    "%load_ext autoreload\n",
    "%autoreload 2"
   ]
  },
  {
   "cell_type": "code",
   "execution_count": null,
   "id": "0a853249",
   "metadata": {},
   "outputs": [],
   "source": [
    "#| exporti\n",
    "import math\n",
    "import numpy as np\n",
    "import torch\n",
    "import torch.nn as nn\n",
    "from torch.profiler import record_function\n",
    "\n",
    "from huggingface_hub import hf_hub_download\n",
    "from fastcore.basics import store_attr\n",
    "from fastprogress import progress_bar"
   ]
  },
  {
   "cell_type": "code",
   "execution_count": null,
   "id": "13462aa4",
   "metadata": {},
   "outputs": [],
   "source": [
    "#| exporti\n",
    "from pathlib import Path\n",
    "import pylab as plt\n",
    "import pandas as pd"
   ]
  },
  {
   "cell_type": "code",
   "execution_count": null,
   "id": "2b289594",
   "metadata": {},
   "outputs": [
    {
     "name": "stderr",
     "output_type": "stream",
     "text": [
      "/opt/conda/lib/python3.10/site-packages/whisper/timing.py:58: NumbaDeprecationWarning: \u001b[1mThe 'nopython' keyword argument was not supplied to the 'numba.jit' decorator. The implicit default value for this argument is currently False, but it will be changed to True in Numba 0.59.0. See https://numba.readthedocs.io/en/stable/reference/deprecation.html#deprecation-of-object-mode-fall-back-behaviour-when-using-jit for details.\u001b[0m\n",
      "  def backtrace(trace: np.ndarray):\n"
     ]
    }
   ],
   "source": [
    "#| exporti\n",
    "import whisper\n",
    "from whisperspeech.train import *\n",
    "from whisperspeech.modules import *"
   ]
  },
  {
   "cell_type": "code",
   "execution_count": null,
   "id": "d72390bf",
   "metadata": {},
   "outputs": [],
   "source": [
    "datadir = Path('/root/workspace/stoks-txts/')"
   ]
  },
  {
   "cell_type": "markdown",
   "id": "b02bc209",
   "metadata": {},
   "source": [
    "# Dataset"
   ]
  },
  {
   "cell_type": "markdown",
   "id": "ec46329b",
   "metadata": {},
   "source": [
    "## Load the data"
   ]
  },
  {
   "cell_type": "code",
   "execution_count": null,
   "id": "5dde13ad",
   "metadata": {},
   "outputs": [],
   "source": [
    "data = pd.DataFrame(dict(stoks=[str(x) for x in Path(datadir).rglob('*.stoks')]))"
   ]
  },
  {
   "cell_type": "code",
   "execution_count": null,
   "id": "c568210f",
   "metadata": {},
   "outputs": [],
   "source": [
    "data['text'] = data['stoks'].apply(lambda x: Path(x).with_suffix('.txt').read_text())"
   ]
  },
  {
   "cell_type": "code",
   "execution_count": null,
   "id": "5d80ca7d",
   "metadata": {},
   "outputs": [
    {
     "data": {
      "text/html": [
       "<div>\n",
       "<style scoped>\n",
       "    .dataframe tbody tr th:only-of-type {\n",
       "        vertical-align: middle;\n",
       "    }\n",
       "\n",
       "    .dataframe tbody tr th {\n",
       "        vertical-align: top;\n",
       "    }\n",
       "\n",
       "    .dataframe thead th {\n",
       "        text-align: right;\n",
       "    }\n",
       "</style>\n",
       "<table border=\"1\" class=\"dataframe\">\n",
       "  <thead>\n",
       "    <tr style=\"text-align: right;\">\n",
       "      <th></th>\n",
       "      <th>stoks</th>\n",
       "      <th>text</th>\n",
       "    </tr>\n",
       "  </thead>\n",
       "  <tbody>\n",
       "    <tr>\n",
       "      <th>0</th>\n",
       "      <td>/root/workspace/stoks-txts/medium/yearamongstt...</td>\n",
       "      <td>The man in question was summoned and interrog...</td>\n",
       "    </tr>\n",
       "    <tr>\n",
       "      <th>1</th>\n",
       "      <td>/root/workspace/stoks-txts/medium/eldorado_19_...</td>\n",
       "      <td>This is too intricate a matter to be dealt wi...</td>\n",
       "    </tr>\n",
       "    <tr>\n",
       "      <th>2</th>\n",
       "      <td>/root/workspace/stoks-txts/medium/leviathan_29...</td>\n",
       "      <td>a neighboring nation, dispose of men to alter...</td>\n",
       "    </tr>\n",
       "    <tr>\n",
       "      <th>3</th>\n",
       "      <td>/root/workspace/stoks-txts/medium/modernghosts...</td>\n",
       "      <td>Such an outline would not give the slightest ...</td>\n",
       "    </tr>\n",
       "    <tr>\n",
       "      <th>4</th>\n",
       "      <td>/root/workspace/stoks-txts/medium/mike_07_wode...</td>\n",
       "      <td>was not, therefore, a prospect that appealed ...</td>\n",
       "    </tr>\n",
       "    <tr>\n",
       "      <th>...</th>\n",
       "      <td>...</td>\n",
       "      <td>...</td>\n",
       "    </tr>\n",
       "    <tr>\n",
       "      <th>140654</th>\n",
       "      <td>/root/workspace/stoks-txts/small/canterburytal...</td>\n",
       "      <td>And eek Tertullian, Chrysippus, Trotola, and ...</td>\n",
       "    </tr>\n",
       "    <tr>\n",
       "      <th>140655</th>\n",
       "      <td>/root/workspace/stoks-txts/small/manofproperty...</td>\n",
       "      <td>Bessinie was waiting for him at the door, and...</td>\n",
       "    </tr>\n",
       "    <tr>\n",
       "      <th>140656</th>\n",
       "      <td>/root/workspace/stoks-txts/small/toysofpeace_1...</td>\n",
       "      <td>crest of the hill, and wandered far down the ...</td>\n",
       "    </tr>\n",
       "    <tr>\n",
       "      <th>140657</th>\n",
       "      <td>/root/workspace/stoks-txts/small/tristramshand...</td>\n",
       "      <td>\"'They are running at the ring of pleasure,' ...</td>\n",
       "    </tr>\n",
       "    <tr>\n",
       "      <th>140658</th>\n",
       "      <td>/root/workspace/stoks-txts/small/parenticide_c...</td>\n",
       "      <td>I had recently laid out my parents, and they ...</td>\n",
       "    </tr>\n",
       "  </tbody>\n",
       "</table>\n",
       "<p>140659 rows × 2 columns</p>\n",
       "</div>"
      ],
      "text/plain": [
       "                                                    stoks   \n",
       "0       /root/workspace/stoks-txts/medium/yearamongstt...  \\\n",
       "1       /root/workspace/stoks-txts/medium/eldorado_19_...   \n",
       "2       /root/workspace/stoks-txts/medium/leviathan_29...   \n",
       "3       /root/workspace/stoks-txts/medium/modernghosts...   \n",
       "4       /root/workspace/stoks-txts/medium/mike_07_wode...   \n",
       "...                                                   ...   \n",
       "140654  /root/workspace/stoks-txts/small/canterburytal...   \n",
       "140655  /root/workspace/stoks-txts/small/manofproperty...   \n",
       "140656  /root/workspace/stoks-txts/small/toysofpeace_1...   \n",
       "140657  /root/workspace/stoks-txts/small/tristramshand...   \n",
       "140658  /root/workspace/stoks-txts/small/parenticide_c...   \n",
       "\n",
       "                                                     text  \n",
       "0        The man in question was summoned and interrog...  \n",
       "1        This is too intricate a matter to be dealt wi...  \n",
       "2        a neighboring nation, dispose of men to alter...  \n",
       "3        Such an outline would not give the slightest ...  \n",
       "4        was not, therefore, a prospect that appealed ...  \n",
       "...                                                   ...  \n",
       "140654   And eek Tertullian, Chrysippus, Trotola, and ...  \n",
       "140655   Bessinie was waiting for him at the door, and...  \n",
       "140656   crest of the hill, and wandered far down the ...  \n",
       "140657   \"'They are running at the ring of pleasure,' ...  \n",
       "140658   I had recently laid out my parents, and they ...  \n",
       "\n",
       "[140659 rows x 2 columns]"
      ]
     },
     "execution_count": null,
     "metadata": {},
     "output_type": "execute_result"
    }
   ],
   "source": [
    "data"
   ]
  },
  {
   "cell_type": "code",
   "execution_count": null,
   "id": "a7870820",
   "metadata": {},
   "outputs": [
    {
     "name": "stdout",
     "output_type": "stream",
     "text": [
      "1015.8705555555556 hours of (auto)transcribed speech\n"
     ]
    }
   ],
   "source": [
    "print(f\"{len(data) * 26 / 3600} hours of (auto)transcribed speech\") # average sample length is 26s"
   ]
  },
  {
   "cell_type": "code",
   "execution_count": null,
   "id": "a52d5d27",
   "metadata": {},
   "outputs": [],
   "source": [
    "#| exporti\n",
    "def load_data(path:Path):\n",
    "    data = pd.DataFrame(dict(stoks=[str(x) for x in Path(path).rglob('*.stoks')]))\n",
    "    data['stoks_len'] = data['stoks'].map(lambda x: torch.load(x).shape[1]/50)\n",
    "    data['text'] = data['stoks'].apply(lambda x: Path(x).with_suffix('.txt').read_text())\n",
    "    data['ttoks_len'] = data['text'].map(lambda x: len(tokenizer.encode(x)))\n",
    "    return data"
   ]
  },
  {
   "cell_type": "code",
   "execution_count": null,
   "id": "376b3f41",
   "metadata": {},
   "outputs": [],
   "source": [
    "data = pd.read_feather('stoks-txts.feather')"
   ]
  },
  {
   "cell_type": "code",
   "execution_count": null,
   "id": "ab978ca9",
   "metadata": {},
   "outputs": [],
   "source": [
    "import re"
   ]
  },
  {
   "cell_type": "code",
   "execution_count": null,
   "id": "8cac80a1",
   "metadata": {},
   "outputs": [],
   "source": [
    "data['txt_tiny_wc'] = data['txt_tiny'].map(lambda x: len(re.findall(r'\\w+', x)))"
   ]
  },
  {
   "cell_type": "code",
   "execution_count": null,
   "id": "4db453a5",
   "metadata": {},
   "outputs": [],
   "source": [
    "data['txt_large_wc'] = data['txt_large'].map(lambda x: len(re.findall(r'\\w+', x)))"
   ]
  },
  {
   "cell_type": "code",
   "execution_count": null,
   "id": "28357f98",
   "metadata": {},
   "outputs": [],
   "source": [
    "data['wc_err'] = data['txt_large_wc'] - data['txt_tiny_wc']"
   ]
  },
  {
   "cell_type": "code",
   "execution_count": null,
   "id": "7832bb88",
   "metadata": {},
   "outputs": [
    {
     "data": {
      "text/html": [
       "<div>\n",
       "<style scoped>\n",
       "    .dataframe tbody tr th:only-of-type {\n",
       "        vertical-align: middle;\n",
       "    }\n",
       "\n",
       "    .dataframe tbody tr th {\n",
       "        vertical-align: top;\n",
       "    }\n",
       "\n",
       "    .dataframe thead th {\n",
       "        text-align: right;\n",
       "    }\n",
       "</style>\n",
       "<table border=\"1\" class=\"dataframe\">\n",
       "  <thead>\n",
       "    <tr style=\"text-align: right;\">\n",
       "      <th></th>\n",
       "      <th>fname</th>\n",
       "      <th>j</th>\n",
       "      <th>tstart</th>\n",
       "      <th>tend</th>\n",
       "      <th>stoks</th>\n",
       "      <th>txt_tiny</th>\n",
       "      <th>txt_large</th>\n",
       "      <th>txt_tiny_wc</th>\n",
       "      <th>txt_large_wc</th>\n",
       "      <th>wc_err</th>\n",
       "    </tr>\n",
       "  </thead>\n",
       "  <tbody>\n",
       "    <tr>\n",
       "      <th>535268</th>\n",
       "      <td>medium/123/hymns_of_the_christian_church_0805_...</td>\n",
       "      <td>4</td>\n",
       "      <td>92.652188</td>\n",
       "      <td>118.454063</td>\n",
       "      <td>[264, 659, 659, 659, 659, 527, 438, 189, 928, ...</td>\n",
       "      <td>Get in normal, lie down in sin. Watch by the ...</td>\n",
       "      <td>Let him no more lie down in sin, Watched by t...</td>\n",
       "      <td>222</td>\n",
       "      <td>34</td>\n",
       "      <td>-188</td>\n",
       "    </tr>\n",
       "    <tr>\n",
       "      <th>105251</th>\n",
       "      <td>medium/543/enchanted_island_yew_librivox_64kb_...</td>\n",
       "      <td>53</td>\n",
       "      <td>1283.875313</td>\n",
       "      <td>1306.842187</td>\n",
       "      <td>[233, 1016, 1016, 1016, 1016, 834, 834, 984, 1...</td>\n",
       "      <td>To think, Sout will take him miserably, only ...</td>\n",
       "      <td>To think, sobbed Woolteke miserably, only to ...</td>\n",
       "      <td>215</td>\n",
       "      <td>30</td>\n",
       "      <td>-185</td>\n",
       "    </tr>\n",
       "    <tr>\n",
       "      <th>525192</th>\n",
       "      <td>medium/298/spy_cooper_librivox_64kb_mp3/spy_11...</td>\n",
       "      <td>1</td>\n",
       "      <td>26.063438</td>\n",
       "      <td>47.005313</td>\n",
       "      <td>[155, 650, 244, 862, 402, 666, 666, 666, 666, ...</td>\n",
       "      <td>O wo wo wo wo wo wo wo wo wo wo wo wo wo wo w...</td>\n",
       "      <td>O woe! O woeful, woeful, woeful day! Most lam...</td>\n",
       "      <td>224</td>\n",
       "      <td>44</td>\n",
       "      <td>-180</td>\n",
       "    </tr>\n",
       "    <tr>\n",
       "      <th>667331</th>\n",
       "      <td>medium/4881/shirley_1006_librivox_64kb_mp3/shi...</td>\n",
       "      <td>48</td>\n",
       "      <td>1228.508438</td>\n",
       "      <td>1247.104688</td>\n",
       "      <td>[740, 659, 659, 659, 985, 579, 187, 187, 187, ...</td>\n",
       "      <td>Monpero Yaf and Kaur is the one who is the on...</td>\n",
       "      <td>Mon beau voyage encore est si loin de sa fin....</td>\n",
       "      <td>220</td>\n",
       "      <td>41</td>\n",
       "      <td>-179</td>\n",
       "    </tr>\n",
       "    <tr>\n",
       "      <th>74470</th>\n",
       "      <td>small/112/o_canada_librivox_64kb_mp3/o_canada_...</td>\n",
       "      <td>1</td>\n",
       "      <td>17.305312</td>\n",
       "      <td>46.988438</td>\n",
       "      <td>[511, 659, 659, 295, 295, 122, 268, 268, 268, ...</td>\n",
       "      <td>I don't want to say that I don't want to say ...</td>\n",
       "      <td>Au Canada, terre de nos aïeux, ton front est ...</td>\n",
       "      <td>224</td>\n",
       "      <td>55</td>\n",
       "      <td>-169</td>\n",
       "    </tr>\n",
       "    <tr>\n",
       "      <th>...</th>\n",
       "      <td>...</td>\n",
       "      <td>...</td>\n",
       "      <td>...</td>\n",
       "      <td>...</td>\n",
       "      <td>...</td>\n",
       "      <td>...</td>\n",
       "      <td>...</td>\n",
       "      <td>...</td>\n",
       "      <td>...</td>\n",
       "      <td>...</td>\n",
       "    </tr>\n",
       "    <tr>\n",
       "      <th>206312</th>\n",
       "      <td>medium/688/fortieth_door_librivox_64kb_mp3/for...</td>\n",
       "      <td>19</td>\n",
       "      <td>458.232188</td>\n",
       "      <td>475.832813</td>\n",
       "      <td>[669, 659, 659, 690, 80, 269, 269, 269, 269, 2...</td>\n",
       "      <td>came Amy's shaken voice, oh, you are safe.\" H...</td>\n",
       "      <td>She was a young girl, and she was a young gir...</td>\n",
       "      <td>56</td>\n",
       "      <td>192</td>\n",
       "      <td>136</td>\n",
       "    </tr>\n",
       "    <tr>\n",
       "      <th>207282</th>\n",
       "      <td>medium/688/fortieth_door_librivox_64kb_mp3/for...</td>\n",
       "      <td>51</td>\n",
       "      <td>1168.382812</td>\n",
       "      <td>1191.332813</td>\n",
       "      <td>[742, 659, 244, 956, 158, 660, 660, 660, 731, ...</td>\n",
       "      <td>You were going to leave me? Strangely, her ey...</td>\n",
       "      <td>I had not seen him for a long time, and I had...</td>\n",
       "      <td>67</td>\n",
       "      <td>204</td>\n",
       "      <td>137</td>\n",
       "    </tr>\n",
       "    <tr>\n",
       "      <th>206963</th>\n",
       "      <td>medium/688/fortieth_door_librivox_64kb_mp3/for...</td>\n",
       "      <td>2</td>\n",
       "      <td>49.823438</td>\n",
       "      <td>69.989063</td>\n",
       "      <td>[1016, 1016, 1016, 280, 2, 466, 311, 311, 311,...</td>\n",
       "      <td>before the Sudanese marshalled them toward th...</td>\n",
       "      <td>There was no one in the house, and no one in ...</td>\n",
       "      <td>58</td>\n",
       "      <td>198</td>\n",
       "      <td>140</td>\n",
       "    </tr>\n",
       "    <tr>\n",
       "      <th>207141</th>\n",
       "      <td>medium/688/fortieth_door_librivox_64kb_mp3/for...</td>\n",
       "      <td>34</td>\n",
       "      <td>730.172813</td>\n",
       "      <td>750.608438</td>\n",
       "      <td>[980, 47, 47, 47, 47, 978, 978, 484, 317, 484,...</td>\n",
       "      <td>were being relieved of their huge loads by na...</td>\n",
       "      <td>The young man, who had not yet come to his se...</td>\n",
       "      <td>58</td>\n",
       "      <td>200</td>\n",
       "      <td>142</td>\n",
       "    </tr>\n",
       "    <tr>\n",
       "      <th>207321</th>\n",
       "      <td>medium/688/faraway_longago_0711_64kb_mp3/faraw...</td>\n",
       "      <td>5</td>\n",
       "      <td>126.773438</td>\n",
       "      <td>147.850313</td>\n",
       "      <td>[399, 659, 659, 244, 883, 569, 668, 668, 805, ...</td>\n",
       "      <td>An astonishing number of birds were visible, ...</td>\n",
       "      <td>and many waders, ibises, herons, spoonbills, ...</td>\n",
       "      <td>57</td>\n",
       "      <td>206</td>\n",
       "      <td>149</td>\n",
       "    </tr>\n",
       "  </tbody>\n",
       "</table>\n",
       "<p>783621 rows × 10 columns</p>\n",
       "</div>"
      ],
      "text/plain": [
       "                                                    fname   j       tstart   \n",
       "535268  medium/123/hymns_of_the_christian_church_0805_...   4    92.652188  \\\n",
       "105251  medium/543/enchanted_island_yew_librivox_64kb_...  53  1283.875313   \n",
       "525192  medium/298/spy_cooper_librivox_64kb_mp3/spy_11...   1    26.063438   \n",
       "667331  medium/4881/shirley_1006_librivox_64kb_mp3/shi...  48  1228.508438   \n",
       "74470   small/112/o_canada_librivox_64kb_mp3/o_canada_...   1    17.305312   \n",
       "...                                                   ...  ..          ...   \n",
       "206312  medium/688/fortieth_door_librivox_64kb_mp3/for...  19   458.232188   \n",
       "207282  medium/688/fortieth_door_librivox_64kb_mp3/for...  51  1168.382812   \n",
       "206963  medium/688/fortieth_door_librivox_64kb_mp3/for...   2    49.823438   \n",
       "207141  medium/688/fortieth_door_librivox_64kb_mp3/for...  34   730.172813   \n",
       "207321  medium/688/faraway_longago_0711_64kb_mp3/faraw...   5   126.773438   \n",
       "\n",
       "               tend                                              stoks   \n",
       "535268   118.454063  [264, 659, 659, 659, 659, 527, 438, 189, 928, ...  \\\n",
       "105251  1306.842187  [233, 1016, 1016, 1016, 1016, 834, 834, 984, 1...   \n",
       "525192    47.005313  [155, 650, 244, 862, 402, 666, 666, 666, 666, ...   \n",
       "667331  1247.104688  [740, 659, 659, 659, 985, 579, 187, 187, 187, ...   \n",
       "74470     46.988438  [511, 659, 659, 295, 295, 122, 268, 268, 268, ...   \n",
       "...             ...                                                ...   \n",
       "206312   475.832813  [669, 659, 659, 690, 80, 269, 269, 269, 269, 2...   \n",
       "207282  1191.332813  [742, 659, 244, 956, 158, 660, 660, 660, 731, ...   \n",
       "206963    69.989063  [1016, 1016, 1016, 280, 2, 466, 311, 311, 311,...   \n",
       "207141   750.608438  [980, 47, 47, 47, 47, 978, 978, 484, 317, 484,...   \n",
       "207321   147.850313  [399, 659, 659, 244, 883, 569, 668, 668, 805, ...   \n",
       "\n",
       "                                                 txt_tiny   \n",
       "535268   Get in normal, lie down in sin. Watch by the ...  \\\n",
       "105251   To think, Sout will take him miserably, only ...   \n",
       "525192   O wo wo wo wo wo wo wo wo wo wo wo wo wo wo w...   \n",
       "667331   Monpero Yaf and Kaur is the one who is the on...   \n",
       "74470    I don't want to say that I don't want to say ...   \n",
       "...                                                   ...   \n",
       "206312   came Amy's shaken voice, oh, you are safe.\" H...   \n",
       "207282   You were going to leave me? Strangely, her ey...   \n",
       "206963   before the Sudanese marshalled them toward th...   \n",
       "207141   were being relieved of their huge loads by na...   \n",
       "207321   An astonishing number of birds were visible, ...   \n",
       "\n",
       "                                                txt_large  txt_tiny_wc   \n",
       "535268   Let him no more lie down in sin, Watched by t...          222  \\\n",
       "105251   To think, sobbed Woolteke miserably, only to ...          215   \n",
       "525192   O woe! O woeful, woeful, woeful day! Most lam...          224   \n",
       "667331   Mon beau voyage encore est si loin de sa fin....          220   \n",
       "74470    Au Canada, terre de nos aïeux, ton front est ...          224   \n",
       "...                                                   ...          ...   \n",
       "206312   She was a young girl, and she was a young gir...           56   \n",
       "207282   I had not seen him for a long time, and I had...           67   \n",
       "206963   There was no one in the house, and no one in ...           58   \n",
       "207141   The young man, who had not yet come to his se...           58   \n",
       "207321   and many waders, ibises, herons, spoonbills, ...           57   \n",
       "\n",
       "        txt_large_wc  wc_err  \n",
       "535268            34    -188  \n",
       "105251            30    -185  \n",
       "525192            44    -180  \n",
       "667331            41    -179  \n",
       "74470             55    -169  \n",
       "...              ...     ...  \n",
       "206312           192     136  \n",
       "207282           204     137  \n",
       "206963           198     140  \n",
       "207141           200     142  \n",
       "207321           206     149  \n",
       "\n",
       "[783621 rows x 10 columns]"
      ]
     },
     "execution_count": null,
     "metadata": {},
     "output_type": "execute_result"
    }
   ],
   "source": [
    "data.sort_values('wc_err')"
   ]
  },
  {
   "cell_type": "code",
   "execution_count": null,
   "id": "bd057adf",
   "metadata": {},
   "outputs": [
    {
     "name": "stdout",
     "output_type": "stream",
     "text": [
      " came Amy's shaken voice, oh, you are safe.\" He felt her trembling in his clasp and he swept her close to him. For one breathless instant they clung together in a sharp, passionate gladness which blurred every sense of dread or danger. They were safe, they were together, and for the moment it was enough.\n",
      "\n",
      " She was a young girl, and she was a young girl, and she was a young girl, and she was a young girl, and she was a young girl, and she was a young girl, and she was a young girl, and she was a young girl, and she was a young girl, and she was a young girl, and she was a young girl, and she was a young girl, and she was a young girl, and she was a young girl, and she was a young girl, and she was a young girl, and she was a young girl, and she was a young girl, and she was a young girl, and she was a young girl, and she was a young girl, and she was a young girl, and she was a young girl, and she was a young girl, and she was a young girl, and she was a young girl, and she was a young girl, and she was a young girl, and she was a young girl, and she was a young girl, and she was a young girl, and she was a young girl, and\n",
      "17.60062499999998\n"
     ]
    }
   ],
   "source": [
    "x = data.loc[206312]\n",
    "print(x['txt_tiny'])\n",
    "print()\n",
    "print(x['txt_large'])\n",
    "print(x['tend'] - x['tstart'])"
   ]
  },
  {
   "cell_type": "code",
   "execution_count": null,
   "id": "5b744e22",
   "metadata": {},
   "outputs": [],
   "source": [
    "data_clean = data[data['wc_err'].abs() < 5]"
   ]
  },
  {
   "cell_type": "code",
   "execution_count": null,
   "id": "aed72605",
   "metadata": {},
   "outputs": [
    {
     "data": {
      "text/html": [
       "<div>\n",
       "<style scoped>\n",
       "    .dataframe tbody tr th:only-of-type {\n",
       "        vertical-align: middle;\n",
       "    }\n",
       "\n",
       "    .dataframe tbody tr th {\n",
       "        vertical-align: top;\n",
       "    }\n",
       "\n",
       "    .dataframe thead th {\n",
       "        text-align: right;\n",
       "    }\n",
       "</style>\n",
       "<table border=\"1\" class=\"dataframe\">\n",
       "  <thead>\n",
       "    <tr style=\"text-align: right;\">\n",
       "      <th></th>\n",
       "      <th>fname</th>\n",
       "      <th>j</th>\n",
       "      <th>tstart</th>\n",
       "      <th>tend</th>\n",
       "      <th>stoks</th>\n",
       "      <th>txt_tiny</th>\n",
       "      <th>txt_large</th>\n",
       "      <th>txt_tiny_wc</th>\n",
       "      <th>txt_large_wc</th>\n",
       "      <th>wc_err</th>\n",
       "    </tr>\n",
       "  </thead>\n",
       "  <tbody>\n",
       "    <tr>\n",
       "      <th>1</th>\n",
       "      <td>small/2769/murder_gunroom_0902_librivox_64kb_m...</td>\n",
       "      <td>1</td>\n",
       "      <td>16.697813</td>\n",
       "      <td>40.643438</td>\n",
       "      <td>[4, 1016, 1016, 68, 451, 451, 451, 967, 967, 9...</td>\n",
       "      <td>Murder in the Gunroom by each being Piper. In...</td>\n",
       "      <td>Murder in the Gun Room by H. Beam Piper Intro...</td>\n",
       "      <td>63</td>\n",
       "      <td>65</td>\n",
       "      <td>2</td>\n",
       "    </tr>\n",
       "    <tr>\n",
       "      <th>2</th>\n",
       "      <td>small/2769/murder_gunroom_0902_librivox_64kb_m...</td>\n",
       "      <td>2</td>\n",
       "      <td>40.643438</td>\n",
       "      <td>62.884688</td>\n",
       "      <td>[659, 1016, 280, 926, 425, 425, 425, 425, 425,...</td>\n",
       "      <td>enough at any rate to engage Colonel Jefferso...</td>\n",
       "      <td>Enough at any rate to engage Colonel Jefferso...</td>\n",
       "      <td>67</td>\n",
       "      <td>66</td>\n",
       "      <td>-1</td>\n",
       "    </tr>\n",
       "    <tr>\n",
       "      <th>3</th>\n",
       "      <td>small/2769/murder_gunroom_0902_librivox_64kb_m...</td>\n",
       "      <td>3</td>\n",
       "      <td>63.711563</td>\n",
       "      <td>91.032188</td>\n",
       "      <td>[294, 659, 659, 244, 244, 956, 956, 765, 765, ...</td>\n",
       "      <td>Here's a mystery told against the fascinating...</td>\n",
       "      <td>Here is a mystery told against the fascinatin...</td>\n",
       "      <td>78</td>\n",
       "      <td>78</td>\n",
       "      <td>0</td>\n",
       "    </tr>\n",
       "    <tr>\n",
       "      <th>5</th>\n",
       "      <td>small/2769/murder_gunroom_0902_librivox_64kb_m...</td>\n",
       "      <td>1</td>\n",
       "      <td>27.784688</td>\n",
       "      <td>54.784688</td>\n",
       "      <td>[994, 659, 1016, 1016, 704, 417, 42, 573, 573,...</td>\n",
       "      <td>Why, hello Jeff! He greeted the detective, gr...</td>\n",
       "      <td>Why, hello, Jeff!\" he greeted the detective, ...</td>\n",
       "      <td>84</td>\n",
       "      <td>84</td>\n",
       "      <td>0</td>\n",
       "    </tr>\n",
       "    <tr>\n",
       "      <th>6</th>\n",
       "      <td>small/2769/murder_gunroom_0902_librivox_64kb_m...</td>\n",
       "      <td>2</td>\n",
       "      <td>55.206563</td>\n",
       "      <td>64.740938</td>\n",
       "      <td>[984, 650, 659, 862, 446, 559, 559, 559, 559, ...</td>\n",
       "      <td>I understand that you and some others are for...</td>\n",
       "      <td>I understand that you and some others are for...</td>\n",
       "      <td>25</td>\n",
       "      <td>25</td>\n",
       "      <td>0</td>\n",
       "    </tr>\n",
       "    <tr>\n",
       "      <th>...</th>\n",
       "      <td>...</td>\n",
       "      <td>...</td>\n",
       "      <td>...</td>\n",
       "      <td>...</td>\n",
       "      <td>...</td>\n",
       "      <td>...</td>\n",
       "      <td>...</td>\n",
       "      <td>...</td>\n",
       "      <td>...</td>\n",
       "      <td>...</td>\n",
       "    </tr>\n",
       "    <tr>\n",
       "      <th>783616</th>\n",
       "      <td>medium/3470/worm_ouroboros_jm_librivox_64kb_mp...</td>\n",
       "      <td>20</td>\n",
       "      <td>566.451563</td>\n",
       "      <td>588.372188</td>\n",
       "      <td>[660, 1016, 1016, 950, 278, 811, 811, 811, 811...</td>\n",
       "      <td>said ever fresh dishes before the feasters, a...</td>\n",
       "      <td>set ever fresh dishes before the feasters, an...</td>\n",
       "      <td>79</td>\n",
       "      <td>79</td>\n",
       "      <td>0</td>\n",
       "    </tr>\n",
       "    <tr>\n",
       "      <th>783617</th>\n",
       "      <td>medium/3470/worm_ouroboros_jm_librivox_64kb_mp...</td>\n",
       "      <td>21</td>\n",
       "      <td>589.283438</td>\n",
       "      <td>618.291563</td>\n",
       "      <td>[732, 1016, 1016, 976, 216, 731, 731, 731, 731...</td>\n",
       "      <td>Great was the clatter of cups, and great the ...</td>\n",
       "      <td>Great was the clatter of cups, and great the ...</td>\n",
       "      <td>99</td>\n",
       "      <td>96</td>\n",
       "      <td>-3</td>\n",
       "    </tr>\n",
       "    <tr>\n",
       "      <th>783618</th>\n",
       "      <td>medium/3470/worm_ouroboros_jm_librivox_64kb_mp...</td>\n",
       "      <td>22</td>\n",
       "      <td>618.797813</td>\n",
       "      <td>647.130938</td>\n",
       "      <td>[429, 650, 757, 611, 447, 447, 99, 99, 99, 99,...</td>\n",
       "      <td>but this by stealth only, and out of our shot...</td>\n",
       "      <td>put this by stealth only, and out of eyeshot ...</td>\n",
       "      <td>92</td>\n",
       "      <td>93</td>\n",
       "      <td>1</td>\n",
       "    </tr>\n",
       "    <tr>\n",
       "      <th>783619</th>\n",
       "      <td>medium/3470/worm_ouroboros_jm_librivox_64kb_mp...</td>\n",
       "      <td>23</td>\n",
       "      <td>648.160313</td>\n",
       "      <td>676.932188</td>\n",
       "      <td>[135, 659, 244, 650, 522, 522, 522, 522, 522, ...</td>\n",
       "      <td>I scarce, can blame him, as a girl, to some m...</td>\n",
       "      <td>I scarce can blame him,\" answered Gros. \"'Tis...</td>\n",
       "      <td>100</td>\n",
       "      <td>97</td>\n",
       "      <td>-3</td>\n",
       "    </tr>\n",
       "    <tr>\n",
       "      <th>783620</th>\n",
       "      <td>medium/3470/worm_ouroboros_jm_librivox_64kb_mp...</td>\n",
       "      <td>24</td>\n",
       "      <td>677.691563</td>\n",
       "      <td>707.222813</td>\n",
       "      <td>[599, 659, 244, 611, 54, 54, 54, 495, 495, 495...</td>\n",
       "      <td>if this is no mind as well. And speaking soft...</td>\n",
       "      <td>If this is thy mind, tis well.\" And speaking ...</td>\n",
       "      <td>99</td>\n",
       "      <td>99</td>\n",
       "      <td>0</td>\n",
       "    </tr>\n",
       "  </tbody>\n",
       "</table>\n",
       "<p>743539 rows × 10 columns</p>\n",
       "</div>"
      ],
      "text/plain": [
       "                                                    fname   j      tstart   \n",
       "1       small/2769/murder_gunroom_0902_librivox_64kb_m...   1   16.697813  \\\n",
       "2       small/2769/murder_gunroom_0902_librivox_64kb_m...   2   40.643438   \n",
       "3       small/2769/murder_gunroom_0902_librivox_64kb_m...   3   63.711563   \n",
       "5       small/2769/murder_gunroom_0902_librivox_64kb_m...   1   27.784688   \n",
       "6       small/2769/murder_gunroom_0902_librivox_64kb_m...   2   55.206563   \n",
       "...                                                   ...  ..         ...   \n",
       "783616  medium/3470/worm_ouroboros_jm_librivox_64kb_mp...  20  566.451563   \n",
       "783617  medium/3470/worm_ouroboros_jm_librivox_64kb_mp...  21  589.283438   \n",
       "783618  medium/3470/worm_ouroboros_jm_librivox_64kb_mp...  22  618.797813   \n",
       "783619  medium/3470/worm_ouroboros_jm_librivox_64kb_mp...  23  648.160313   \n",
       "783620  medium/3470/worm_ouroboros_jm_librivox_64kb_mp...  24  677.691563   \n",
       "\n",
       "              tend                                              stoks   \n",
       "1        40.643438  [4, 1016, 1016, 68, 451, 451, 451, 967, 967, 9...  \\\n",
       "2        62.884688  [659, 1016, 280, 926, 425, 425, 425, 425, 425,...   \n",
       "3        91.032188  [294, 659, 659, 244, 244, 956, 956, 765, 765, ...   \n",
       "5        54.784688  [994, 659, 1016, 1016, 704, 417, 42, 573, 573,...   \n",
       "6        64.740938  [984, 650, 659, 862, 446, 559, 559, 559, 559, ...   \n",
       "...            ...                                                ...   \n",
       "783616  588.372188  [660, 1016, 1016, 950, 278, 811, 811, 811, 811...   \n",
       "783617  618.291563  [732, 1016, 1016, 976, 216, 731, 731, 731, 731...   \n",
       "783618  647.130938  [429, 650, 757, 611, 447, 447, 99, 99, 99, 99,...   \n",
       "783619  676.932188  [135, 659, 244, 650, 522, 522, 522, 522, 522, ...   \n",
       "783620  707.222813  [599, 659, 244, 611, 54, 54, 54, 495, 495, 495...   \n",
       "\n",
       "                                                 txt_tiny   \n",
       "1        Murder in the Gunroom by each being Piper. In...  \\\n",
       "2        enough at any rate to engage Colonel Jefferso...   \n",
       "3        Here's a mystery told against the fascinating...   \n",
       "5        Why, hello Jeff! He greeted the detective, gr...   \n",
       "6        I understand that you and some others are for...   \n",
       "...                                                   ...   \n",
       "783616   said ever fresh dishes before the feasters, a...   \n",
       "783617   Great was the clatter of cups, and great the ...   \n",
       "783618   but this by stealth only, and out of our shot...   \n",
       "783619   I scarce, can blame him, as a girl, to some m...   \n",
       "783620   if this is no mind as well. And speaking soft...   \n",
       "\n",
       "                                                txt_large  txt_tiny_wc   \n",
       "1        Murder in the Gun Room by H. Beam Piper Intro...           63  \\\n",
       "2        Enough at any rate to engage Colonel Jefferso...           67   \n",
       "3        Here is a mystery told against the fascinatin...           78   \n",
       "5        Why, hello, Jeff!\" he greeted the detective, ...           84   \n",
       "6        I understand that you and some others are for...           25   \n",
       "...                                                   ...          ...   \n",
       "783616   set ever fresh dishes before the feasters, an...           79   \n",
       "783617   Great was the clatter of cups, and great the ...           99   \n",
       "783618   put this by stealth only, and out of eyeshot ...           92   \n",
       "783619   I scarce can blame him,\" answered Gros. \"'Tis...          100   \n",
       "783620   If this is thy mind, tis well.\" And speaking ...           99   \n",
       "\n",
       "        txt_large_wc  wc_err  \n",
       "1                 65       2  \n",
       "2                 66      -1  \n",
       "3                 78       0  \n",
       "5                 84       0  \n",
       "6                 25       0  \n",
       "...              ...     ...  \n",
       "783616            79       0  \n",
       "783617            96      -3  \n",
       "783618            93       1  \n",
       "783619            97      -3  \n",
       "783620            99       0  \n",
       "\n",
       "[743539 rows x 10 columns]"
      ]
     },
     "execution_count": null,
     "metadata": {},
     "output_type": "execute_result"
    }
   ],
   "source": [
    "data_clean"
   ]
  },
  {
   "cell_type": "markdown",
   "id": "9f77fad9",
   "metadata": {},
   "source": [
    "## Prepare the datasets"
   ]
  },
  {
   "cell_type": "code",
   "execution_count": null,
   "id": "04e76108",
   "metadata": {},
   "outputs": [],
   "source": [
    "tokenizer = whisper.tokenizer.get_tokenizer(multilingual=True)"
   ]
  },
  {
   "cell_type": "code",
   "execution_count": null,
   "id": "0bd19f2d",
   "metadata": {},
   "outputs": [],
   "source": [
    "ttoks_len = data_clean['txt_large'].map(lambda x: len(tokenizer.encode(x)))"
   ]
  },
  {
   "cell_type": "code",
   "execution_count": null,
   "id": "1b3da6c6",
   "metadata": {},
   "outputs": [
    {
     "data": {
      "text/plain": [
       "(224, 1)"
      ]
     },
     "execution_count": null,
     "metadata": {},
     "output_type": "execute_result"
    }
   ],
   "source": [
    "ttoks_len.max(), ttoks_len.min()"
   ]
  },
  {
   "cell_type": "code",
   "execution_count": null,
   "id": "f53ce815",
   "metadata": {},
   "outputs": [
    {
     "data": {
      "text/plain": [
       "<Axes: >"
      ]
     },
     "execution_count": null,
     "metadata": {},
     "output_type": "execute_result"
    },
    {
     "data": {
      "image/png": "[encoded data removed]",
      "text/plain": [
       "<Figure size 640x480 with 1 Axes>"
      ]
     },
     "metadata": {},
     "output_type": "display_data"
    }
   ],
   "source": [
    "(data_clean['tend'] - data_clean['tstart']).hist()"
   ]
  },
  {
   "cell_type": "code",
   "execution_count": null,
   "id": "33961a36",
   "metadata": {},
   "outputs": [],
   "source": [
    "import numpy as np"
   ]
  },
  {
   "cell_type": "code",
   "execution_count": null,
   "id": "a5edd423",
   "metadata": {},
   "outputs": [],
   "source": [
    "#| exporti\n",
    "import torch.nn.functional as F\n",
    "\n",
    "class SADataset(torch.utils.data.Dataset):\n",
    "    def __init__(self, data, tokenizer):\n",
    "        self.data = data\n",
    "        self.tokenizer = tokenizer\n",
    "        self.stoks_len = 1500\n",
    "        self.ttoks_len = 250\n",
    "    \n",
    "    def __len__(self):\n",
    "        return len(self.data)\n",
    "            \n",
    "    def __repr__(self):\n",
    "        return f\"<Dataset: {len(self)} samples>\"\n",
    "    \n",
    "    def __getitem__(self, idx):\n",
    "        row = self.data.iloc[idx]\n",
    "        t = row['tend'] - row['tstart']\n",
    "        Stoks = row['stoks'][:int(t/30*1500+.5)]\n",
    "        Ttoks = self.tokenizer.encode(row['txt_large'])\n",
    "        return F.pad(torch.tensor(Ttoks), (0, self.ttoks_len - len(Ttoks)), value=self.tokenizer.eot).to(torch.long), \\\n",
    "               F.pad(torch.tensor(Stoks), (0, self.stoks_len - len(Stoks)), value=1024).to(torch.long)"
   ]
  },
  {
   "cell_type": "code",
   "execution_count": null,
   "id": "ef8736c2",
   "metadata": {},
   "outputs": [
    {
     "data": {
      "text/plain": [
       "<Dataset: 300 samples>"
      ]
     },
     "execution_count": null,
     "metadata": {},
     "output_type": "execute_result"
    }
   ],
   "source": [
    "val_data, train_data = data[:300], data[300:]\n",
    "val_ds = SADataset(val_data, tokenizer)\n",
    "val_ds"
   ]
  },
  {
   "cell_type": "code",
   "execution_count": null,
   "id": "d6c82c52",
   "metadata": {},
   "outputs": [
    {
     "data": {
      "text/plain": [
       "<Dataset: 783321 samples>"
      ]
     },
     "execution_count": null,
     "metadata": {},
     "output_type": "execute_result"
    }
   ],
   "source": [
    "train_ds = SADataset(train_data, tokenizer)\n",
    "train_ds"
   ]
  },
  {
   "cell_type": "code",
   "execution_count": null,
   "id": "2d156fad",
   "metadata": {},
   "outputs": [],
   "source": [
    "#| export\n",
    "import re\n",
    "\n",
    "def load_datasets(path:Path):\n",
    "    tokenizer = whisper.tokenizer.get_tokenizer(multilingual=True)\n",
    "    data = pd.read_feather(path)\n",
    "    data['txt_tiny_wc'] = data['txt_tiny'].map(lambda x: len(re.findall(r'\\w+', x)))\n",
    "    data['txt_large_wc'] = data['txt_large'].map(lambda x: len(re.findall(r'\\w+', x)))\n",
    "    data['wc_err'] = data['txt_large_wc'] - data['txt_tiny_wc']\n",
    "    data_clean = data[data['wc_err'].abs() < 5]\n",
    "    \n",
    "    val_data, train_data = data_clean[:300], data_clean[300:]\n",
    "\n",
    "    return SADataset(train_data, tokenizer), SADataset(val_data, tokenizer)"
   ]
  },
  {
   "cell_type": "code",
   "execution_count": null,
   "id": "74c763a4",
   "metadata": {},
   "outputs": [],
   "source": [
    "train_ds, val_ds = load_datasets('/root/workspace/whisperspeech-librilight-stoks-txt-small-medium-A.feather')"
   ]
  },
  {
   "cell_type": "markdown",
   "id": "0f5e4ad4",
   "metadata": {},
   "source": [
    "# Modeling"
   ]
  },
  {
   "cell_type": "code",
   "execution_count": null,
   "id": "c0ca5e87",
   "metadata": {},
   "outputs": [],
   "source": [
    "#| export\n",
    "import dataclasses\n",
    "import random\n",
    "\n",
    "def rand(start, end):\n",
    "    return random.random() * (end - start) + start\n",
    "\n",
    "@dataclasses.dataclass\n",
    "class Tunables:\n",
    "    init_std :float = 1\n",
    "    embeddings_std :float = .01\n",
    "    embeddings_lr_scale: float = 5\n",
    "    output_mult :float = .35\n",
    "    query_mult :float = 1\n",
    "    encoder_depth_ratio :float = 0.25\n",
    "        \n",
    "    lr0 :float = 3e-3\n",
    "    clip_gradient_norm :float = .2\n",
    "    weight_decay :float = 1e-5\n",
    "    warmup_steps :float = 4000\n",
    "\n",
    "    random :bool = False\n",
    "\n",
    "    def __post_init__(self):\n",
    "        # randomize the hyperparams if requested\n",
    "        if self.random:\n",
    "#             self.init_std = 10**rand(-3,1)\n",
    "            self.init_std = 10**rand(-1,1)\n",
    "#             self.embeddings_std = 10**rand(-3,1)\n",
    "            self.embeddings_std = 10**rand(-3,-.7)\n",
    "#             self.embeddings_lr_scale = 2**rand(-3,3)\n",
    "            self.embeddings_lr_scale = rand(2,6) #2**rand(0,3)\n",
    "#             self.output_mult = 2**rand(-2,3)\n",
    "            self.output_mult = rand(0.25,0.65)\n",
    "            self.query_mult = 2**rand(-2,3)\n",
    "#             self.encoder_depth_ratio = random.choice([0.25,0.5,0.75])\n",
    "            self.encoder_depth_ratio = 0.25\n",
    "            \n",
    "#             self.lr0 = 10**rand(-4,-1.5)\n",
    "            self.lr0 = rand(1,5)*1e-3\n",
    "            self.clip_gradient_norm = 10**rand(-3,0)\n",
    "            self.warmup_steps = 100*(10**rand(1,1.85))"
   ]
  },
  {
   "cell_type": "code",
   "execution_count": null,
   "id": "01826e0b",
   "metadata": {},
   "outputs": [
    {
     "data": {
      "text/plain": [
       "Tunables(init_std=0.0481705845688257, embeddings_std=0.2013323306023991, embeddings_lr_scale=0.5327118334373016, output_mult=0.3697151643170823, query_mult=16.669647552030334, encoder_depth_ratio=0.25, lr0=0.0063988496046561835, clip_gradient_norm=0.1, weight_decay=1e-05, warmup_steps=109.12804832635688, random=True)"
      ]
     },
     "execution_count": null,
     "metadata": {},
     "output_type": "execute_result"
    }
   ],
   "source": [
    "Tunables(random=True)"
   ]
  },
  {
   "cell_type": "code",
   "execution_count": null,
   "id": "4776e8d7",
   "metadata": {},
   "outputs": [],
   "source": [
    "#| export\n",
    "class Encoder(nn.Module):\n",
    "    def __init__(self, depth=6, width=384, n_head=6, length=1500, codes=1024, ffn_mult=4, pos_embs=None, tunables=Tunables()):\n",
    "        super().__init__()\n",
    "    \n",
    "        self.embedding = nn.Embedding(codes, width)\n",
    "\n",
    "        if pos_embs is None: pos_embs = sinusoids(length, width)\n",
    "        self.register_buffer(\"positional_embedding\", pos_embs)\n",
    "\n",
    "        self.layers = nn.Sequential(*[\n",
    "            ResidualAttentionBlock(width, n_head,\n",
    "                                   qk_scale=tunables.query_mult*8/math.sqrt(width/n_head), ffn_mult=ffn_mult) for _ in range(depth)\n",
    "        ])\n",
    "\n",
    "        self.ln_post = LayerNorm(width)\n",
    "        \n",
    "    def forward(self, Stoks):\n",
    "        xin = self.embedding(Stoks)\n",
    "        \n",
    "        assert xin.shape[1:] == self.positional_embedding.shape, \"incorrect semantic token shape\"\n",
    "        xin = (xin + self.positional_embedding).to(xin.dtype)\n",
    "\n",
    "        return self.ln_post(self.layers(xin))"
   ]
  },
  {
   "cell_type": "code",
   "execution_count": null,
   "id": "57c135d4",
   "metadata": {},
   "outputs": [],
   "source": [
    "#|export\n",
    "class T2SEmbeddingWithPositional(nn.Module):\n",
    "    def __init__(self, width, codes, length=None, pos_embs=None):\n",
    "        super(T2SEmbeddingWithPositional, self).__init__()\n",
    "        self.embedding = nn.Embedding(codes+1, width)\n",
    "        if pos_embs is None: pos_embs = sinusoids(length, width)\n",
    "        self.register_buffer(\"positional_embedding\", pos_embs)\n",
    "\n",
    "    def forward(self, Stoks, xenc_dtype, kv_cache=None):\n",
    "        offset = next(iter(kv_cache.values())).shape[1] if kv_cache else 0\n",
    "        \n",
    "        Sembs = self.embedding(Stoks)\n",
    "        xin = (Sembs + self.positional_embedding[offset : offset + Stoks.shape[1]]).to(xenc_dtype)\n",
    "    \n",
    "        return xin"
   ]
  },
  {
   "cell_type": "code",
   "execution_count": null,
   "id": "695b5064",
   "metadata": {},
   "outputs": [],
   "source": [
    "#| export\n",
    "class Decoder(nn.Module):\n",
    "    def __init__(self, depth=6, width=384, n_head=6, length=1500, codes=1024, ffn_mult=4, pos_embs=None, tunables=Tunables()):\n",
    "        super().__init__()\n",
    "        self.length = length\n",
    "        self.codes = codes\n",
    "    \n",
    "        self.embedding_layer = T2SEmbeddingWithPositional(width, codes, length, pos_embs)\n",
    "        \n",
    "        qk_scale = tunables.query_mult*8/math.sqrt(width/n_head)\n",
    "        self.base_decoder = BaseDecoder(\n",
    "            depth, width, n_head, qk_scale=qk_scale, ffn_mult=ffn_mult, cross_attention=True)\n",
    "        mask = torch.empty(length, length).fill_(-np.inf).triu_(1)\n",
    "        self.register_buffer(\"mask\", mask, persistent=False)\n",
    "\n",
    "    def forward(self, Stoks, xenc, kv_cache=None):\n",
    "        x = self.embedding_layer(Stoks, xenc.dtype, kv_cache)\n",
    "    \n",
    "        x = self.base_decoder(x, xenc, mask=self.mask, kv_cache=kv_cache)\n",
    "        \n",
    "        logits = (x @ self.embedding_layer.embedding.weight.to(x.dtype).T).float()\n",
    "        return logits"
   ]
  },
  {
   "cell_type": "code",
   "execution_count": null,
   "id": "159774b6",
   "metadata": {},
   "outputs": [],
   "source": [
    "#| export\n",
    "class TSARTransformer(nn.Module):\n",
    "    def __init__(self, depth=6, n_head=6, head_width=64, ffn_mult=4, language='en',\n",
    "                 ttoks_len=200, stoks_len=1500, ttoks_codes=50364, stoks_codes=1024,\n",
    "                 tunables=Tunables()):\n",
    "        assert language == 'en', \"only english is supported right now\"\n",
    "        super().__init__()\n",
    "        store_attr(\"depth,n_head,head_width,ttoks_len,stoks_len,ttoks_codes,stoks_codes,language\")\n",
    "\n",
    "        width = n_head * head_width\n",
    "        self.width = width\n",
    "        self.base_width = 3 * head_width\n",
    "        self.tunables = tunables\n",
    "        \n",
    "        encoder_depth = int(depth * 2 * tunables.encoder_depth_ratio)\n",
    "        decoder_depth = depth * 2 - encoder_depth\n",
    "        tformer_args = dict(width=width, n_head=n_head, ffn_mult=ffn_mult, tunables=tunables)\n",
    "        self.encoder = Encoder(length=ttoks_len, codes=ttoks_codes, depth=encoder_depth, **tformer_args)\n",
    "        \n",
    "        self.embedding_layer = T2SEmbeddingWithPositional(width, stoks_codes, stoks_len)\n",
    "        \n",
    "        qk_scale = tunables.query_mult*8/math.sqrt(width/n_head)\n",
    "        self.decoder = BaseDecoder(\n",
    "            decoder_depth,\n",
    "            width,\n",
    "            n_head,\n",
    "            qk_scale=qk_scale,\n",
    "            ffn_mult=ffn_mult,\n",
    "            length=stoks_len,\n",
    "            cross_attention=True\n",
    "        )\n",
    "        \n",
    "        self.tokenizer = None\n",
    "        \n",
    "        self.apply(self.init_transformer)\n",
    "\n",
    "    def init_transformer(self, m):\n",
    "        if isinstance(m, LinearHead):\n",
    "            m.no_weight_decay = True\n",
    "            torch.nn.init.constant_(m.weight, 0)\n",
    "        elif isinstance(m, QueryHead):\n",
    "            m.lr_scale = 1/(m.weight.shape[1] / self.base_width)\n",
    "            torch.nn.init.constant_(m.weight, 0)\n",
    "        elif isinstance(m, nn.Embedding):\n",
    "            m.no_weight_decay = True\n",
    "            m.lr_scale = self.tunables.embeddings_lr_scale\n",
    "            std = self.tunables.embeddings_std\n",
    "            torch.nn.init.trunc_normal_(m.weight, std=std, a=-3*std, b=3*std)\n",
    "        elif isinstance(m, nn.Linear):\n",
    "            m.lr_scale = 1/(m.weight.shape[1] / self.base_width)\n",
    "            std = self.tunables.init_std / m.weight.shape[1]\n",
    "            torch.nn.init.trunc_normal_(m.weight, std=std, a=-3*std, b=3*std)\n",
    "            if m.bias is not None:\n",
    "                torch.nn.init.trunc_normal_(m.bias, std=std, a=-3*std, b=3*std)\n",
    "        elif isinstance(m, nn.LayerNorm):\n",
    "            m.no_weight_decay = True\n",
    "            torch.nn.init.constant_(m.bias, 0)\n",
    "            torch.nn.init.constant_(m.weight, 1)\n",
    "        \n",
    "    def forward(self, Ttoks, Stoks, loss=True, kv_cache=None):\n",
    "        with record_function(\"encoder\"):\n",
    "            xenc = self.encoder(Ttoks.to(torch.long))\n",
    "        with record_function(\"decoder\"):\n",
    "            x = self.embedding_layer(Stoks, xenc.dtype, kv_cache)\n",
    "    \n",
    "            x = self.decoder(x, xenc, kv_cache=kv_cache)\n",
    "\n",
    "            logits = (x @ self.embedding_layer.embedding.weight.to(x.dtype).T).float()\n",
    "            logits *= self.tunables.output_mult / (self.width / self.base_width)\n",
    "        if loss is not None:\n",
    "            with record_function(\"loss\"):\n",
    "                loss = F.cross_entropy(logits.reshape(-1,logits.shape[-1]), Stoks.view(-1))\n",
    "        return logits, loss\n",
    "\n",
    "    #\n",
    "    # inference\n",
    "    #\n",
    "    @classmethod\n",
    "    def load_model(cls, repo_id=\"collabora/whisperspeech\", filename=\"t2s_up.model\", local_filename=None):\n",
    "        if not local_filename:\n",
    "            local_filename = hf_hub_download(repo_id=repo_id, filename=filename)\n",
    "        spec = torch.load(local_filename)\n",
    "        model = cls(**spec['config'], tunables=Tunables(**spec['tunables']))\n",
    "        model.load_state_dict(spec['state_dict'])\n",
    "        model.eval()\n",
    "        return model\n",
    "\n",
    "    def load_checkpoint(self, local_filename):\n",
    "        spec = torch.load(local_filename, map_location='cpu')\n",
    "        assert 'pytorch-lightning_version' in spec, 'not a valid PyTorch Lightning checkpoint'\n",
    "        state_dict = {k.replace('model.', ''):v\n",
    "                      for k,v in spec['state_dict'].items()}\n",
    "        self.load_state_dict(state_dict)\n",
    "        return self\n",
    "\n",
    "    def save_model(self, fname):\n",
    "        torch.save(dict(config = self.__stored_args__,\n",
    "                        tunables = dataclasses.asdict(self.tunables),\n",
    "                        state_dict = self.state_dict()), fname)\n",
    "\n",
    "    def ensure_tokenizer(self):\n",
    "        assert not self.training\n",
    "        if self.tokenizer is None: self.tokenizer = whisper.tokenizer.get_tokenizer(multilingual=True)\n",
    "\n",
    "    @property\n",
    "    def device(self):\n",
    "        return next(self.parameters()).device\n",
    "    \n",
    "    @torch.no_grad()\n",
    "    def generate(self, txt, N=None, T=0.7, top_k=None, kv_cache=None):\n",
    "        self.ensure_tokenizer()\n",
    "        N = N or self.stoks_len\n",
    "        dev = self.device\n",
    "        ttoks = torch.tensor(self.tokenizer.encode(txt), device=dev)\n",
    "        ttoks = F.pad(ttoks, (0, self.ttoks_len - len(ttoks)), value=self.tokenizer.eot).unsqueeze(0)\n",
    "        toks = torch.zeros((1,N), dtype=torch.long, device=dev)\n",
    "        toks[0,0] = 1024\n",
    "        for i in progress_bar(range(1, N)):\n",
    "            toks_ = toks[:, :i]\n",
    "            \n",
    "            # send only the last token\n",
    "            if kv_cache:\n",
    "                toks_ = toks_[:, -1:]\n",
    "                \n",
    "            p, _ = self(ttoks, toks_, loss=None, kv_cache=kv_cache)\n",
    "            last_p = p[0,-1]\n",
    "            if top_k:\n",
    "                last_p[last_p < torch.topk(last_p, top_k).values[-1,None]] = -torch.inf\n",
    "            tok = torch.multinomial((last_p / float(T)).softmax(-1), 1)\n",
    "            toks[0,i] = tok\n",
    "            if toks[0,i] == 1024: return toks[0,:i]\n",
    "        return toks[0]\n",
    "    \n",
    "    def install_kv_cache_hooks(self, cache = None):\n",
    "        \"\"\"\n",
    "        The `MultiHeadAttention` module optionally accepts `kv_cache` which stores the key and value\n",
    "        tensors calculated for the previous positions. This method returns a dictionary that stores\n",
    "        all caches, and the necessary hooks for the key and value projection modules that save the\n",
    "        intermediate tensors to be reused during later calculations.\n",
    "\n",
    "        Returns\n",
    "        -------\n",
    "        cache : Dict[nn.Module, torch.Tensor]\n",
    "            A dictionary object mapping the key/value projection modules to its cache\n",
    "        hooks : List[RemovableHandle]\n",
    "            List of PyTorch RemovableHandle objects to stop the hooks to be called\n",
    "        \"\"\"\n",
    "        cache = {**cache} if cache is not None else {}\n",
    "        hooks = []\n",
    "\n",
    "        def save_to_cache(module, _, output):\n",
    "            if module not in cache:\n",
    "                # save as-is, for the first token or cross attention\n",
    "                cache[module] = output\n",
    "            else:\n",
    "                cache[module] = torch.cat([cache[module], output], dim=1).detach()\n",
    "            return cache[module]\n",
    "\n",
    "        def install_hooks(layer: nn.Module):\n",
    "            if isinstance(layer, MultiHeadAttention):\n",
    "                hooks.append(layer.key.register_forward_hook(save_to_cache))\n",
    "                hooks.append(layer.value.register_forward_hook(save_to_cache))\n",
    "\n",
    "        self.decoder.apply(install_hooks)\n",
    "        return cache, hooks"
   ]
  },
  {
   "cell_type": "code",
   "execution_count": null,
   "id": "79cfd442",
   "metadata": {},
   "outputs": [],
   "source": [
    "model = make_model('tiny', dataset=train_ds).load_checkpoint('t2s_up-20e-ce1.15.ckpt')"
   ]
  },
  {
   "cell_type": "code",
   "execution_count": null,
   "id": "30b1ddd5",
   "metadata": {},
   "outputs": [],
   "source": [
    "model.save_model('t2s_up.model')"
   ]
  },
  {
   "cell_type": "code",
   "execution_count": null,
   "id": "e98060d6",
   "metadata": {},
   "outputs": [],
   "source": [
    "#| export\n",
    "def make_model(size:str, tunables:Tunables=Tunables(), dataset:SADataset=None):\n",
    "    kwargs = dict(stoks_len = dataset.stoks_len, ttoks_len = dataset.ttoks_len, tunables=tunables)\n",
    "    if size == 'micro':\n",
    "        return TSARTransformer(depth=2, n_head=3, ffn_mult=1, **kwargs)\n",
    "    if size == 'tiny':\n",
    "        return TSARTransformer(depth=4, n_head=6, **kwargs)\n",
    "    if size == 'base':\n",
    "        return TSARTransformer(depth=6, n_head=8, **kwargs)\n",
    "    if size == 'small':\n",
    "        return TSARTransformer(depth=12, n_head=16, **kwargs)"
   ]
  },
  {
   "cell_type": "code",
   "execution_count": null,
   "id": "a4853d59",
   "metadata": {},
   "outputs": [
    {
     "data": {
      "text/html": [],
      "text/plain": [
       "<IPython.core.display.HTML object>"
      ]
     },
     "metadata": {},
     "output_type": "display_data"
    },
    {
     "data": {
      "text/html": [
       "\n",
       "<style>\n",
       "    /* Turns off some styling */\n",
       "    progress {\n",
       "        /* gets rid of default border in Firefox and Opera. */\n",
       "        border: none;\n",
       "        /* Needs to be in here for Safari polyfill so background images work as expected. */\n",
       "        background-size: auto;\n",
       "    }\n",
       "    progress:not([value]), progress:not([value])::-webkit-progress-bar {\n",
       "        background: repeating-linear-gradient(45deg, #7e7e7e, #7e7e7e 10px, #5c5c5c 10px, #5c5c5c 20px);\n",
       "    }\n",
       "    .progress-bar-interrupted, .progress-bar-interrupted::-webkit-progress-bar {\n",
       "        background: #F44336;\n",
       "    }\n",
       "</style>\n"
      ],
      "text/plain": [
       "<IPython.core.display.HTML object>"
      ]
     },
     "metadata": {},
     "output_type": "display_data"
    },
    {
     "data": {
      "text/html": [
       "\n",
       "    <div>\n",
       "      <progress value='1' class='' max='1' style='width:300px; height:20px; vertical-align: middle;'></progress>\n",
       "      100.00% [1/1 13:36&lt;00:00]\n",
       "    </div>\n",
       "    \n",
       "<table border=\"1\" class=\"dataframe\">\n",
       "  <thead>\n",
       "    <tr style=\"text-align: left;\">\n",
       "      <th>samples</th>\n",
       "      <th>train</th>\n",
       "      <th>val</th>\n",
       "      <th>time</th>\n",
       "    </tr>\n",
       "  </thead>\n",
       "  <tbody>\n",
       "    <tr>\n",
       "      <td>20000</td>\n",
       "      <td>2.93531</td>\n",
       "      <td>3.08976</td>\n",
       "      <td>02:06</td>\n",
       "    </tr>\n",
       "    <tr>\n",
       "      <td>40000</td>\n",
       "      <td>2.40885</td>\n",
       "      <td>2.46782</td>\n",
       "      <td>03:47</td>\n",
       "    </tr>\n",
       "    <tr>\n",
       "      <td>60000</td>\n",
       "      <td>2.24459</td>\n",
       "      <td>2.34386</td>\n",
       "      <td>05:41</td>\n",
       "    </tr>\n",
       "    <tr>\n",
       "      <td>80000</td>\n",
       "      <td>2.25632</td>\n",
       "      <td>2.26977</td>\n",
       "      <td>07:34</td>\n",
       "    </tr>\n",
       "    <tr>\n",
       "      <td>100000</td>\n",
       "      <td>2.12768</td>\n",
       "      <td>2.20723</td>\n",
       "      <td>09:35</td>\n",
       "    </tr>\n",
       "    <tr>\n",
       "      <td>120000</td>\n",
       "      <td>2.07301</td>\n",
       "      <td>2.15234</td>\n",
       "      <td>11:30</td>\n",
       "    </tr>\n",
       "    <tr>\n",
       "      <td>140000</td>\n",
       "      <td>2.11128</td>\n",
       "      <td>2.12581</td>\n",
       "      <td>13:33</td>\n",
       "    </tr>\n",
       "    <tr>\n",
       "      <td>140368</td>\n",
       "      <td>2.09136</td>\n",
       "      <td>2.12533</td>\n",
       "      <td>13:36</td>\n",
       "    </tr>\n",
       "  </tbody>\n",
       "</table><p>\n",
       "\n",
       "    <div>\n",
       "      <progress value='8773' class='' max='8773' style='width:300px; height:20px; vertical-align: middle;'></progress>\n",
       "      100.00% [8773/8773 13:36&lt;00:00 #1/1 loss: 2.091 / 2.125]\n",
       "    </div>\n",
       "    "
      ],
      "text/plain": [
       "<IPython.core.display.HTML object>"
      ]
     },
     "metadata": {},
     "output_type": "display_data"
    },
    {
     "data": {
      "image/png": "[encoded data removed]",
      "text/plain": [
       "<Figure size 1000x600 with 2 Axes>"
      ]
     },
     "metadata": {},
     "output_type": "display_data"
    }
   ],
   "source": [
    "# make sure it works at all\n",
    "model = TSARTransformer(depth=3).cuda()\n",
    "train(\"/scrach/tsar-checkpoints\", model, train_ds, val_ds, half=True, bs=16, lr=4e-3, epochs=1,\n",
    "      table_row_every_iters=20000, run_valid_every_iters=4000)"
   ]
  },
  {
   "cell_type": "code",
   "execution_count": null,
   "id": "f014cca5",
   "metadata": {},
   "outputs": [
    {
     "data": {
      "text/html": [],
      "text/plain": [
       "<IPython.core.display.HTML object>"
      ]
     },
     "metadata": {},
     "output_type": "display_data"
    },
    {
     "data": {
      "text/html": [
       "\n",
       "<style>\n",
       "    /* Turns off some styling */\n",
       "    progress {\n",
       "        /* gets rid of default border in Firefox and Opera. */\n",
       "        border: none;\n",
       "        /* Needs to be in here for Safari polyfill so background images work as expected. */\n",
       "        background-size: auto;\n",
       "    }\n",
       "    progress:not([value]), progress:not([value])::-webkit-progress-bar {\n",
       "        background: repeating-linear-gradient(45deg, #7e7e7e, #7e7e7e 10px, #5c5c5c 10px, #5c5c5c 20px);\n",
       "    }\n",
       "    .progress-bar-interrupted, .progress-bar-interrupted::-webkit-progress-bar {\n",
       "        background: #F44336;\n",
       "    }\n",
       "</style>\n"
      ],
      "text/plain": [
       "<IPython.core.display.HTML object>"
      ]
     },
     "metadata": {},
     "output_type": "display_data"
    },
    {
     "data": {
      "text/html": [
       "\n",
       "    <div>\n",
       "      <progress value='0' class='' max='1' style='width:300px; height:20px; vertical-align: middle;'></progress>\n",
       "      0.00% [0/1 00:00&lt;?]\n",
       "    </div>\n",
       "    \n",
       "<table border=\"1\" class=\"dataframe\">\n",
       "  <thead>\n",
       "    <tr style=\"text-align: left;\">\n",
       "      <th>samples</th>\n",
       "      <th>train</th>\n",
       "      <th>val</th>\n",
       "      <th>time</th>\n",
       "    </tr>\n",
       "  </thead>\n",
       "  <tbody>\n",
       "    <tr>\n",
       "      <td>5632</td>\n",
       "      <td>0.99745</td>\n",
       "      <td>0.90978</td>\n",
       "      <td>00:13</td>\n",
       "    </tr>\n",
       "  </tbody>\n",
       "</table><p>\n",
       "\n",
       "    <div>\n",
       "      <progress value='44' class='' max='7513' style='width:300px; height:20px; vertical-align: middle;'></progress>\n",
       "      0.59% [44/7513 00:12&lt;36:41 #5632/961606 loss: 0.997 / 0.910]\n",
       "    </div>\n",
       "    "
      ],
      "text/plain": [
       "<IPython.core.display.HTML object>"
      ]
     },
     "metadata": {},
     "output_type": "display_data"
    },
    {
     "data": {
      "image/png": "[encoded data removed]",
      "text/plain": [
       "<Figure size 1000x600 with 2 Axes>"
      ]
     },
     "metadata": {},
     "output_type": "display_data"
    }
   ],
   "source": [
    "# make sure it works at all\n",
    "model = make_model('micro', dataset=train_ds).cuda()\n",
    "train(\"tsar-wx\", model, train_ds, val_ds, half=True, bs=128, lr=4e-3, epochs=1,\n",
    "      warmup_steps=1000, weight_decay=1e-5, clip_gradient_norm=0.1,\n",
    "      table_row_every_iters=20000, run_valid_every_iters=4000)"
   ]
  },
  {
   "cell_type": "code",
   "execution_count": null,
   "id": "d00d0cad",
   "metadata": {},
   "outputs": [
    {
     "data": {
      "text/html": [],
      "text/plain": [
       "<IPython.core.display.HTML object>"
      ]
     },
     "metadata": {},
     "output_type": "display_data"
    },
    {
     "data": {
      "text/html": [
       "\n",
       "<style>\n",
       "    /* Turns off some styling */\n",
       "    progress {\n",
       "        /* gets rid of default border in Firefox and Opera. */\n",
       "        border: none;\n",
       "        /* Needs to be in here for Safari polyfill so background images work as expected. */\n",
       "        background-size: auto;\n",
       "    }\n",
       "    progress:not([value]), progress:not([value])::-webkit-progress-bar {\n",
       "        background: repeating-linear-gradient(45deg, #7e7e7e, #7e7e7e 10px, #5c5c5c 10px, #5c5c5c 20px);\n",
       "    }\n",
       "    .progress-bar-interrupted, .progress-bar-interrupted::-webkit-progress-bar {\n",
       "        background: #F44336;\n",
       "    }\n",
       "</style>\n"
      ],
      "text/plain": [
       "<IPython.core.display.HTML object>"
      ]
     },
     "metadata": {},
     "output_type": "display_data"
    },
    {
     "data": {
      "text/html": [
       "\n",
       "    <div>\n",
       "      <progress value='1' class='' max='1' style='width:300px; height:20px; vertical-align: middle;'></progress>\n",
       "      100.00% [1/1 05:10&lt;00:00]\n",
       "    </div>\n",
       "    \n",
       "<table border=\"1\" class=\"dataframe\">\n",
       "  <thead>\n",
       "    <tr style=\"text-align: left;\">\n",
       "      <th>samples</th>\n",
       "      <th>train</th>\n",
       "      <th>val</th>\n",
       "      <th>time</th>\n",
       "    </tr>\n",
       "  </thead>\n",
       "  <tbody>\n",
       "    <tr>\n",
       "      <td>20000</td>\n",
       "      <td>3.00902</td>\n",
       "      <td>3.07516</td>\n",
       "      <td>00:44</td>\n",
       "    </tr>\n",
       "    <tr>\n",
       "      <td>40000</td>\n",
       "      <td>2.38150</td>\n",
       "      <td>2.44922</td>\n",
       "      <td>01:28</td>\n",
       "    </tr>\n",
       "    <tr>\n",
       "      <td>60000</td>\n",
       "      <td>2.31558</td>\n",
       "      <td>2.31341</td>\n",
       "      <td>02:12</td>\n",
       "    </tr>\n",
       "    <tr>\n",
       "      <td>80000</td>\n",
       "      <td>2.22452</td>\n",
       "      <td>2.24761</td>\n",
       "      <td>02:56</td>\n",
       "    </tr>\n",
       "    <tr>\n",
       "      <td>100000</td>\n",
       "      <td>2.13597</td>\n",
       "      <td>2.17813</td>\n",
       "      <td>03:40</td>\n",
       "    </tr>\n",
       "    <tr>\n",
       "      <td>120000</td>\n",
       "      <td>2.11299</td>\n",
       "      <td>2.11441</td>\n",
       "      <td>04:24</td>\n",
       "    </tr>\n",
       "    <tr>\n",
       "      <td>140000</td>\n",
       "      <td>2.08276</td>\n",
       "      <td>2.08359</td>\n",
       "      <td>05:08</td>\n",
       "    </tr>\n",
       "    <tr>\n",
       "      <td>140368</td>\n",
       "      <td>2.03694</td>\n",
       "      <td>2.08263</td>\n",
       "      <td>05:10</td>\n",
       "    </tr>\n",
       "  </tbody>\n",
       "</table><p>\n",
       "\n",
       "    <div>\n",
       "      <progress value='8773' class='' max='8773' style='width:300px; height:20px; vertical-align: middle;'></progress>\n",
       "      100.00% [8773/8773 05:09&lt;00:00 #140368/140359 loss: 2.037 / 2.083]\n",
       "    </div>\n",
       "    "
      ],
      "text/plain": [
       "<IPython.core.display.HTML object>"
      ]
     },
     "metadata": {},
     "output_type": "display_data"
    },
    {
     "data": {
      "image/png": "[encoded data removed]",
      "text/plain": [
       "<Figure size 1000x600 with 2 Axes>"
      ]
     },
     "metadata": {},
     "output_type": "display_data"
    }
   ],
   "source": [
    "# make sure it works at all\n",
    "model = TSARTransformer(depth=3).cuda()\n",
    "train(\"tsar\", model, train_ds, val_ds, half=True, bs=16, lr=4e-3, epochs=1,\n",
    "      table_row_every_iters=20000, run_valid_every_iters=4000)"
   ]
  },
  {
   "cell_type": "code",
   "execution_count": null,
   "id": "fbe513b6",
   "metadata": {},
   "outputs": [
    {
     "data": {
      "text/html": [],
      "text/plain": [
       "<IPython.core.display.HTML object>"
      ]
     },
     "metadata": {},
     "output_type": "display_data"
    },
    {
     "data": {
      "text/html": [
       "\n",
       "<style>\n",
       "    /* Turns off some styling */\n",
       "    progress {\n",
       "        /* gets rid of default border in Firefox and Opera. */\n",
       "        border: none;\n",
       "        /* Needs to be in here for Safari polyfill so background images work as expected. */\n",
       "        background-size: auto;\n",
       "    }\n",
       "    progress:not([value]), progress:not([value])::-webkit-progress-bar {\n",
       "        background: repeating-linear-gradient(45deg, #7e7e7e, #7e7e7e 10px, #5c5c5c 10px, #5c5c5c 20px);\n",
       "    }\n",
       "    .progress-bar-interrupted, .progress-bar-interrupted::-webkit-progress-bar {\n",
       "        background: #F44336;\n",
       "    }\n",
       "</style>\n"
      ],
      "text/plain": [
       "<IPython.core.display.HTML object>"
      ]
     },
     "metadata": {},
     "output_type": "display_data"
    },
    {
     "data": {
      "text/html": [
       "\n",
       "    <div>\n",
       "      <progress value='1' class='' max='1' style='width:300px; height:20px; vertical-align: middle;'></progress>\n",
       "      100.00% [1/1 03:31&lt;00:00]\n",
       "    </div>\n",
       "    \n",
       "<table border=\"1\" class=\"dataframe\">\n",
       "  <thead>\n",
       "    <tr style=\"text-align: left;\">\n",
       "      <th>samples</th>\n",
       "      <th>train</th>\n",
       "      <th>val</th>\n",
       "      <th>time</th>\n",
       "    </tr>\n",
       "  </thead>\n",
       "  <tbody>\n",
       "    <tr>\n",
       "      <td>20000</td>\n",
       "      <td>2.87718</td>\n",
       "      <td>3.04448</td>\n",
       "      <td>00:29</td>\n",
       "    </tr>\n",
       "    <tr>\n",
       "      <td>40000</td>\n",
       "      <td>2.43829</td>\n",
       "      <td>2.42752</td>\n",
       "      <td>01:00</td>\n",
       "    </tr>\n",
       "    <tr>\n",
       "      <td>60000</td>\n",
       "      <td>2.22168</td>\n",
       "      <td>2.31068</td>\n",
       "      <td>01:29</td>\n",
       "    </tr>\n",
       "    <tr>\n",
       "      <td>80000</td>\n",
       "      <td>2.25326</td>\n",
       "      <td>2.25181</td>\n",
       "      <td>01:59</td>\n",
       "    </tr>\n",
       "    <tr>\n",
       "      <td>100000</td>\n",
       "      <td>2.16739</td>\n",
       "      <td>2.19970</td>\n",
       "      <td>02:29</td>\n",
       "    </tr>\n",
       "    <tr>\n",
       "      <td>120000</td>\n",
       "      <td>2.07759</td>\n",
       "      <td>2.15864</td>\n",
       "      <td>02:59</td>\n",
       "    </tr>\n",
       "    <tr>\n",
       "      <td>140000</td>\n",
       "      <td>2.15506</td>\n",
       "      <td>2.13614</td>\n",
       "      <td>03:30</td>\n",
       "    </tr>\n",
       "    <tr>\n",
       "      <td>140368</td>\n",
       "      <td>2.12502</td>\n",
       "      <td>2.13556</td>\n",
       "      <td>03:31</td>\n",
       "    </tr>\n",
       "  </tbody>\n",
       "</table><p>\n",
       "\n",
       "    <div>\n",
       "      <progress value='8773' class='' max='8773' style='width:300px; height:20px; vertical-align: middle;'></progress>\n",
       "      100.00% [8773/8773 03:31&lt;00:00 #140368/140359 loss: 2.125 / 2.136]\n",
       "    </div>\n",
       "    "
      ],
      "text/plain": [
       "<IPython.core.display.HTML object>"
      ]
     },
     "metadata": {},
     "output_type": "display_data"
    },
    {
     "data": {
      "image/png": "[encoded data removed]",
      "text/plain": [
       "<Figure size 1000x600 with 2 Axes>"
      ]
     },
     "metadata": {},
     "output_type": "display_data"
    }
   ],
   "source": [
    "# make sure it works at all\n",
    "model = TSARTransformer(depth=3).cuda()\n",
    "train(\"tsar\", model, train_ds, val_ds, half=True, bs=16, lr=4e-3, epochs=1,\n",
    "      table_row_every_iters=20000, run_valid_every_iters=4000)"
   ]
  },
  {
   "cell_type": "code",
   "execution_count": null,
   "id": "fd58189f",
   "metadata": {},
   "outputs": [
    {
     "data": {
      "text/html": [],
      "text/plain": [
       "<IPython.core.display.HTML object>"
      ]
     },
     "metadata": {},
     "output_type": "display_data"
    },
    {
     "data": {
      "text/html": [
       "\n",
       "<style>\n",
       "    /* Turns off some styling */\n",
       "    progress {\n",
       "        /* gets rid of default border in Firefox and Opera. */\n",
       "        border: none;\n",
       "        /* Needs to be in here for Safari polyfill so background images work as expected. */\n",
       "        background-size: auto;\n",
       "    }\n",
       "    progress:not([value]), progress:not([value])::-webkit-progress-bar {\n",
       "        background: repeating-linear-gradient(45deg, #7e7e7e, #7e7e7e 10px, #5c5c5c 10px, #5c5c5c 20px);\n",
       "    }\n",
       "    .progress-bar-interrupted, .progress-bar-interrupted::-webkit-progress-bar {\n",
       "        background: #F44336;\n",
       "    }\n",
       "</style>\n"
      ],
      "text/plain": [
       "<IPython.core.display.HTML object>"
      ]
     },
     "metadata": {},
     "output_type": "display_data"
    },
    {
     "data": {
      "text/html": [
       "<table border=\"1\" class=\"dataframe\">\n",
       "  <thead>\n",
       "    <tr style=\"text-align: left;\">\n",
       "      <th>samples</th>\n",
       "      <th>train</th>\n",
       "      <th>val</th>\n",
       "      <th>time</th>\n",
       "    </tr>\n",
       "  </thead>\n",
       "  <tbody>\n",
       "    <tr>\n",
       "      <td>80000</td>\n",
       "      <td>2.56269</td>\n",
       "      <td>2.83687</td>\n",
       "      <td>22:59</td>\n",
       "    </tr>\n",
       "    <tr>\n",
       "      <td>160000</td>\n",
       "      <td>2.26247</td>\n",
       "      <td>2.39995</td>\n",
       "      <td>41:30</td>\n",
       "    </tr>\n",
       "    <tr>\n",
       "      <td>240000</td>\n",
       "      <td>2.16594</td>\n",
       "      <td>2.27455</td>\n",
       "      <td>47:38</td>\n",
       "    </tr>\n",
       "    <tr>\n",
       "      <td>320000</td>\n",
       "      <td>1.96548</td>\n",
       "      <td>2.00825</td>\n",
       "      <td>54:08</td>\n",
       "    </tr>\n",
       "    <tr>\n",
       "      <td>400000</td>\n",
       "      <td>1.86841</td>\n",
       "      <td>1.88929</td>\n",
       "      <td>1:01:07</td>\n",
       "    </tr>\n",
       "    <tr>\n",
       "      <td>480000</td>\n",
       "      <td>1.82314</td>\n",
       "      <td>1.85076</td>\n",
       "      <td>1:07:27</td>\n",
       "    </tr>\n",
       "    <tr>\n",
       "      <td>560000</td>\n",
       "      <td>1.83932</td>\n",
       "      <td>1.81487</td>\n",
       "      <td>1:13:35</td>\n",
       "    </tr>\n",
       "    <tr>\n",
       "      <td>640000</td>\n",
       "      <td>1.80581</td>\n",
       "      <td>1.79792</td>\n",
       "      <td>1:19:55</td>\n",
       "    </tr>\n",
       "    <tr>\n",
       "      <td>720000</td>\n",
       "      <td>1.74787</td>\n",
       "      <td>1.78892</td>\n",
       "      <td>1:26:10</td>\n",
       "    </tr>\n",
       "    <tr>\n",
       "      <td>800000</td>\n",
       "      <td>1.79779</td>\n",
       "      <td>1.78353</td>\n",
       "      <td>1:32:32</td>\n",
       "    </tr>\n",
       "    <tr>\n",
       "      <td>880000</td>\n",
       "      <td>1.78870</td>\n",
       "      <td>1.78328</td>\n",
       "      <td>1:38:44</td>\n",
       "    </tr>\n",
       "    <tr>\n",
       "      <td>960000</td>\n",
       "      <td>1.74307</td>\n",
       "      <td>1.77828</td>\n",
       "      <td>1:44:58</td>\n",
       "    </tr>\n",
       "    <tr>\n",
       "      <td>1040000</td>\n",
       "      <td>1.66399</td>\n",
       "      <td>1.76878</td>\n",
       "      <td>1:51:11</td>\n",
       "    </tr>\n",
       "    <tr>\n",
       "      <td>1120000</td>\n",
       "      <td>1.78734</td>\n",
       "      <td>1.76162</td>\n",
       "      <td>1:57:22</td>\n",
       "    </tr>\n",
       "    <tr>\n",
       "      <td>1200000</td>\n",
       "      <td>1.74291</td>\n",
       "      <td>1.75627</td>\n",
       "      <td>2:03:33</td>\n",
       "    </tr>\n",
       "    <tr>\n",
       "      <td>1280000</td>\n",
       "      <td>1.77040</td>\n",
       "      <td>1.74938</td>\n",
       "      <td>2:09:42</td>\n",
       "    </tr>\n",
       "    <tr>\n",
       "      <td>1360000</td>\n",
       "      <td>1.73132</td>\n",
       "      <td>1.74514</td>\n",
       "      <td>2:16:01</td>\n",
       "    </tr>\n",
       "    <tr>\n",
       "      <td>1440000</td>\n",
       "      <td>1.75393</td>\n",
       "      <td>1.74387</td>\n",
       "      <td>2:22:16</td>\n",
       "    </tr>\n",
       "    <tr>\n",
       "      <td>1520000</td>\n",
       "      <td>1.66232</td>\n",
       "      <td>1.73543</td>\n",
       "      <td>2:28:28</td>\n",
       "    </tr>\n",
       "    <tr>\n",
       "      <td>1600000</td>\n",
       "      <td>1.69324</td>\n",
       "      <td>1.73118</td>\n",
       "      <td>2:34:47</td>\n",
       "    </tr>\n",
       "    <tr>\n",
       "      <td>1680000</td>\n",
       "      <td>1.68501</td>\n",
       "      <td>1.72626</td>\n",
       "      <td>2:41:03</td>\n",
       "    </tr>\n",
       "    <tr>\n",
       "      <td>1760000</td>\n",
       "      <td>1.70389</td>\n",
       "      <td>1.71939</td>\n",
       "      <td>2:47:19</td>\n",
       "    </tr>\n",
       "    <tr>\n",
       "      <td>1840000</td>\n",
       "      <td>1.68793</td>\n",
       "      <td>1.71493</td>\n",
       "      <td>2:53:36</td>\n",
       "    </tr>\n",
       "    <tr>\n",
       "      <td>1920000</td>\n",
       "      <td>1.63555</td>\n",
       "      <td>1.70718</td>\n",
       "      <td>2:59:48</td>\n",
       "    </tr>\n",
       "    <tr>\n",
       "      <td>2000000</td>\n",
       "      <td>1.63574</td>\n",
       "      <td>1.70242</td>\n",
       "      <td>3:05:54</td>\n",
       "    </tr>\n",
       "    <tr>\n",
       "      <td>2080000</td>\n",
       "      <td>1.65461</td>\n",
       "      <td>1.69481</td>\n",
       "      <td>3:12:09</td>\n",
       "    </tr>\n",
       "    <tr>\n",
       "      <td>2160000</td>\n",
       "      <td>1.64555</td>\n",
       "      <td>1.68704</td>\n",
       "      <td>3:18:25</td>\n",
       "    </tr>\n",
       "    <tr>\n",
       "      <td>2240000</td>\n",
       "      <td>1.62322</td>\n",
       "      <td>1.68100</td>\n",
       "      <td>3:24:48</td>\n",
       "    </tr>\n",
       "    <tr>\n",
       "      <td>2320000</td>\n",
       "      <td>1.66849</td>\n",
       "      <td>1.67832</td>\n",
       "      <td>3:31:07</td>\n",
       "    </tr>\n",
       "    <tr>\n",
       "      <td>2400000</td>\n",
       "      <td>1.68997</td>\n",
       "      <td>1.66812</td>\n",
       "      <td>3:37:22</td>\n",
       "    </tr>\n",
       "    <tr>\n",
       "      <td>2480000</td>\n",
       "      <td>1.60114</td>\n",
       "      <td>1.66068</td>\n",
       "      <td>3:43:26</td>\n",
       "    </tr>\n",
       "    <tr>\n",
       "      <td>2560000</td>\n",
       "      <td>1.59099</td>\n",
       "      <td>1.65411</td>\n",
       "      <td>3:49:36</td>\n",
       "    </tr>\n",
       "    <tr>\n",
       "      <td>2640000</td>\n",
       "      <td>1.56531</td>\n",
       "      <td>1.64151</td>\n",
       "      <td>3:55:43</td>\n",
       "    </tr>\n",
       "    <tr>\n",
       "      <td>2720000</td>\n",
       "      <td>1.54572</td>\n",
       "      <td>1.63576</td>\n",
       "      <td>4:01:49</td>\n",
       "    </tr>\n",
       "    <tr>\n",
       "      <td>2800000</td>\n",
       "      <td>1.58271</td>\n",
       "      <td>1.62604</td>\n",
       "      <td>4:07:57</td>\n",
       "    </tr>\n",
       "    <tr>\n",
       "      <td>2880000</td>\n",
       "      <td>1.56368</td>\n",
       "      <td>1.61911</td>\n",
       "      <td>4:14:27</td>\n",
       "    </tr>\n",
       "    <tr>\n",
       "      <td>2960000</td>\n",
       "      <td>1.52660</td>\n",
       "      <td>1.60916</td>\n",
       "      <td>4:20:53</td>\n",
       "    </tr>\n",
       "    <tr>\n",
       "      <td>3040000</td>\n",
       "      <td>1.52538</td>\n",
       "      <td>1.60165</td>\n",
       "      <td>4:27:04</td>\n",
       "    </tr>\n",
       "    <tr>\n",
       "      <td>3120000</td>\n",
       "      <td>1.51891</td>\n",
       "      <td>1.59460</td>\n",
       "      <td>4:33:15</td>\n",
       "    </tr>\n",
       "    <tr>\n",
       "      <td>3200000</td>\n",
       "      <td>1.52464</td>\n",
       "      <td>1.58767</td>\n",
       "      <td>4:39:53</td>\n",
       "    </tr>\n",
       "    <tr>\n",
       "      <td>3280000</td>\n",
       "      <td>1.46514</td>\n",
       "      <td>1.58307</td>\n",
       "      <td>4:46:08</td>\n",
       "    </tr>\n",
       "    <tr>\n",
       "      <td>3360000</td>\n",
       "      <td>1.48269</td>\n",
       "      <td>1.57895</td>\n",
       "      <td>4:52:27</td>\n",
       "    </tr>\n",
       "    <tr>\n",
       "      <td>3440000</td>\n",
       "      <td>1.51657</td>\n",
       "      <td>1.57807</td>\n",
       "      <td>4:59:13</td>\n",
       "    </tr>\n",
       "  </tbody>\n",
       "</table>"
      ],
      "text/plain": [
       "<IPython.core.display.HTML object>"
      ]
     },
     "metadata": {},
     "output_type": "display_data"
    },
    {
     "data": {
      "image/png": "[encoded data removed]",
      "text/plain": [
       "<Figure size 1000x600 with 2 Axes>"
      ]
     },
     "metadata": {},
     "output_type": "display_data"
    }
   ],
   "source": [
    "model = TSARTransformer(depth=3).cuda()\n",
    "train(\"tsar-140k\", model, train_ds, val_ds, half=True, bs=8, lr=1e-3, epochs=25, warmup=0,\n",
    "      table_row_every_iters=80000, run_valid_every_iters=8000)"
   ]
  },
  {
   "cell_type": "code",
   "execution_count": null,
   "id": "282243a2",
   "metadata": {},
   "outputs": [],
   "source": [
    "torch.save(model.state_dict(), 'tsar-140k-25e-ce1.58.pth')"
   ]
  },
  {
   "cell_type": "code",
   "execution_count": null,
   "id": "4ec37514",
   "metadata": {},
   "outputs": [
    {
     "data": {
      "text/html": [],
      "text/plain": [
       "<IPython.core.display.HTML object>"
      ]
     },
     "metadata": {},
     "output_type": "display_data"
    },
    {
     "data": {
      "text/html": [
       "\n",
       "<style>\n",
       "    /* Turns off some styling */\n",
       "    progress {\n",
       "        /* gets rid of default border in Firefox and Opera. */\n",
       "        border: none;\n",
       "        /* Needs to be in here for Safari polyfill so background images work as expected. */\n",
       "        background-size: auto;\n",
       "    }\n",
       "    progress:not([value]), progress:not([value])::-webkit-progress-bar {\n",
       "        background: repeating-linear-gradient(45deg, #7e7e7e, #7e7e7e 10px, #5c5c5c 10px, #5c5c5c 20px);\n",
       "    }\n",
       "    .progress-bar-interrupted, .progress-bar-interrupted::-webkit-progress-bar {\n",
       "        background: #F44336;\n",
       "    }\n",
       "</style>\n"
      ],
      "text/plain": [
       "<IPython.core.display.HTML object>"
      ]
     },
     "metadata": {},
     "output_type": "display_data"
    },
    {
     "data": {
      "text/html": [
       "<table border=\"1\" class=\"dataframe\">\n",
       "  <thead>\n",
       "    <tr style=\"text-align: left;\">\n",
       "      <th>samples</th>\n",
       "      <th>train</th>\n",
       "      <th>val</th>\n",
       "      <th>time</th>\n",
       "    </tr>\n",
       "  </thead>\n",
       "  <tbody>\n",
       "    <tr>\n",
       "      <td>80000</td>\n",
       "      <td>2.31314</td>\n",
       "      <td>2.41210</td>\n",
       "      <td>04:53</td>\n",
       "    </tr>\n",
       "    <tr>\n",
       "      <td>160000</td>\n",
       "      <td>2.16040</td>\n",
       "      <td>2.25076</td>\n",
       "      <td>09:42</td>\n",
       "    </tr>\n",
       "    <tr>\n",
       "      <td>240000</td>\n",
       "      <td>2.09020</td>\n",
       "      <td>2.14504</td>\n",
       "      <td>14:51</td>\n",
       "    </tr>\n",
       "    <tr>\n",
       "      <td>320000</td>\n",
       "      <td>1.95545</td>\n",
       "      <td>2.00177</td>\n",
       "      <td>19:52</td>\n",
       "    </tr>\n",
       "    <tr>\n",
       "      <td>400000</td>\n",
       "      <td>1.83738</td>\n",
       "      <td>1.87890</td>\n",
       "      <td>24:42</td>\n",
       "    </tr>\n",
       "    <tr>\n",
       "      <td>480000</td>\n",
       "      <td>1.75185</td>\n",
       "      <td>1.82079</td>\n",
       "      <td>29:49</td>\n",
       "    </tr>\n",
       "    <tr>\n",
       "      <td>560000</td>\n",
       "      <td>1.72557</td>\n",
       "      <td>1.78461</td>\n",
       "      <td>34:49</td>\n",
       "    </tr>\n",
       "    <tr>\n",
       "      <td>640000</td>\n",
       "      <td>1.73570</td>\n",
       "      <td>1.76621</td>\n",
       "      <td>39:40</td>\n",
       "    </tr>\n",
       "    <tr>\n",
       "      <td>720000</td>\n",
       "      <td>1.69044</td>\n",
       "      <td>1.75392</td>\n",
       "      <td>44:40</td>\n",
       "    </tr>\n",
       "    <tr>\n",
       "      <td>800000</td>\n",
       "      <td>1.67324</td>\n",
       "      <td>1.73999</td>\n",
       "      <td>49:35</td>\n",
       "    </tr>\n",
       "    <tr>\n",
       "      <td>880000</td>\n",
       "      <td>1.70643</td>\n",
       "      <td>1.73158</td>\n",
       "      <td>54:24</td>\n",
       "    </tr>\n",
       "    <tr>\n",
       "      <td>960000</td>\n",
       "      <td>1.70786</td>\n",
       "      <td>1.72684</td>\n",
       "      <td>59:18</td>\n",
       "    </tr>\n",
       "    <tr>\n",
       "      <td>1040000</td>\n",
       "      <td>1.71996</td>\n",
       "      <td>1.71658</td>\n",
       "      <td>1:04:09</td>\n",
       "    </tr>\n",
       "    <tr>\n",
       "      <td>1120000</td>\n",
       "      <td>1.67093</td>\n",
       "      <td>1.71494</td>\n",
       "      <td>1:08:59</td>\n",
       "    </tr>\n",
       "    <tr>\n",
       "      <td>1200000</td>\n",
       "      <td>1.68071</td>\n",
       "      <td>1.70685</td>\n",
       "      <td>1:13:52</td>\n",
       "    </tr>\n",
       "    <tr>\n",
       "      <td>1280000</td>\n",
       "      <td>1.67647</td>\n",
       "      <td>1.69975</td>\n",
       "      <td>1:18:41</td>\n",
       "    </tr>\n",
       "    <tr>\n",
       "      <td>1360000</td>\n",
       "      <td>1.68778</td>\n",
       "      <td>1.69497</td>\n",
       "      <td>1:23:45</td>\n",
       "    </tr>\n",
       "    <tr>\n",
       "      <td>1440000</td>\n",
       "      <td>1.63308</td>\n",
       "      <td>1.69156</td>\n",
       "      <td>1:28:50</td>\n",
       "    </tr>\n",
       "    <tr>\n",
       "      <td>1520000</td>\n",
       "      <td>1.62949</td>\n",
       "      <td>1.68304</td>\n",
       "      <td>1:33:56</td>\n",
       "    </tr>\n",
       "    <tr>\n",
       "      <td>1600000</td>\n",
       "      <td>1.65336</td>\n",
       "      <td>1.67676</td>\n",
       "      <td>1:39:02</td>\n",
       "    </tr>\n",
       "    <tr>\n",
       "      <td>1680000</td>\n",
       "      <td>1.64270</td>\n",
       "      <td>1.67212</td>\n",
       "      <td>1:44:08</td>\n",
       "    </tr>\n",
       "    <tr>\n",
       "      <td>1760000</td>\n",
       "      <td>1.60869</td>\n",
       "      <td>1.66234</td>\n",
       "      <td>1:48:54</td>\n",
       "    </tr>\n",
       "    <tr>\n",
       "      <td>1840000</td>\n",
       "      <td>1.63936</td>\n",
       "      <td>1.65975</td>\n",
       "      <td>1:53:43</td>\n",
       "    </tr>\n",
       "    <tr>\n",
       "      <td>1920000</td>\n",
       "      <td>1.60129</td>\n",
       "      <td>1.65080</td>\n",
       "      <td>1:58:49</td>\n",
       "    </tr>\n",
       "    <tr>\n",
       "      <td>2000000</td>\n",
       "      <td>1.61278</td>\n",
       "      <td>1.64941</td>\n",
       "      <td>2:03:41</td>\n",
       "    </tr>\n",
       "    <tr>\n",
       "      <td>2080000</td>\n",
       "      <td>1.59714</td>\n",
       "      <td>1.64003</td>\n",
       "      <td>2:08:33</td>\n",
       "    </tr>\n",
       "    <tr>\n",
       "      <td>2160000</td>\n",
       "      <td>1.60850</td>\n",
       "      <td>1.63501</td>\n",
       "      <td>2:13:21</td>\n",
       "    </tr>\n",
       "    <tr>\n",
       "      <td>2240000</td>\n",
       "      <td>1.55892</td>\n",
       "      <td>1.62777</td>\n",
       "      <td>2:18:18</td>\n",
       "    </tr>\n",
       "    <tr>\n",
       "      <td>2320000</td>\n",
       "      <td>1.55027</td>\n",
       "      <td>1.62194</td>\n",
       "      <td>2:23:05</td>\n",
       "    </tr>\n",
       "    <tr>\n",
       "      <td>2400000</td>\n",
       "      <td>1.53199</td>\n",
       "      <td>1.61445</td>\n",
       "      <td>2:27:54</td>\n",
       "    </tr>\n",
       "    <tr>\n",
       "      <td>2480000</td>\n",
       "      <td>1.55937</td>\n",
       "      <td>1.60859</td>\n",
       "      <td>2:33:05</td>\n",
       "    </tr>\n",
       "    <tr>\n",
       "      <td>2560000</td>\n",
       "      <td>1.50396</td>\n",
       "      <td>1.60217</td>\n",
       "      <td>2:38:00</td>\n",
       "    </tr>\n",
       "    <tr>\n",
       "      <td>2640000</td>\n",
       "      <td>1.54471</td>\n",
       "      <td>1.59542</td>\n",
       "      <td>2:43:14</td>\n",
       "    </tr>\n",
       "    <tr>\n",
       "      <td>2720000</td>\n",
       "      <td>1.55641</td>\n",
       "      <td>1.58846</td>\n",
       "      <td>2:48:25</td>\n",
       "    </tr>\n",
       "    <tr>\n",
       "      <td>2800000</td>\n",
       "      <td>1.50863</td>\n",
       "      <td>1.57974</td>\n",
       "      <td>2:53:37</td>\n",
       "    </tr>\n",
       "    <tr>\n",
       "      <td>2880000</td>\n",
       "      <td>1.49681</td>\n",
       "      <td>1.57561</td>\n",
       "      <td>2:58:43</td>\n",
       "    </tr>\n",
       "    <tr>\n",
       "      <td>2960000</td>\n",
       "      <td>1.50676</td>\n",
       "      <td>1.57008</td>\n",
       "      <td>3:03:52</td>\n",
       "    </tr>\n",
       "    <tr>\n",
       "      <td>3040000</td>\n",
       "      <td>1.50988</td>\n",
       "      <td>1.56511</td>\n",
       "      <td>3:08:52</td>\n",
       "    </tr>\n",
       "    <tr>\n",
       "      <td>3120000</td>\n",
       "      <td>1.45172</td>\n",
       "      <td>1.56008</td>\n",
       "      <td>3:13:49</td>\n",
       "    </tr>\n",
       "    <tr>\n",
       "      <td>3200000</td>\n",
       "      <td>1.44757</td>\n",
       "      <td>1.55511</td>\n",
       "      <td>3:18:36</td>\n",
       "    </tr>\n",
       "    <tr>\n",
       "      <td>3280000</td>\n",
       "      <td>1.46662</td>\n",
       "      <td>1.55356</td>\n",
       "      <td>3:23:34</td>\n",
       "    </tr>\n",
       "    <tr>\n",
       "      <td>3360000</td>\n",
       "      <td>1.44749</td>\n",
       "      <td>1.55062</td>\n",
       "      <td>3:28:34</td>\n",
       "    </tr>\n",
       "    <tr>\n",
       "      <td>3440000</td>\n",
       "      <td>1.47749</td>\n",
       "      <td>1.55033</td>\n",
       "      <td>3:33:28</td>\n",
       "    </tr>\n",
       "  </tbody>\n",
       "</table>"
      ],
      "text/plain": [
       "<IPython.core.display.HTML object>"
      ]
     },
     "metadata": {},
     "output_type": "display_data"
    },
    {
     "data": {
      "image/png": "[encoded data removed]",
      "text/plain": [
       "<Figure size 1000x600 with 2 Axes>"
      ]
     },
     "metadata": {},
     "output_type": "display_data"
    }
   ],
   "source": [
    "# Whisper tiny sized model\n",
    "model = TSARTransformer(depth=4).cuda()\n",
    "train(\"tsar-140k-4l\", model, train_ds, val_ds, half=True, bs=16, lr=2e-3, epochs=25, warmup=0, pct_start=0.05,\n",
    "      table_row_every_iters=80000, run_valid_every_iters=8000, chkpt_every_iters=80000)"
   ]
  },
  {
   "cell_type": "code",
   "execution_count": null,
   "id": "a21eb3ed",
   "metadata": {},
   "outputs": [],
   "source": [
    "torch.save(model.state_dict(), 'tsar-140k-4l-25e-ce1.55.pth')"
   ]
  },
  {
   "cell_type": "markdown",
   "id": "843d6703",
   "metadata": {},
   "source": [
    "# Sample from the model"
   ]
  },
  {
   "cell_type": "code",
   "execution_count": null,
   "id": "f5fe02ba",
   "metadata": {},
   "outputs": [],
   "source": [
    "model = TSARTransformer(depth=4, n_head=6, stoks_len=1500, ttoks_len=250)\n",
    "state_dict = {k.replace('model.', ''):v for k,v in torch.load('t2s_up-20e-ce1.15.ckpt', map_location='cpu')['state_dict'].items()}\n",
    "model.load_state_dict(state_dict)\n",
    "model.eval();"
   ]
  },
  {
   "cell_type": "code",
   "execution_count": null,
   "id": "bb4a7059",
   "metadata": {},
   "outputs": [],
   "source": [
    "model.save_model('t2s_up.model')"
   ]
  },
  {
   "cell_type": "code",
   "execution_count": null,
   "id": "46afee25",
   "metadata": {},
   "outputs": [],
   "source": [
    "model = TSARTransformer(depth=4).cuda()\n",
    "model.load_state_dict(torch.load('tsar-140k-4l-25e-ce1.55.pth')) #'/scrach/tsar-checkpoints/1480000.pt')) #  tsar-32k-60e-ce1.87.pth\n",
    "model.eval().cuda();"
   ]
  },
  {
   "cell_type": "code",
   "execution_count": null,
   "id": "f5bb2030",
   "metadata": {},
   "outputs": [],
   "source": [
    "model = TSARTransformer.load_model(local_filename='t2s_up.model').cuda()"
   ]
  },
  {
   "cell_type": "code",
   "execution_count": null,
   "id": "8c4e37f8",
   "metadata": {},
   "outputs": [],
   "source": [
    "whmodel = whisper.load_model('tiny.en')"
   ]
  },
  {
   "cell_type": "code",
   "execution_count": null,
   "id": "b26f93b3",
   "metadata": {},
   "outputs": [],
   "source": [
    "from whisperspeech.extract_stoks import RQBottleneckTransformer\n",
    "vqmodel = RQBottleneckTransformer(codebook_dim=16, vq_codes=1024, q_depth=1, n_head=6, depth=1,\n",
    "                              threshold_ema_dead_code=0.1)\n",
    "vqmodel.load_state_dict(torch.load('./vqmodel2-tiny-1000h.pth', map_location='cpu'))\n",
    "vqmodel.eval().cuda();"
   ]
  },
  {
   "cell_type": "code",
   "execution_count": null,
   "id": "4b89af04",
   "metadata": {},
   "outputs": [],
   "source": [
    "import torch.nn.functional as F\n",
    "from fastprogress import progress_bar\n",
    "tokenizer = whisper.tokenizer.get_tokenizer(multilingual=True)"
   ]
  },
  {
   "cell_type": "code",
   "execution_count": null,
   "id": "997cc1be",
   "metadata": {},
   "outputs": [],
   "source": [
    "tst_toks = tokenizer.encode()\n",
    "tst_toks = F.pad(torch.tensor(tst_toks), (0, 250 - len(tst_toks)), value=tokenizer.eot).unsqueeze(0)"
   ]
  },
  {
   "cell_type": "code",
   "execution_count": null,
   "id": "03c2d8d8",
   "metadata": {},
   "outputs": [
    {
     "data": {
      "text/html": [
       "\n",
       "<style>\n",
       "    /* Turns off some styling */\n",
       "    progress {\n",
       "        /* gets rid of default border in Firefox and Opera. */\n",
       "        border: none;\n",
       "        /* Needs to be in here for Safari polyfill so background images work as expected. */\n",
       "        background-size: auto;\n",
       "    }\n",
       "    progress:not([value]), progress:not([value])::-webkit-progress-bar {\n",
       "        background: repeating-linear-gradient(45deg, #7e7e7e, #7e7e7e 10px, #5c5c5c 10px, #5c5c5c 20px);\n",
       "    }\n",
       "    .progress-bar-interrupted, .progress-bar-interrupted::-webkit-progress-bar {\n",
       "        background: #F44336;\n",
       "    }\n",
       "</style>\n"
      ],
      "text/plain": [
       "<IPython.core.display.HTML object>"
      ]
     },
     "metadata": {},
     "output_type": "display_data"
    },
    {
     "data": {
      "text/html": [
       "\n",
       "    <div>\n",
       "      <progress value='1373' class='' max='1500' style='width:300px; height:20px; vertical-align: middle;'></progress>\n",
       "      91.53% [1373/1500 00:03&lt;00:00]\n",
       "    </div>\n",
       "    "
      ],
      "text/plain": [
       "<IPython.core.display.HTML object>"
      ]
     },
     "metadata": {},
     "output_type": "display_data"
    }
   ],
   "source": [
    "stoks = model.generate(\"\"\"We choose to train a text to speech system this year not because this is easy,\n",
    "but because this is hard, because that goal will serve to organize and measure\n",
    "the best of our energies and skills, because that challenge is one that we are willing\n",
    "to accept, one we are unwilling to postpone, and one we intend to win! And the others too.\"\"\")"
   ]
  },
  {
   "cell_type": "code",
   "execution_count": null,
   "id": "b53cb248",
   "metadata": {},
   "outputs": [
    {
     "data": {
      "text/plain": [
       "[DecodingResult(audio_features=tensor([[-0.7910, -0.5942,  0.4592,  ..., -0.1428,  3.3262, -1.4307],\n",
       "         [-0.9199,  1.2129, -1.3701,  ..., -0.5234,  1.3027, -3.1348],\n",
       "         [-0.7476,  1.3135, -1.3564,  ..., -0.0090,  0.8394, -3.2246],\n",
       "         ...,\n",
       "         [-0.2534,  1.3799,  0.6147,  ...,  1.4482, -1.5518, -0.7515],\n",
       "         [-0.4771,  1.6162,  0.1990,  ...,  2.2168, -1.4336, -0.7881],\n",
       "         [-0.8374,  1.5225, -0.2974,  ...,  2.6660, -1.2432, -0.7119]],\n",
       "        device='cuda:0', dtype=torch.float16), language='en', language_probs=None, tokens=[50363, 775, 3853, 284, 4512, 3434, 284, 4046, 1080, 428, 614, 11, 407, 780, 428, 318, 2562, 13, 50688, 50688, 6256, 84, 11, 780, 428, 318, 1327, 11, 780, 326, 3061, 481, 4691, 284, 16481, 290, 3953, 50975, 50975, 2861, 1266, 286, 674, 27598, 290, 4678, 13, 51176, 51176, 4362, 326, 6459, 530, 326, 356, 389, 4684, 374, 2509, 2845, 530, 11, 530, 356, 389, 19084, 51509, 51509], text='We choose to train attacks to speech system this year, not because this is easy. Rubu, because this is hard, because that goal will serve to organize and measure worth best of our energies and skills. Because that challenges one that we are willing riddle except one, one we are unwilling', avg_logprob=-0.4126565076302791, no_speech_prob=0.03133373335003853, temperature=0.0, compression_ratio=1.6551724137931034)]"
      ]
     },
     "execution_count": null,
     "metadata": {},
     "output_type": "execute_result"
    }
   ],
   "source": [
    "vqmodel.decode_text(stoks)"
   ]
  },
  {
   "cell_type": "code",
   "execution_count": null,
   "id": "48ea0cdd",
   "metadata": {},
   "outputs": [],
   "source": [
    "whmodel = whmodel.float()"
   ]
  },
  {
   "cell_type": "code",
   "execution_count": null,
   "id": "10d55496",
   "metadata": {},
   "outputs": [
    {
     "ename": "RuntimeError",
     "evalue": "\"addmm_impl_cpu_\" not implemented for 'Half'",
     "output_type": "error",
     "traceback": [
      "\u001b[0;31m---------------------------------------------------------------------------\u001b[0m",
      "\u001b[0;31mRuntimeError\u001b[0m                              Traceback (most recent call last)",
      "Cell \u001b[0;32mIn[107], line 1\u001b[0m\n\u001b[0;32m----> 1\u001b[0m \u001b[43mdecode_stoks\u001b[49m\u001b[43m(\u001b[49m\u001b[43mtoks\u001b[49m\u001b[43m)\u001b[49m\n",
      "Cell \u001b[0;32mIn[102], line 6\u001b[0m, in \u001b[0;36mdecode_stoks\u001b[0;34m(stoks)\u001b[0m\n\u001b[1;32m      4\u001b[0m x \u001b[38;5;241m=\u001b[39m F\u001b[38;5;241m.\u001b[39mpad(x, (\u001b[38;5;241m0\u001b[39m, \u001b[38;5;241m0\u001b[39m, \u001b[38;5;241m0\u001b[39m, \u001b[38;5;241m1500\u001b[39m\u001b[38;5;241m-\u001b[39m\u001b[38;5;28mlen\u001b[39m(x)))\n\u001b[1;32m      5\u001b[0m embs \u001b[38;5;241m=\u001b[39m vqmodel\u001b[38;5;241m.\u001b[39mln_post(vqmodel\u001b[38;5;241m.\u001b[39mout_blocks((vqmodel\u001b[38;5;241m.\u001b[39mrq\u001b[38;5;241m.\u001b[39mlayers[\u001b[38;5;241m0\u001b[39m]\u001b[38;5;241m.\u001b[39mproject_out(x) \u001b[38;5;241m+\u001b[39m vqmodel\u001b[38;5;241m.\u001b[39mpositional_embedding)\u001b[38;5;241m.\u001b[39munsqueeze(\u001b[38;5;241m0\u001b[39m)))\n\u001b[0;32m----> 6\u001b[0m \u001b[38;5;28;01mreturn\u001b[39;00m \u001b[43mwhmodel\u001b[49m\u001b[38;5;241;43m.\u001b[39;49m\u001b[43mdecode\u001b[49m\u001b[43m(\u001b[49m\u001b[43membs\u001b[49m\u001b[43m,\u001b[49m\u001b[43m \u001b[49m\u001b[43mwhisper\u001b[49m\u001b[38;5;241;43m.\u001b[39;49m\u001b[43mDecodingOptions\u001b[49m\u001b[43m(\u001b[49m\u001b[43mlanguage\u001b[49m\u001b[38;5;241;43m=\u001b[39;49m\u001b[38;5;124;43m'\u001b[39;49m\u001b[38;5;124;43men\u001b[39;49m\u001b[38;5;124;43m'\u001b[39;49m\u001b[43m)\u001b[49m\u001b[43m)\u001b[49m\n",
      "File \u001b[0;32m/opt/conda/lib/python3.10/site-packages/torch/utils/_contextlib.py:115\u001b[0m, in \u001b[0;36mcontext_decorator.<locals>.decorate_context\u001b[0;34m(*args, **kwargs)\u001b[0m\n\u001b[1;32m    112\u001b[0m \u001b[38;5;129m@functools\u001b[39m\u001b[38;5;241m.\u001b[39mwraps(func)\n\u001b[1;32m    113\u001b[0m \u001b[38;5;28;01mdef\u001b[39;00m \u001b[38;5;21mdecorate_context\u001b[39m(\u001b[38;5;241m*\u001b[39margs, \u001b[38;5;241m*\u001b[39m\u001b[38;5;241m*\u001b[39mkwargs):\n\u001b[1;32m    114\u001b[0m     \u001b[38;5;28;01mwith\u001b[39;00m ctx_factory():\n\u001b[0;32m--> 115\u001b[0m         \u001b[38;5;28;01mreturn\u001b[39;00m \u001b[43mfunc\u001b[49m\u001b[43m(\u001b[49m\u001b[38;5;241;43m*\u001b[39;49m\u001b[43margs\u001b[49m\u001b[43m,\u001b[49m\u001b[43m \u001b[49m\u001b[38;5;241;43m*\u001b[39;49m\u001b[38;5;241;43m*\u001b[39;49m\u001b[43mkwargs\u001b[49m\u001b[43m)\u001b[49m\n",
      "File \u001b[0;32m/opt/conda/lib/python3.10/site-packages/whisper/decoding.py:811\u001b[0m, in \u001b[0;36mdecode\u001b[0;34m(model, mel, options, **kwargs)\u001b[0m\n\u001b[1;32m    808\u001b[0m \u001b[38;5;28;01mif\u001b[39;00m kwargs:\n\u001b[1;32m    809\u001b[0m     options \u001b[38;5;241m=\u001b[39m replace(options, \u001b[38;5;241m*\u001b[39m\u001b[38;5;241m*\u001b[39mkwargs)\n\u001b[0;32m--> 811\u001b[0m result \u001b[38;5;241m=\u001b[39m \u001b[43mDecodingTask\u001b[49m\u001b[43m(\u001b[49m\u001b[43mmodel\u001b[49m\u001b[43m,\u001b[49m\u001b[43m \u001b[49m\u001b[43moptions\u001b[49m\u001b[43m)\u001b[49m\u001b[38;5;241;43m.\u001b[39;49m\u001b[43mrun\u001b[49m\u001b[43m(\u001b[49m\u001b[43mmel\u001b[49m\u001b[43m)\u001b[49m\n\u001b[1;32m    813\u001b[0m \u001b[38;5;28;01mreturn\u001b[39;00m result[\u001b[38;5;241m0\u001b[39m] \u001b[38;5;28;01mif\u001b[39;00m single \u001b[38;5;28;01melse\u001b[39;00m result\n",
      "File \u001b[0;32m/opt/conda/lib/python3.10/site-packages/torch/utils/_contextlib.py:115\u001b[0m, in \u001b[0;36mcontext_decorator.<locals>.decorate_context\u001b[0;34m(*args, **kwargs)\u001b[0m\n\u001b[1;32m    112\u001b[0m \u001b[38;5;129m@functools\u001b[39m\u001b[38;5;241m.\u001b[39mwraps(func)\n\u001b[1;32m    113\u001b[0m \u001b[38;5;28;01mdef\u001b[39;00m \u001b[38;5;21mdecorate_context\u001b[39m(\u001b[38;5;241m*\u001b[39margs, \u001b[38;5;241m*\u001b[39m\u001b[38;5;241m*\u001b[39mkwargs):\n\u001b[1;32m    114\u001b[0m     \u001b[38;5;28;01mwith\u001b[39;00m ctx_factory():\n\u001b[0;32m--> 115\u001b[0m         \u001b[38;5;28;01mreturn\u001b[39;00m \u001b[43mfunc\u001b[49m\u001b[43m(\u001b[49m\u001b[38;5;241;43m*\u001b[39;49m\u001b[43margs\u001b[49m\u001b[43m,\u001b[49m\u001b[43m \u001b[49m\u001b[38;5;241;43m*\u001b[39;49m\u001b[38;5;241;43m*\u001b[39;49m\u001b[43mkwargs\u001b[49m\u001b[43m)\u001b[49m\n",
      "File \u001b[0;32m/opt/conda/lib/python3.10/site-packages/whisper/decoding.py:724\u001b[0m, in \u001b[0;36mDecodingTask.run\u001b[0;34m(self, mel)\u001b[0m\n\u001b[1;32m    721\u001b[0m tokens \u001b[38;5;241m=\u001b[39m tokens\u001b[38;5;241m.\u001b[39mrepeat_interleave(\u001b[38;5;28mself\u001b[39m\u001b[38;5;241m.\u001b[39mn_group, dim\u001b[38;5;241m=\u001b[39m\u001b[38;5;241m0\u001b[39m)\u001b[38;5;241m.\u001b[39mto(audio_features\u001b[38;5;241m.\u001b[39mdevice)\n\u001b[1;32m    723\u001b[0m \u001b[38;5;66;03m# call the main sampling loop\u001b[39;00m\n\u001b[0;32m--> 724\u001b[0m tokens, sum_logprobs, no_speech_probs \u001b[38;5;241m=\u001b[39m \u001b[38;5;28;43mself\u001b[39;49m\u001b[38;5;241;43m.\u001b[39;49m\u001b[43m_main_loop\u001b[49m\u001b[43m(\u001b[49m\u001b[43maudio_features\u001b[49m\u001b[43m,\u001b[49m\u001b[43m \u001b[49m\u001b[43mtokens\u001b[49m\u001b[43m)\u001b[49m\n\u001b[1;32m    726\u001b[0m \u001b[38;5;66;03m# reshape the tensors to have (n_audio, n_group) as the first two dimensions\u001b[39;00m\n\u001b[1;32m    727\u001b[0m audio_features \u001b[38;5;241m=\u001b[39m audio_features[:: \u001b[38;5;28mself\u001b[39m\u001b[38;5;241m.\u001b[39mn_group]\n",
      "File \u001b[0;32m/opt/conda/lib/python3.10/site-packages/whisper/decoding.py:673\u001b[0m, in \u001b[0;36mDecodingTask._main_loop\u001b[0;34m(self, audio_features, tokens)\u001b[0m\n\u001b[1;32m    671\u001b[0m \u001b[38;5;28;01mtry\u001b[39;00m:\n\u001b[1;32m    672\u001b[0m     \u001b[38;5;28;01mfor\u001b[39;00m i \u001b[38;5;129;01min\u001b[39;00m \u001b[38;5;28mrange\u001b[39m(\u001b[38;5;28mself\u001b[39m\u001b[38;5;241m.\u001b[39msample_len):\n\u001b[0;32m--> 673\u001b[0m         logits \u001b[38;5;241m=\u001b[39m \u001b[38;5;28;43mself\u001b[39;49m\u001b[38;5;241;43m.\u001b[39;49m\u001b[43minference\u001b[49m\u001b[38;5;241;43m.\u001b[39;49m\u001b[43mlogits\u001b[49m\u001b[43m(\u001b[49m\u001b[43mtokens\u001b[49m\u001b[43m,\u001b[49m\u001b[43m \u001b[49m\u001b[43maudio_features\u001b[49m\u001b[43m)\u001b[49m\n\u001b[1;32m    675\u001b[0m         \u001b[38;5;28;01mif\u001b[39;00m (\n\u001b[1;32m    676\u001b[0m             i \u001b[38;5;241m==\u001b[39m \u001b[38;5;241m0\u001b[39m \u001b[38;5;129;01mand\u001b[39;00m \u001b[38;5;28mself\u001b[39m\u001b[38;5;241m.\u001b[39mtokenizer\u001b[38;5;241m.\u001b[39mno_speech \u001b[38;5;129;01mis\u001b[39;00m \u001b[38;5;129;01mnot\u001b[39;00m \u001b[38;5;28;01mNone\u001b[39;00m\n\u001b[1;32m    677\u001b[0m         ):  \u001b[38;5;66;03m# save no_speech_probs\u001b[39;00m\n\u001b[1;32m    678\u001b[0m             probs_at_sot \u001b[38;5;241m=\u001b[39m logits[:, \u001b[38;5;28mself\u001b[39m\u001b[38;5;241m.\u001b[39msot_index]\u001b[38;5;241m.\u001b[39mfloat()\u001b[38;5;241m.\u001b[39msoftmax(dim\u001b[38;5;241m=\u001b[39m\u001b[38;5;241m-\u001b[39m\u001b[38;5;241m1\u001b[39m)\n",
      "File \u001b[0;32m/opt/conda/lib/python3.10/site-packages/whisper/decoding.py:157\u001b[0m, in \u001b[0;36mPyTorchInference.logits\u001b[0;34m(self, tokens, audio_features)\u001b[0m\n\u001b[1;32m    153\u001b[0m \u001b[38;5;28;01mif\u001b[39;00m tokens\u001b[38;5;241m.\u001b[39mshape[\u001b[38;5;241m-\u001b[39m\u001b[38;5;241m1\u001b[39m] \u001b[38;5;241m>\u001b[39m \u001b[38;5;28mself\u001b[39m\u001b[38;5;241m.\u001b[39minitial_token_length:\n\u001b[1;32m    154\u001b[0m     \u001b[38;5;66;03m# only need to use the last token except in the first forward pass\u001b[39;00m\n\u001b[1;32m    155\u001b[0m     tokens \u001b[38;5;241m=\u001b[39m tokens[:, \u001b[38;5;241m-\u001b[39m\u001b[38;5;241m1\u001b[39m:]\n\u001b[0;32m--> 157\u001b[0m \u001b[38;5;28;01mreturn\u001b[39;00m \u001b[38;5;28;43mself\u001b[39;49m\u001b[38;5;241;43m.\u001b[39;49m\u001b[43mmodel\u001b[49m\u001b[38;5;241;43m.\u001b[39;49m\u001b[43mdecoder\u001b[49m\u001b[43m(\u001b[49m\u001b[43mtokens\u001b[49m\u001b[43m,\u001b[49m\u001b[43m \u001b[49m\u001b[43maudio_features\u001b[49m\u001b[43m,\u001b[49m\u001b[43m \u001b[49m\u001b[43mkv_cache\u001b[49m\u001b[38;5;241;43m=\u001b[39;49m\u001b[38;5;28;43mself\u001b[39;49m\u001b[38;5;241;43m.\u001b[39;49m\u001b[43mkv_cache\u001b[49m\u001b[43m)\u001b[49m\n",
      "File \u001b[0;32m/opt/conda/lib/python3.10/site-packages/torch/nn/modules/module.py:1501\u001b[0m, in \u001b[0;36mModule._call_impl\u001b[0;34m(self, *args, **kwargs)\u001b[0m\n\u001b[1;32m   1496\u001b[0m \u001b[38;5;66;03m# If we don't have any hooks, we want to skip the rest of the logic in\u001b[39;00m\n\u001b[1;32m   1497\u001b[0m \u001b[38;5;66;03m# this function, and just call forward.\u001b[39;00m\n\u001b[1;32m   1498\u001b[0m \u001b[38;5;28;01mif\u001b[39;00m \u001b[38;5;129;01mnot\u001b[39;00m (\u001b[38;5;28mself\u001b[39m\u001b[38;5;241m.\u001b[39m_backward_hooks \u001b[38;5;129;01mor\u001b[39;00m \u001b[38;5;28mself\u001b[39m\u001b[38;5;241m.\u001b[39m_backward_pre_hooks \u001b[38;5;129;01mor\u001b[39;00m \u001b[38;5;28mself\u001b[39m\u001b[38;5;241m.\u001b[39m_forward_hooks \u001b[38;5;129;01mor\u001b[39;00m \u001b[38;5;28mself\u001b[39m\u001b[38;5;241m.\u001b[39m_forward_pre_hooks\n\u001b[1;32m   1499\u001b[0m         \u001b[38;5;129;01mor\u001b[39;00m _global_backward_pre_hooks \u001b[38;5;129;01mor\u001b[39;00m _global_backward_hooks\n\u001b[1;32m   1500\u001b[0m         \u001b[38;5;129;01mor\u001b[39;00m _global_forward_hooks \u001b[38;5;129;01mor\u001b[39;00m _global_forward_pre_hooks):\n\u001b[0;32m-> 1501\u001b[0m     \u001b[38;5;28;01mreturn\u001b[39;00m \u001b[43mforward_call\u001b[49m\u001b[43m(\u001b[49m\u001b[38;5;241;43m*\u001b[39;49m\u001b[43margs\u001b[49m\u001b[43m,\u001b[49m\u001b[43m \u001b[49m\u001b[38;5;241;43m*\u001b[39;49m\u001b[38;5;241;43m*\u001b[39;49m\u001b[43mkwargs\u001b[49m\u001b[43m)\u001b[49m\n\u001b[1;32m   1502\u001b[0m \u001b[38;5;66;03m# Do not call functions when jit is used\u001b[39;00m\n\u001b[1;32m   1503\u001b[0m full_backward_hooks, non_full_backward_hooks \u001b[38;5;241m=\u001b[39m [], []\n",
      "File \u001b[0;32m/opt/conda/lib/python3.10/site-packages/whisper/model.py:211\u001b[0m, in \u001b[0;36mTextDecoder.forward\u001b[0;34m(self, x, xa, kv_cache)\u001b[0m\n\u001b[1;32m    208\u001b[0m x \u001b[38;5;241m=\u001b[39m x\u001b[38;5;241m.\u001b[39mto(xa\u001b[38;5;241m.\u001b[39mdtype)\n\u001b[1;32m    210\u001b[0m \u001b[38;5;28;01mfor\u001b[39;00m block \u001b[38;5;129;01min\u001b[39;00m \u001b[38;5;28mself\u001b[39m\u001b[38;5;241m.\u001b[39mblocks:\n\u001b[0;32m--> 211\u001b[0m     x \u001b[38;5;241m=\u001b[39m \u001b[43mblock\u001b[49m\u001b[43m(\u001b[49m\u001b[43mx\u001b[49m\u001b[43m,\u001b[49m\u001b[43m \u001b[49m\u001b[43mxa\u001b[49m\u001b[43m,\u001b[49m\u001b[43m \u001b[49m\u001b[43mmask\u001b[49m\u001b[38;5;241;43m=\u001b[39;49m\u001b[38;5;28;43mself\u001b[39;49m\u001b[38;5;241;43m.\u001b[39;49m\u001b[43mmask\u001b[49m\u001b[43m,\u001b[49m\u001b[43m \u001b[49m\u001b[43mkv_cache\u001b[49m\u001b[38;5;241;43m=\u001b[39;49m\u001b[43mkv_cache\u001b[49m\u001b[43m)\u001b[49m\n\u001b[1;32m    213\u001b[0m x \u001b[38;5;241m=\u001b[39m \u001b[38;5;28mself\u001b[39m\u001b[38;5;241m.\u001b[39mln(x)\n\u001b[1;32m    214\u001b[0m logits \u001b[38;5;241m=\u001b[39m (\n\u001b[1;32m    215\u001b[0m     x \u001b[38;5;241m@\u001b[39m torch\u001b[38;5;241m.\u001b[39mtranspose(\u001b[38;5;28mself\u001b[39m\u001b[38;5;241m.\u001b[39mtoken_embedding\u001b[38;5;241m.\u001b[39mweight\u001b[38;5;241m.\u001b[39mto(x\u001b[38;5;241m.\u001b[39mdtype), \u001b[38;5;241m0\u001b[39m, \u001b[38;5;241m1\u001b[39m)\n\u001b[1;32m    216\u001b[0m )\u001b[38;5;241m.\u001b[39mfloat()\n",
      "File \u001b[0;32m/opt/conda/lib/python3.10/site-packages/torch/nn/modules/module.py:1501\u001b[0m, in \u001b[0;36mModule._call_impl\u001b[0;34m(self, *args, **kwargs)\u001b[0m\n\u001b[1;32m   1496\u001b[0m \u001b[38;5;66;03m# If we don't have any hooks, we want to skip the rest of the logic in\u001b[39;00m\n\u001b[1;32m   1497\u001b[0m \u001b[38;5;66;03m# this function, and just call forward.\u001b[39;00m\n\u001b[1;32m   1498\u001b[0m \u001b[38;5;28;01mif\u001b[39;00m \u001b[38;5;129;01mnot\u001b[39;00m (\u001b[38;5;28mself\u001b[39m\u001b[38;5;241m.\u001b[39m_backward_hooks \u001b[38;5;129;01mor\u001b[39;00m \u001b[38;5;28mself\u001b[39m\u001b[38;5;241m.\u001b[39m_backward_pre_hooks \u001b[38;5;129;01mor\u001b[39;00m \u001b[38;5;28mself\u001b[39m\u001b[38;5;241m.\u001b[39m_forward_hooks \u001b[38;5;129;01mor\u001b[39;00m \u001b[38;5;28mself\u001b[39m\u001b[38;5;241m.\u001b[39m_forward_pre_hooks\n\u001b[1;32m   1499\u001b[0m         \u001b[38;5;129;01mor\u001b[39;00m _global_backward_pre_hooks \u001b[38;5;129;01mor\u001b[39;00m _global_backward_hooks\n\u001b[1;32m   1500\u001b[0m         \u001b[38;5;129;01mor\u001b[39;00m _global_forward_hooks \u001b[38;5;129;01mor\u001b[39;00m _global_forward_pre_hooks):\n\u001b[0;32m-> 1501\u001b[0m     \u001b[38;5;28;01mreturn\u001b[39;00m \u001b[43mforward_call\u001b[49m\u001b[43m(\u001b[49m\u001b[38;5;241;43m*\u001b[39;49m\u001b[43margs\u001b[49m\u001b[43m,\u001b[49m\u001b[43m \u001b[49m\u001b[38;5;241;43m*\u001b[39;49m\u001b[38;5;241;43m*\u001b[39;49m\u001b[43mkwargs\u001b[49m\u001b[43m)\u001b[49m\n\u001b[1;32m   1502\u001b[0m \u001b[38;5;66;03m# Do not call functions when jit is used\u001b[39;00m\n\u001b[1;32m   1503\u001b[0m full_backward_hooks, non_full_backward_hooks \u001b[38;5;241m=\u001b[39m [], []\n",
      "File \u001b[0;32m/opt/conda/lib/python3.10/site-packages/whisper/model.py:136\u001b[0m, in \u001b[0;36mResidualAttentionBlock.forward\u001b[0;34m(self, x, xa, mask, kv_cache)\u001b[0m\n\u001b[1;32m    129\u001b[0m \u001b[38;5;28;01mdef\u001b[39;00m \u001b[38;5;21mforward\u001b[39m(\n\u001b[1;32m    130\u001b[0m     \u001b[38;5;28mself\u001b[39m,\n\u001b[1;32m    131\u001b[0m     x: Tensor,\n\u001b[0;32m   (...)\u001b[0m\n\u001b[1;32m    134\u001b[0m     kv_cache: Optional[\u001b[38;5;28mdict\u001b[39m] \u001b[38;5;241m=\u001b[39m \u001b[38;5;28;01mNone\u001b[39;00m,\n\u001b[1;32m    135\u001b[0m ):\n\u001b[0;32m--> 136\u001b[0m     x \u001b[38;5;241m=\u001b[39m x \u001b[38;5;241m+\u001b[39m \u001b[38;5;28;43mself\u001b[39;49m\u001b[38;5;241;43m.\u001b[39;49m\u001b[43mattn\u001b[49m\u001b[43m(\u001b[49m\u001b[38;5;28;43mself\u001b[39;49m\u001b[38;5;241;43m.\u001b[39;49m\u001b[43mattn_ln\u001b[49m\u001b[43m(\u001b[49m\u001b[43mx\u001b[49m\u001b[43m)\u001b[49m\u001b[43m,\u001b[49m\u001b[43m \u001b[49m\u001b[43mmask\u001b[49m\u001b[38;5;241;43m=\u001b[39;49m\u001b[43mmask\u001b[49m\u001b[43m,\u001b[49m\u001b[43m \u001b[49m\u001b[43mkv_cache\u001b[49m\u001b[38;5;241;43m=\u001b[39;49m\u001b[43mkv_cache\u001b[49m\u001b[43m)\u001b[49m[\u001b[38;5;241m0\u001b[39m]\n\u001b[1;32m    137\u001b[0m     \u001b[38;5;28;01mif\u001b[39;00m \u001b[38;5;28mself\u001b[39m\u001b[38;5;241m.\u001b[39mcross_attn:\n\u001b[1;32m    138\u001b[0m         x \u001b[38;5;241m=\u001b[39m x \u001b[38;5;241m+\u001b[39m \u001b[38;5;28mself\u001b[39m\u001b[38;5;241m.\u001b[39mcross_attn(\u001b[38;5;28mself\u001b[39m\u001b[38;5;241m.\u001b[39mcross_attn_ln(x), xa, kv_cache\u001b[38;5;241m=\u001b[39mkv_cache)[\u001b[38;5;241m0\u001b[39m]\n",
      "File \u001b[0;32m/opt/conda/lib/python3.10/site-packages/torch/nn/modules/module.py:1501\u001b[0m, in \u001b[0;36mModule._call_impl\u001b[0;34m(self, *args, **kwargs)\u001b[0m\n\u001b[1;32m   1496\u001b[0m \u001b[38;5;66;03m# If we don't have any hooks, we want to skip the rest of the logic in\u001b[39;00m\n\u001b[1;32m   1497\u001b[0m \u001b[38;5;66;03m# this function, and just call forward.\u001b[39;00m\n\u001b[1;32m   1498\u001b[0m \u001b[38;5;28;01mif\u001b[39;00m \u001b[38;5;129;01mnot\u001b[39;00m (\u001b[38;5;28mself\u001b[39m\u001b[38;5;241m.\u001b[39m_backward_hooks \u001b[38;5;129;01mor\u001b[39;00m \u001b[38;5;28mself\u001b[39m\u001b[38;5;241m.\u001b[39m_backward_pre_hooks \u001b[38;5;129;01mor\u001b[39;00m \u001b[38;5;28mself\u001b[39m\u001b[38;5;241m.\u001b[39m_forward_hooks \u001b[38;5;129;01mor\u001b[39;00m \u001b[38;5;28mself\u001b[39m\u001b[38;5;241m.\u001b[39m_forward_pre_hooks\n\u001b[1;32m   1499\u001b[0m         \u001b[38;5;129;01mor\u001b[39;00m _global_backward_pre_hooks \u001b[38;5;129;01mor\u001b[39;00m _global_backward_hooks\n\u001b[1;32m   1500\u001b[0m         \u001b[38;5;129;01mor\u001b[39;00m _global_forward_hooks \u001b[38;5;129;01mor\u001b[39;00m _global_forward_pre_hooks):\n\u001b[0;32m-> 1501\u001b[0m     \u001b[38;5;28;01mreturn\u001b[39;00m \u001b[43mforward_call\u001b[49m\u001b[43m(\u001b[49m\u001b[38;5;241;43m*\u001b[39;49m\u001b[43margs\u001b[49m\u001b[43m,\u001b[49m\u001b[43m \u001b[49m\u001b[38;5;241;43m*\u001b[39;49m\u001b[38;5;241;43m*\u001b[39;49m\u001b[43mkwargs\u001b[49m\u001b[43m)\u001b[49m\n\u001b[1;32m   1502\u001b[0m \u001b[38;5;66;03m# Do not call functions when jit is used\u001b[39;00m\n\u001b[1;32m   1503\u001b[0m full_backward_hooks, non_full_backward_hooks \u001b[38;5;241m=\u001b[39m [], []\n",
      "File \u001b[0;32m/opt/conda/lib/python3.10/site-packages/whisper/model.py:78\u001b[0m, in \u001b[0;36mMultiHeadAttention.forward\u001b[0;34m(self, x, xa, mask, kv_cache)\u001b[0m\n\u001b[1;32m     71\u001b[0m \u001b[38;5;28;01mdef\u001b[39;00m \u001b[38;5;21mforward\u001b[39m(\n\u001b[1;32m     72\u001b[0m     \u001b[38;5;28mself\u001b[39m,\n\u001b[1;32m     73\u001b[0m     x: Tensor,\n\u001b[0;32m   (...)\u001b[0m\n\u001b[1;32m     76\u001b[0m     kv_cache: Optional[\u001b[38;5;28mdict\u001b[39m] \u001b[38;5;241m=\u001b[39m \u001b[38;5;28;01mNone\u001b[39;00m,\n\u001b[1;32m     77\u001b[0m ):\n\u001b[0;32m---> 78\u001b[0m     q \u001b[38;5;241m=\u001b[39m \u001b[38;5;28;43mself\u001b[39;49m\u001b[38;5;241;43m.\u001b[39;49m\u001b[43mquery\u001b[49m\u001b[43m(\u001b[49m\u001b[43mx\u001b[49m\u001b[43m)\u001b[49m\n\u001b[1;32m     80\u001b[0m     \u001b[38;5;28;01mif\u001b[39;00m kv_cache \u001b[38;5;129;01mis\u001b[39;00m \u001b[38;5;28;01mNone\u001b[39;00m \u001b[38;5;129;01mor\u001b[39;00m xa \u001b[38;5;129;01mis\u001b[39;00m \u001b[38;5;28;01mNone\u001b[39;00m \u001b[38;5;129;01mor\u001b[39;00m \u001b[38;5;28mself\u001b[39m\u001b[38;5;241m.\u001b[39mkey \u001b[38;5;129;01mnot\u001b[39;00m \u001b[38;5;129;01min\u001b[39;00m kv_cache:\n\u001b[1;32m     81\u001b[0m         \u001b[38;5;66;03m# hooks, if installed (i.e. kv_cache is not None), will prepend the cached kv tensors;\u001b[39;00m\n\u001b[1;32m     82\u001b[0m         \u001b[38;5;66;03m# otherwise, perform key/value projections for self- or cross-attention as usual.\u001b[39;00m\n\u001b[1;32m     83\u001b[0m         k \u001b[38;5;241m=\u001b[39m \u001b[38;5;28mself\u001b[39m\u001b[38;5;241m.\u001b[39mkey(x \u001b[38;5;28;01mif\u001b[39;00m xa \u001b[38;5;129;01mis\u001b[39;00m \u001b[38;5;28;01mNone\u001b[39;00m \u001b[38;5;28;01melse\u001b[39;00m xa)\n",
      "File \u001b[0;32m/opt/conda/lib/python3.10/site-packages/torch/nn/modules/module.py:1501\u001b[0m, in \u001b[0;36mModule._call_impl\u001b[0;34m(self, *args, **kwargs)\u001b[0m\n\u001b[1;32m   1496\u001b[0m \u001b[38;5;66;03m# If we don't have any hooks, we want to skip the rest of the logic in\u001b[39;00m\n\u001b[1;32m   1497\u001b[0m \u001b[38;5;66;03m# this function, and just call forward.\u001b[39;00m\n\u001b[1;32m   1498\u001b[0m \u001b[38;5;28;01mif\u001b[39;00m \u001b[38;5;129;01mnot\u001b[39;00m (\u001b[38;5;28mself\u001b[39m\u001b[38;5;241m.\u001b[39m_backward_hooks \u001b[38;5;129;01mor\u001b[39;00m \u001b[38;5;28mself\u001b[39m\u001b[38;5;241m.\u001b[39m_backward_pre_hooks \u001b[38;5;129;01mor\u001b[39;00m \u001b[38;5;28mself\u001b[39m\u001b[38;5;241m.\u001b[39m_forward_hooks \u001b[38;5;129;01mor\u001b[39;00m \u001b[38;5;28mself\u001b[39m\u001b[38;5;241m.\u001b[39m_forward_pre_hooks\n\u001b[1;32m   1499\u001b[0m         \u001b[38;5;129;01mor\u001b[39;00m _global_backward_pre_hooks \u001b[38;5;129;01mor\u001b[39;00m _global_backward_hooks\n\u001b[1;32m   1500\u001b[0m         \u001b[38;5;129;01mor\u001b[39;00m _global_forward_hooks \u001b[38;5;129;01mor\u001b[39;00m _global_forward_pre_hooks):\n\u001b[0;32m-> 1501\u001b[0m     \u001b[38;5;28;01mreturn\u001b[39;00m \u001b[43mforward_call\u001b[49m\u001b[43m(\u001b[49m\u001b[38;5;241;43m*\u001b[39;49m\u001b[43margs\u001b[49m\u001b[43m,\u001b[49m\u001b[43m \u001b[49m\u001b[38;5;241;43m*\u001b[39;49m\u001b[38;5;241;43m*\u001b[39;49m\u001b[43mkwargs\u001b[49m\u001b[43m)\u001b[49m\n\u001b[1;32m   1502\u001b[0m \u001b[38;5;66;03m# Do not call functions when jit is used\u001b[39;00m\n\u001b[1;32m   1503\u001b[0m full_backward_hooks, non_full_backward_hooks \u001b[38;5;241m=\u001b[39m [], []\n",
      "File \u001b[0;32m/opt/conda/lib/python3.10/site-packages/whisper/model.py:37\u001b[0m, in \u001b[0;36mLinear.forward\u001b[0;34m(self, x)\u001b[0m\n\u001b[1;32m     36\u001b[0m \u001b[38;5;28;01mdef\u001b[39;00m \u001b[38;5;21mforward\u001b[39m(\u001b[38;5;28mself\u001b[39m, x: Tensor) \u001b[38;5;241m-\u001b[39m\u001b[38;5;241m>\u001b[39m Tensor:\n\u001b[0;32m---> 37\u001b[0m     \u001b[38;5;28;01mreturn\u001b[39;00m \u001b[43mF\u001b[49m\u001b[38;5;241;43m.\u001b[39;49m\u001b[43mlinear\u001b[49m\u001b[43m(\u001b[49m\n\u001b[1;32m     38\u001b[0m \u001b[43m        \u001b[49m\u001b[43mx\u001b[49m\u001b[43m,\u001b[49m\n\u001b[1;32m     39\u001b[0m \u001b[43m        \u001b[49m\u001b[38;5;28;43mself\u001b[39;49m\u001b[38;5;241;43m.\u001b[39;49m\u001b[43mweight\u001b[49m\u001b[38;5;241;43m.\u001b[39;49m\u001b[43mto\u001b[49m\u001b[43m(\u001b[49m\u001b[43mx\u001b[49m\u001b[38;5;241;43m.\u001b[39;49m\u001b[43mdtype\u001b[49m\u001b[43m)\u001b[49m\u001b[43m,\u001b[49m\n\u001b[1;32m     40\u001b[0m \u001b[43m        \u001b[49m\u001b[38;5;28;43;01mNone\u001b[39;49;00m\u001b[43m \u001b[49m\u001b[38;5;28;43;01mif\u001b[39;49;00m\u001b[43m \u001b[49m\u001b[38;5;28;43mself\u001b[39;49m\u001b[38;5;241;43m.\u001b[39;49m\u001b[43mbias\u001b[49m\u001b[43m \u001b[49m\u001b[38;5;129;43;01mis\u001b[39;49;00m\u001b[43m \u001b[49m\u001b[38;5;28;43;01mNone\u001b[39;49;00m\u001b[43m \u001b[49m\u001b[38;5;28;43;01melse\u001b[39;49;00m\u001b[43m \u001b[49m\u001b[38;5;28;43mself\u001b[39;49m\u001b[38;5;241;43m.\u001b[39;49m\u001b[43mbias\u001b[49m\u001b[38;5;241;43m.\u001b[39;49m\u001b[43mto\u001b[49m\u001b[43m(\u001b[49m\u001b[43mx\u001b[49m\u001b[38;5;241;43m.\u001b[39;49m\u001b[43mdtype\u001b[49m\u001b[43m)\u001b[49m\u001b[43m,\u001b[49m\n\u001b[1;32m     41\u001b[0m \u001b[43m    \u001b[49m\u001b[43m)\u001b[49m\n",
      "\u001b[0;31mRuntimeError\u001b[0m: \"addmm_impl_cpu_\" not implemented for 'Half'"
     ]
    }
   ],
   "source": [
    "decode_stoks(toks)"
   ]
  },
  {
   "cell_type": "code",
   "execution_count": null,
   "id": "76b2dd28",
   "metadata": {},
   "outputs": [],
   "source": [
    "torch.save(toks, 'sampled-jfk-2.pth')"
   ]
  },
  {
   "cell_type": "code",
   "execution_count": null,
   "id": "da227a3b",
   "metadata": {},
   "outputs": [
    {
     "ename": "NameError",
     "evalue": "name 'val_ds' is not defined",
     "output_type": "error",
     "traceback": [
      "\u001b[0;31m---------------------------------------------------------------------------\u001b[0m",
      "\u001b[0;31mNameError\u001b[0m                                 Traceback (most recent call last)",
      "Cell \u001b[0;32mIn[15], line 2\u001b[0m\n\u001b[1;32m      1\u001b[0m \u001b[38;5;28;01mfrom\u001b[39;00m \u001b[38;5;21;01mtorch\u001b[39;00m\u001b[38;5;21;01m.\u001b[39;00m\u001b[38;5;21;01mutils\u001b[39;00m\u001b[38;5;21;01m.\u001b[39;00m\u001b[38;5;21;01mdata\u001b[39;00m \u001b[38;5;28;01mimport\u001b[39;00m DataLoader\n\u001b[0;32m----> 2\u001b[0m dl \u001b[38;5;241m=\u001b[39m DataLoader(\u001b[43mval_ds\u001b[49m, batch_size\u001b[38;5;241m=\u001b[39m\u001b[38;5;241m16\u001b[39m)\n",
      "\u001b[0;31mNameError\u001b[0m: name 'val_ds' is not defined"
     ]
    }
   ],
   "source": [
    "from torch.utils.data import DataLoader\n",
    "dl = DataLoader(val_ds, batch_size=16)"
   ]
  },
  {
   "cell_type": "code",
   "execution_count": null,
   "id": "f9f8ae84",
   "metadata": {},
   "outputs": [],
   "source": [
    "bx, by = [x.cuda() for x in next(iter(dl))]"
   ]
  },
  {
   "cell_type": "code",
   "execution_count": null,
   "id": "145d3f4b",
   "metadata": {},
   "outputs": [
    {
     "data": {
      "text/plain": [
       "(torch.Size([16, 200]), torch.Size([16, 1500]))"
      ]
     },
     "execution_count": null,
     "metadata": {},
     "output_type": "execute_result"
    }
   ],
   "source": [
    "bx.shape, by.shape"
   ]
  },
  {
   "cell_type": "code",
   "execution_count": null,
   "id": "ca57316b",
   "metadata": {},
   "outputs": [
    {
     "data": {
      "text/plain": [
       "tensor(1.4946, device='cuda:0')"
      ]
     },
     "execution_count": null,
     "metadata": {},
     "output_type": "execute_result"
    }
   ],
   "source": [
    "with torch.no_grad():\n",
    "    logits, loss = model(bx, by)\n",
    "loss"
   ]
  },
  {
   "cell_type": "code",
   "execution_count": null,
   "id": "d7cea6e2",
   "metadata": {},
   "outputs": [
    {
     "data": {
      "text/plain": [
       "tensor(141, device='cuda:0')"
      ]
     },
     "execution_count": null,
     "metadata": {},
     "output_type": "execute_result"
    }
   ],
   "source": [
    "(by[5] == 1024).sum()"
   ]
  },
  {
   "cell_type": "code",
   "execution_count": null,
   "id": "3d49a5c2",
   "metadata": {},
   "outputs": [
    {
     "data": {
      "text/plain": [
       "tensor([ 78, 980, 980,  ..., 216, 690, 216], device='cuda:0')"
      ]
     },
     "execution_count": null,
     "metadata": {},
     "output_type": "execute_result"
    }
   ],
   "source": [
    "by[5,:-141]"
   ]
  },
  {
   "cell_type": "code",
   "execution_count": null,
   "id": "7b437e0e",
   "metadata": {},
   "outputs": [
    {
     "data": {
      "text/plain": [
       "[DecodingResult(audio_features=tensor([[-1.7002, -1.3105, -0.0891,  ..., -1.5332,  0.6606, -3.5156],\n",
       "         [-1.5342, -0.3982,  1.1299,  ..., -1.8730, -0.1315, -4.1523],\n",
       "         [-1.5029, -0.5972,  0.6626,  ..., -1.5752, -0.1542, -4.1172],\n",
       "         ...,\n",
       "         [-0.2218,  1.3877,  0.6792,  ...,  1.5840, -1.5488, -0.7349],\n",
       "         [-0.4180,  1.5811,  0.3328,  ...,  2.4277, -1.4521, -0.7466],\n",
       "         [-0.7339,  1.4521, -0.0561,  ...,  2.8633, -1.2754, -0.6807]],\n",
       "        device='cuda:0', dtype=torch.float16), language='en', language_probs=None, tokens=[50363, 1002, 673, 15847, 612, 11, 262, 34692, 10846, 561, 423, 284, 1394, 2491, 736, 290, 6071, 287, 262, 3024, 50619, 50619, 4252, 393, 287, 262, 23147, 6290, 286, 262, 937, 36194, 13, 50807, 50807, 1318, 318, 645, 406, 6, 46, 293, 321, 11, 691, 257, 21151, 11, 30690, 7815, 4314, 11, 290, 612, 318, 645, 14595, 13, 51145, 51145, 1439, 262, 670, 10616, 1660, 318, 1760, 319, 262, 4314, 416, 257, 14782, 12656, 13, 51371, 51371, 843, 3360, 611, 262, 3159, 3011, 5445, 625, 262, 5422, 286, 262, 14782, 12656, 11, 284, 5643, 1282, 51633, 51633], text=\"If she cooked there, the missionary lady would have to keep running back and forth in the hot sun or in the pouring rain of the monsoon. There is no L'Oleam, only a damp, uneven stone floor, and there is no sink. All the work requiring water is done on the floor by a drain pipe. And sometimes if the screen gets broken over the mouth of the drain pipe, toads come\", avg_logprob=-0.29323856198057835, no_speech_prob=0.04910319671034813, temperature=0.0, compression_ratio=1.6177777777777778)]"
      ]
     },
     "execution_count": null,
     "metadata": {},
     "output_type": "execute_result"
    }
   ],
   "source": [
    "x = vqmodel.rq.layers[0]._codebook.embed[0,by[5,:-141].to(torch.long).view(-1)]\n",
    "x = F.pad(x, (0, 0, 0, 1500-len(x)))\n",
    "orig_embs = vqmodel.ln_post(vqmodel.out_blocks((vqmodel.rq.layers[0].project_out(x) + vqmodel.positional_embedding).unsqueeze(0)))\n",
    "whmodel.decode(orig_embs, whisper.DecodingOptions(language='en'))"
   ]
  },
  {
   "cell_type": "code",
   "execution_count": null,
   "id": "61e0e6e5",
   "metadata": {},
   "outputs": [],
   "source": [
    "def decode_stoks(stoks):\n",
    "    stoks = stoks[:-(stoks == 1024).sum()]\n",
    "    x = vqmodel.rq.layers[0]._codebook.embed[0,stoks.to(torch.long).view(-1)]\n",
    "    x = F.pad(x, (0, 0, 0, 1500-len(x)))\n",
    "    embs = vqmodel.ln_post(vqmodel.out_blocks((vqmodel.rq.layers[0].project_out(x) + vqmodel.positional_embedding).unsqueeze(0)))\n",
    "    return whmodel.decode(embs, whisper.DecodingOptions(language='en'))"
   ]
  },
  {
   "cell_type": "code",
   "execution_count": null,
   "id": "f51e1772",
   "metadata": {},
   "outputs": [
    {
     "name": "stdout",
     "output_type": "stream",
     "text": [
      " If she cooked there, the missionary lady would have to keep running back and forth in the hot sun or in the pouring rain of the monsoon. There is no linoleum, only a damp, uneven stone floor, and there is no sink. All the work requiring water is done on the floor by a drainpipe, and sometimes, if the screen gets broken over the mouth of the drainpipe, toads come hopping in, and sometimes even\n"
     ]
    }
   ],
   "source": [
    "print(tokenizer.decode(bx[5][torch.where(bx[5] != tokenizer.eot)]))"
   ]
  },
  {
   "cell_type": "code",
   "execution_count": null,
   "id": "5adc41c9",
   "metadata": {},
   "outputs": [
    {
     "name": "stdout",
     "output_type": "stream",
     "text": [
      "If she cooked there, the missionary lady would have to keep running back and forth in the hot sun or in the pouring rain of the monsoon. There is no L'Oleam, only a damp, uneven stone floor, and there is no sink. All the work requiring water is done on the floor by a drain pipe. And sometimes if the screen gets broken over the mouth of the drain pipe, toads come\n"
     ]
    }
   ],
   "source": [
    "# decode the quantized semantic tokens (they have some errors!)\n",
    "print(decode_stoks(by[5])[0].text)\n",
    "torch.save(by[5], 'gt-tokens.pth')"
   ]
  },
  {
   "cell_type": "code",
   "execution_count": null,
   "id": "702121bc",
   "metadata": {},
   "outputs": [
    {
     "data": {
      "text/html": [
       "\n",
       "<style>\n",
       "    /* Turns off some styling */\n",
       "    progress {\n",
       "        /* gets rid of default border in Firefox and Opera. */\n",
       "        border: none;\n",
       "        /* Needs to be in here for Safari polyfill so background images work as expected. */\n",
       "        background-size: auto;\n",
       "    }\n",
       "    progress:not([value]), progress:not([value])::-webkit-progress-bar {\n",
       "        background: repeating-linear-gradient(45deg, #7e7e7e, #7e7e7e 10px, #5c5c5c 10px, #5c5c5c 20px);\n",
       "    }\n",
       "    .progress-bar-interrupted, .progress-bar-interrupted::-webkit-progress-bar {\n",
       "        background: #F44336;\n",
       "    }\n",
       "</style>\n"
      ],
      "text/plain": [
       "<IPython.core.display.HTML object>"
      ]
     },
     "metadata": {},
     "output_type": "display_data"
    },
    {
     "data": {
      "text/html": [
       "\n",
       "    <div>\n",
       "      <progress value='1500' class='' max='1500' style='width:300px; height:20px; vertical-align: middle;'></progress>\n",
       "      100.00% [1500/1500 00:35&lt;00:00]\n",
       "    </div>\n",
       "    "
      ],
      "text/plain": [
       "<IPython.core.display.HTML object>"
      ]
     },
     "metadata": {},
     "output_type": "display_data"
    }
   ],
   "source": [
    "from fastprogress import progress_bar\n",
    "# generate output using sampling, one token at a time\n",
    "T=0.7\n",
    "toks = []\n",
    "for i in progress_bar(range(1500)):\n",
    "    p, loss = model(bx[5:6], torch.tensor([toks]).cuda(), loss=None)\n",
    "    last_p = p[0,-1]\n",
    "    toks.append(torch.multinomial((last_p / T).softmax(-1), 1).item())\n",
    "toks = torch.tensor(toks).cuda()\n",
    "# btw. this is stupidly slow since it reruns the whole sequence every time, to be optimized later"
   ]
  },
  {
   "cell_type": "code",
   "execution_count": null,
   "id": "c43f4edc",
   "metadata": {},
   "outputs": [
    {
     "name": "stdout",
     "output_type": "stream",
     "text": [
      "If she cooked there, the missionary lady would have to keep running back and forth in the hot sun or in the pouring rain of the monsoon. There is no L'Alim, only a damp, uneven stone floor, and there is no sink. All the work requiring water is done on the floor by a drying pipe. And sometimes, if the screen gets broken over the mouth of the drain pipe, towards\n"
     ]
    }
   ],
   "source": [
    "# decode the semantic tokens generated by the model (they have some more errors)\n",
    "print(decode_stoks(toks)[0].text)\n",
    "torch.save(toks, 'gen-tokens-T0.7.pth')"
   ]
  }
 ],
 "metadata": {
  "kernelspec": {
   "display_name": "Python 3 (ipykernel)",
   "language": "python",
   "name": "python3"
  },
  "language_info": {
   "codemirror_mode": {
    "name": "ipython",
    "version": 3
   },
   "file_extension": ".py",
   "mimetype": "text/x-python",
   "name": "python",
   "nbconvert_exporter": "python",
   "pygments_lexer": "ipython3",
   "version": "3.9.16"
  }
 },
 "nbformat": 4,
 "nbformat_minor": 5
}
