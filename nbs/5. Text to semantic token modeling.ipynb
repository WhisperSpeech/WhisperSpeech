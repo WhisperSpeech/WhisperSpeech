{
 "cells": [
  {
   "cell_type": "code",
   "execution_count": null,
   "id": "7c4adca2",
   "metadata": {},
   "outputs": [
    {
     "name": "stdout",
     "output_type": "stream",
     "text": [
      "The autoreload extension is already loaded. To reload it, use:\n",
      "  %reload_ext autoreload\n"
     ]
    }
   ],
   "source": [
    "#| default_exp t2s\n",
    "%load_ext autoreload\n",
    "%autoreload 2"
   ]
  },
  {
   "cell_type": "code",
   "execution_count": null,
   "id": "0a853249",
   "metadata": {},
   "outputs": [],
   "source": [
    "#| exporti\n",
    "import torch\n",
    "import torch.nn as nn\n",
    "from torch.profiler import record_function"
   ]
  },
  {
   "cell_type": "code",
   "execution_count": null,
   "id": "13462aa4",
   "metadata": {},
   "outputs": [],
   "source": [
    "#| exporti\n",
    "from pathlib import Path\n",
    "import pylab as plt\n",
    "import pandas as pd"
   ]
  },
  {
   "cell_type": "code",
   "execution_count": null,
   "id": "2b289594",
   "metadata": {},
   "outputs": [],
   "source": [
    "#| exporti\n",
    "import whisper\n",
    "from spear_tts_pytorch.train import *\n",
    "from spear_tts_pytorch.modules import *"
   ]
  },
  {
   "cell_type": "code",
   "execution_count": null,
   "id": "d72390bf",
   "metadata": {},
   "outputs": [],
   "source": [
    "datadir = Path('/mnt/stoks-txts/')"
   ]
  },
  {
   "cell_type": "markdown",
   "id": "b02bc209",
   "metadata": {},
   "source": [
    "# Dataset"
   ]
  },
  {
   "cell_type": "markdown",
   "id": "ec46329b",
   "metadata": {},
   "source": [
    "## Load the data"
   ]
  },
  {
   "cell_type": "code",
   "execution_count": null,
   "id": "5dde13ad",
   "metadata": {},
   "outputs": [],
   "source": [
    "data = pd.DataFrame(dict(stoks=[str(x) for x in Path(datadir).rglob('*.stoks')]))"
   ]
  },
  {
   "cell_type": "code",
   "execution_count": null,
   "id": "c568210f",
   "metadata": {},
   "outputs": [],
   "source": [
    "data['text'] = data['stoks'].apply(lambda x: Path(x).with_suffix('.txt').read_text())"
   ]
  },
  {
   "cell_type": "code",
   "execution_count": null,
   "id": "5d80ca7d",
   "metadata": {},
   "outputs": [
    {
     "data": {
      "text/html": [
       "<div>\n",
       "<style scoped>\n",
       "    .dataframe tbody tr th:only-of-type {\n",
       "        vertical-align: middle;\n",
       "    }\n",
       "\n",
       "    .dataframe tbody tr th {\n",
       "        vertical-align: top;\n",
       "    }\n",
       "\n",
       "    .dataframe thead th {\n",
       "        text-align: right;\n",
       "    }\n",
       "</style>\n",
       "<table border=\"1\" class=\"dataframe\">\n",
       "  <thead>\n",
       "    <tr style=\"text-align: right;\">\n",
       "      <th></th>\n",
       "      <th>stoks</th>\n",
       "      <th>text</th>\n",
       "    </tr>\n",
       "  </thead>\n",
       "  <tbody>\n",
       "    <tr>\n",
       "      <th>0</th>\n",
       "      <td>/mnt/stoks-txts/medium/911report_32_64kb-2.stoks</td>\n",
       "      <td>Selection and Selection for 9-11. Twelve of t...</td>\n",
       "    </tr>\n",
       "    <tr>\n",
       "      <th>1</th>\n",
       "      <td>/mnt/stoks-txts/medium/thousand_nights_vol03_1...</td>\n",
       "      <td>smite these people's necks, their troops will...</td>\n",
       "    </tr>\n",
       "    <tr>\n",
       "      <th>2</th>\n",
       "      <td>/mnt/stoks-txts/medium/21stcenturypolicing_03_...</td>\n",
       "      <td>95% are law-abiding. This becomes a self-rein...</td>\n",
       "    </tr>\n",
       "    <tr>\n",
       "      <th>3</th>\n",
       "      <td>/mnt/stoks-txts/medium/rewardsandfairies_11_ki...</td>\n",
       "      <td>That's foolishness, he says. Who cares where ...</td>\n",
       "    </tr>\n",
       "    <tr>\n",
       "      <th>4</th>\n",
       "      <td>/mnt/stoks-txts/medium/factorygirlsdanger_scot...</td>\n",
       "      <td>into her old position and upon terms and cond...</td>\n",
       "    </tr>\n",
       "    <tr>\n",
       "      <th>...</th>\n",
       "      <td>...</td>\n",
       "      <td>...</td>\n",
       "    </tr>\n",
       "    <tr>\n",
       "      <th>140654</th>\n",
       "      <td>/mnt/stoks-txts/small/floridasketch_03_torrey_...</td>\n",
       "      <td>And, as he sprinted up and down the sand in h...</td>\n",
       "    </tr>\n",
       "    <tr>\n",
       "      <th>140655</th>\n",
       "      <td>/mnt/stoks-txts/small/shirley_47_bronte_64kb-8...</td>\n",
       "      <td>had been two hours before.\" This change, acco...</td>\n",
       "    </tr>\n",
       "    <tr>\n",
       "      <th>140656</th>\n",
       "      <td>/mnt/stoks-txts/small/goldenbowl_4-26_james_64...</td>\n",
       "      <td>carefully thinking of it and watching it. But...</td>\n",
       "    </tr>\n",
       "    <tr>\n",
       "      <th>140657</th>\n",
       "      <td>/mnt/stoks-txts/small/millonthefloss_19_eliot_...</td>\n",
       "      <td>this time of his trouble, they never became c...</td>\n",
       "    </tr>\n",
       "    <tr>\n",
       "      <th>140658</th>\n",
       "      <td>/mnt/stoks-txts/small/oldtestament_004_worlden...</td>\n",
       "      <td>one, and every black one among the sheep, and...</td>\n",
       "    </tr>\n",
       "  </tbody>\n",
       "</table>\n",
       "<p>140659 rows × 2 columns</p>\n",
       "</div>"
      ],
      "text/plain": [
       "                                                    stoks  \\\n",
       "0        /mnt/stoks-txts/medium/911report_32_64kb-2.stoks   \n",
       "1       /mnt/stoks-txts/medium/thousand_nights_vol03_1...   \n",
       "2       /mnt/stoks-txts/medium/21stcenturypolicing_03_...   \n",
       "3       /mnt/stoks-txts/medium/rewardsandfairies_11_ki...   \n",
       "4       /mnt/stoks-txts/medium/factorygirlsdanger_scot...   \n",
       "...                                                   ...   \n",
       "140654  /mnt/stoks-txts/small/floridasketch_03_torrey_...   \n",
       "140655  /mnt/stoks-txts/small/shirley_47_bronte_64kb-8...   \n",
       "140656  /mnt/stoks-txts/small/goldenbowl_4-26_james_64...   \n",
       "140657  /mnt/stoks-txts/small/millonthefloss_19_eliot_...   \n",
       "140658  /mnt/stoks-txts/small/oldtestament_004_worlden...   \n",
       "\n",
       "                                                     text  \n",
       "0        Selection and Selection for 9-11. Twelve of t...  \n",
       "1        smite these people's necks, their troops will...  \n",
       "2        95% are law-abiding. This becomes a self-rein...  \n",
       "3        That's foolishness, he says. Who cares where ...  \n",
       "4        into her old position and upon terms and cond...  \n",
       "...                                                   ...  \n",
       "140654   And, as he sprinted up and down the sand in h...  \n",
       "140655   had been two hours before.\" This change, acco...  \n",
       "140656   carefully thinking of it and watching it. But...  \n",
       "140657   this time of his trouble, they never became c...  \n",
       "140658   one, and every black one among the sheep, and...  \n",
       "\n",
       "[140659 rows x 2 columns]"
      ]
     },
     "execution_count": null,
     "metadata": {},
     "output_type": "execute_result"
    }
   ],
   "source": [
    "data"
   ]
  },
  {
   "cell_type": "code",
   "execution_count": null,
   "id": "a7870820",
   "metadata": {},
   "outputs": [
    {
     "name": "stdout",
     "output_type": "stream",
     "text": [
      "1015.8705555555556 hours of (auto)transcribed speech\n"
     ]
    }
   ],
   "source": [
    "print(f\"{len(data) * 26 / 3600} hours of (auto)transcribed speech\") # average sample length is 26s"
   ]
  },
  {
   "cell_type": "code",
   "execution_count": null,
   "id": "a52d5d27",
   "metadata": {},
   "outputs": [],
   "source": [
    "#| exporti\n",
    "def load_data(path):\n",
    "    data = pd.DataFrame(dict(stoks=[str(x) for x in Path(path).rglob('*.stoks')]))\n",
    "    data['text'] = data['stoks'].apply(lambda x: Path(x).with_suffix('.txt').read_text())\n",
    "    return data"
   ]
  },
  {
   "cell_type": "markdown",
   "id": "9f77fad9",
   "metadata": {},
   "source": [
    "## Prepare the datasets"
   ]
  },
  {
   "cell_type": "code",
   "execution_count": null,
   "id": "9d23ab3e",
   "metadata": {},
   "outputs": [],
   "source": [
    "data = load_data(datadir)"
   ]
  },
  {
   "cell_type": "code",
   "execution_count": null,
   "id": "a5edd423",
   "metadata": {},
   "outputs": [],
   "source": [
    "#| exporti\n",
    "import torch.nn.functional as F\n",
    "\n",
    "class SADataset(torch.utils.data.Dataset):\n",
    "    def __init__(self, data, tokenizer):\n",
    "        self.data = data\n",
    "        self.tokenizer = tokenizer\n",
    "    \n",
    "    def __len__(self):\n",
    "        return len(self.data)\n",
    "            \n",
    "    def __repr__(self):\n",
    "        return f\"<Dataset: {len(self)} samples>\"\n",
    "    \n",
    "    def __getitem__(self, idx):\n",
    "        row = self.data.iloc[idx]\n",
    "        Stoks = torch.load(row['stoks'], map_location='cpu')[0,:,0]\n",
    "        Ttoks = self.tokenizer.encode(row['text'])\n",
    "        return F.pad(torch.tensor(Ttoks), (0, 200 - len(Ttoks)), value=self.tokenizer.eot).to(torch.long), F.pad(Stoks, (0, 1500 - len(Stoks)), value=1024).to(torch.long)"
   ]
  },
  {
   "cell_type": "code",
   "execution_count": null,
   "id": "dfb71569",
   "metadata": {},
   "outputs": [],
   "source": [
    "tokenizer = whisper.tokenizer.get_tokenizer(multilingual=True)"
   ]
  },
  {
   "cell_type": "code",
   "execution_count": null,
   "id": "ef8736c2",
   "metadata": {},
   "outputs": [
    {
     "data": {
      "text/plain": [
       "<Dataset: 300 samples>"
      ]
     },
     "execution_count": null,
     "metadata": {},
     "output_type": "execute_result"
    }
   ],
   "source": [
    "val_data, train_data = data[:300], data[300:]\n",
    "val_ds = SADataset(val_data, tokenizer)\n",
    "val_ds"
   ]
  },
  {
   "cell_type": "code",
   "execution_count": null,
   "id": "d6c82c52",
   "metadata": {},
   "outputs": [
    {
     "data": {
      "text/plain": [
       "<Dataset: 140359 samples>"
      ]
     },
     "execution_count": null,
     "metadata": {},
     "output_type": "execute_result"
    }
   ],
   "source": [
    "train_ds = SADataset(train_data, tokenizer)\n",
    "train_ds"
   ]
  },
  {
   "cell_type": "code",
   "execution_count": null,
   "id": "b88131da",
   "metadata": {},
   "outputs": [
    {
     "data": {
      "text/plain": [
       "(tensor([  467,   390,   720, 35442,   337,  1419,   586,   572, 30705,   281,\n",
       "          6479,   720,  8913,    13,  1240, 40791,   439,   720, 43271,   337,\n",
       "           472, 46607,  7563,    11,   293,    11, 16005,    11,  3574,  1314,\n",
       "            13,   583,   750,  2729,   472,   574,   646,   490,   264,  4838,\n",
       "            11,   445,   490,   264,  1036,   935,   412,   597,   264,  2853,\n",
       "           727,   312,  1612,    11,   293,    11, 16124,   257, 25838,   295,\n",
       "         35172,  4877, 18864,   322,   264,  1823,    11,   750, 50257, 50257,\n",
       "         50257, 50257, 50257, 50257, 50257, 50257, 50257, 50257, 50257, 50257,\n",
       "         50257, 50257, 50257, 50257, 50257, 50257, 50257, 50257, 50257, 50257,\n",
       "         50257, 50257, 50257, 50257, 50257, 50257, 50257, 50257, 50257, 50257,\n",
       "         50257, 50257, 50257, 50257, 50257, 50257, 50257, 50257, 50257, 50257,\n",
       "         50257, 50257, 50257, 50257, 50257, 50257, 50257, 50257, 50257, 50257,\n",
       "         50257, 50257, 50257, 50257, 50257, 50257, 50257, 50257, 50257, 50257,\n",
       "         50257, 50257, 50257, 50257, 50257, 50257, 50257, 50257, 50257, 50257,\n",
       "         50257, 50257, 50257, 50257, 50257, 50257, 50257, 50257, 50257, 50257,\n",
       "         50257, 50257, 50257, 50257, 50257, 50257, 50257, 50257, 50257, 50257,\n",
       "         50257, 50257, 50257, 50257, 50257, 50257, 50257, 50257, 50257, 50257,\n",
       "         50257, 50257, 50257, 50257, 50257, 50257, 50257, 50257, 50257, 50257,\n",
       "         50257, 50257, 50257, 50257, 50257, 50257, 50257, 50257, 50257, 50257,\n",
       "         50257, 50257, 50257, 50257, 50257, 50257, 50257, 50257, 50257, 50257]),\n",
       " tensor([ 547,  995,  995,  ..., 1024, 1024, 1024]))"
      ]
     },
     "execution_count": null,
     "metadata": {},
     "output_type": "execute_result"
    }
   ],
   "source": [
    "train_ds[0]"
   ]
  },
  {
   "cell_type": "code",
   "execution_count": null,
   "id": "2d156fad",
   "metadata": {},
   "outputs": [],
   "source": [
    "#| export\n",
    "def load_datasets(path):\n",
    "    tokenizer = whisper.tokenizer.get_tokenizer(multilingual=True)\n",
    "    data = load_data(path)\n",
    "    \n",
    "    val_data, train_data = data[:300], data[300:]\n",
    "\n",
    "    return SADataset(train_data, tokenizer), SADataset(val_data, tokenizer)"
   ]
  },
  {
   "cell_type": "markdown",
   "id": "0f5e4ad4",
   "metadata": {},
   "source": [
    "# Modeling"
   ]
  },
  {
   "cell_type": "code",
   "execution_count": null,
   "id": "159774b6",
   "metadata": {},
   "outputs": [],
   "source": [
    "#| export\n",
    "class TSARTransformer(nn.Module):\n",
    "    def __init__(self, width=384, depth=6, n_head=6):\n",
    "        super(TSARTransformer, self).__init__()\n",
    "\n",
    "        self.encoder = Encoder(length=200, codes=50364, width=width, n_head=n_head, depth=depth)\n",
    "        self.decoder = Decoder(length=1500, codes=1024, width=width, n_head=n_head, depth=depth)\n",
    "\n",
    "    def forward(self, Ttoks, Stoks, loss=True):\n",
    "        with record_function(\"encoder\"):\n",
    "            xenc = self.encoder(Ttoks.to(torch.long))\n",
    "        with record_function(\"decoder\"):\n",
    "            logits = self.decoder(Stoks, xenc)\n",
    "        if loss is not None:\n",
    "            with record_function(\"loss\"):\n",
    "                loss = F.cross_entropy(logits.reshape(-1,logits.shape[-1]), Stoks.view(-1))\n",
    "        return logits, loss"
   ]
  },
  {
   "cell_type": "code",
   "execution_count": null,
   "id": "e98060d6",
   "metadata": {},
   "outputs": [],
   "source": [
    "#| export\n",
    "def make_model(size):\n",
    "    if size == 'micro':\n",
    "        return TSARTransformer(depth=3)\n",
    "    elif size == 'tiny':\n",
    "        return TSARTransformer(depth=4)"
   ]
  },
  {
   "cell_type": "code",
   "execution_count": null,
   "id": "a4853d59",
   "metadata": {},
   "outputs": [
    {
     "data": {
      "text/html": [],
      "text/plain": [
       "<IPython.core.display.HTML object>"
      ]
     },
     "metadata": {},
     "output_type": "display_data"
    },
    {
     "data": {
      "text/html": [
       "\n",
       "<style>\n",
       "    /* Turns off some styling */\n",
       "    progress {\n",
       "        /* gets rid of default border in Firefox and Opera. */\n",
       "        border: none;\n",
       "        /* Needs to be in here for Safari polyfill so background images work as expected. */\n",
       "        background-size: auto;\n",
       "    }\n",
       "    progress:not([value]), progress:not([value])::-webkit-progress-bar {\n",
       "        background: repeating-linear-gradient(45deg, #7e7e7e, #7e7e7e 10px, #5c5c5c 10px, #5c5c5c 20px);\n",
       "    }\n",
       "    .progress-bar-interrupted, .progress-bar-interrupted::-webkit-progress-bar {\n",
       "        background: #F44336;\n",
       "    }\n",
       "</style>\n"
      ],
      "text/plain": [
       "<IPython.core.display.HTML object>"
      ]
     },
     "metadata": {},
     "output_type": "display_data"
    },
    {
     "data": {
      "text/html": [
       "\n",
       "    <div>\n",
       "      <progress value='1' class='' max='1' style='width:300px; height:20px; vertical-align: middle;'></progress>\n",
       "      100.00% [1/1 13:36&lt;00:00]\n",
       "    </div>\n",
       "    \n",
       "<table border=\"1\" class=\"dataframe\">\n",
       "  <thead>\n",
       "    <tr style=\"text-align: left;\">\n",
       "      <th>samples</th>\n",
       "      <th>train</th>\n",
       "      <th>val</th>\n",
       "      <th>time</th>\n",
       "    </tr>\n",
       "  </thead>\n",
       "  <tbody>\n",
       "    <tr>\n",
       "      <td>20000</td>\n",
       "      <td>2.93531</td>\n",
       "      <td>3.08976</td>\n",
       "      <td>02:06</td>\n",
       "    </tr>\n",
       "    <tr>\n",
       "      <td>40000</td>\n",
       "      <td>2.40885</td>\n",
       "      <td>2.46782</td>\n",
       "      <td>03:47</td>\n",
       "    </tr>\n",
       "    <tr>\n",
       "      <td>60000</td>\n",
       "      <td>2.24459</td>\n",
       "      <td>2.34386</td>\n",
       "      <td>05:41</td>\n",
       "    </tr>\n",
       "    <tr>\n",
       "      <td>80000</td>\n",
       "      <td>2.25632</td>\n",
       "      <td>2.26977</td>\n",
       "      <td>07:34</td>\n",
       "    </tr>\n",
       "    <tr>\n",
       "      <td>100000</td>\n",
       "      <td>2.12768</td>\n",
       "      <td>2.20723</td>\n",
       "      <td>09:35</td>\n",
       "    </tr>\n",
       "    <tr>\n",
       "      <td>120000</td>\n",
       "      <td>2.07301</td>\n",
       "      <td>2.15234</td>\n",
       "      <td>11:30</td>\n",
       "    </tr>\n",
       "    <tr>\n",
       "      <td>140000</td>\n",
       "      <td>2.11128</td>\n",
       "      <td>2.12581</td>\n",
       "      <td>13:33</td>\n",
       "    </tr>\n",
       "    <tr>\n",
       "      <td>140368</td>\n",
       "      <td>2.09136</td>\n",
       "      <td>2.12533</td>\n",
       "      <td>13:36</td>\n",
       "    </tr>\n",
       "  </tbody>\n",
       "</table><p>\n",
       "\n",
       "    <div>\n",
       "      <progress value='8773' class='' max='8773' style='width:300px; height:20px; vertical-align: middle;'></progress>\n",
       "      100.00% [8773/8773 13:36&lt;00:00 #1/1 loss: 2.091 / 2.125]\n",
       "    </div>\n",
       "    "
      ],
      "text/plain": [
       "<IPython.core.display.HTML object>"
      ]
     },
     "metadata": {},
     "output_type": "display_data"
    },
    {
     "data": {
      "image/png": "[encoded data removed]",
      "text/plain": [
       "<Figure size 1000x600 with 2 Axes>"
      ]
     },
     "metadata": {},
     "output_type": "display_data"
    }
   ],
   "source": [
    "# make sure it works at all\n",
    "model = TSARTransformer(depth=3).cuda()\n",
    "train(\"/scrach/tsar-checkpoints\", model, train_ds, val_ds, half=True, bs=16, lr=4e-3, epochs=1,\n",
    "      table_row_every_iters=20000, run_valid_every_iters=4000)"
   ]
  },
  {
   "cell_type": "code",
   "execution_count": null,
   "id": "fd58189f",
   "metadata": {},
   "outputs": [
    {
     "data": {
      "text/html": [],
      "text/plain": [
       "<IPython.core.display.HTML object>"
      ]
     },
     "metadata": {},
     "output_type": "display_data"
    },
    {
     "data": {
      "text/html": [
       "\n",
       "<style>\n",
       "    /* Turns off some styling */\n",
       "    progress {\n",
       "        /* gets rid of default border in Firefox and Opera. */\n",
       "        border: none;\n",
       "        /* Needs to be in here for Safari polyfill so background images work as expected. */\n",
       "        background-size: auto;\n",
       "    }\n",
       "    progress:not([value]), progress:not([value])::-webkit-progress-bar {\n",
       "        background: repeating-linear-gradient(45deg, #7e7e7e, #7e7e7e 10px, #5c5c5c 10px, #5c5c5c 20px);\n",
       "    }\n",
       "    .progress-bar-interrupted, .progress-bar-interrupted::-webkit-progress-bar {\n",
       "        background: #F44336;\n",
       "    }\n",
       "</style>\n"
      ],
      "text/plain": [
       "<IPython.core.display.HTML object>"
      ]
     },
     "metadata": {},
     "output_type": "display_data"
    },
    {
     "data": {
      "text/html": [
       "<table border=\"1\" class=\"dataframe\">\n",
       "  <thead>\n",
       "    <tr style=\"text-align: left;\">\n",
       "      <th>samples</th>\n",
       "      <th>train</th>\n",
       "      <th>val</th>\n",
       "      <th>time</th>\n",
       "    </tr>\n",
       "  </thead>\n",
       "  <tbody>\n",
       "    <tr>\n",
       "      <td>80000</td>\n",
       "      <td>2.56269</td>\n",
       "      <td>2.83687</td>\n",
       "      <td>22:59</td>\n",
       "    </tr>\n",
       "    <tr>\n",
       "      <td>160000</td>\n",
       "      <td>2.26247</td>\n",
       "      <td>2.39995</td>\n",
       "      <td>41:30</td>\n",
       "    </tr>\n",
       "    <tr>\n",
       "      <td>240000</td>\n",
       "      <td>2.16594</td>\n",
       "      <td>2.27455</td>\n",
       "      <td>47:38</td>\n",
       "    </tr>\n",
       "    <tr>\n",
       "      <td>320000</td>\n",
       "      <td>1.96548</td>\n",
       "      <td>2.00825</td>\n",
       "      <td>54:08</td>\n",
       "    </tr>\n",
       "    <tr>\n",
       "      <td>400000</td>\n",
       "      <td>1.86841</td>\n",
       "      <td>1.88929</td>\n",
       "      <td>1:01:07</td>\n",
       "    </tr>\n",
       "    <tr>\n",
       "      <td>480000</td>\n",
       "      <td>1.82314</td>\n",
       "      <td>1.85076</td>\n",
       "      <td>1:07:27</td>\n",
       "    </tr>\n",
       "    <tr>\n",
       "      <td>560000</td>\n",
       "      <td>1.83932</td>\n",
       "      <td>1.81487</td>\n",
       "      <td>1:13:35</td>\n",
       "    </tr>\n",
       "    <tr>\n",
       "      <td>640000</td>\n",
       "      <td>1.80581</td>\n",
       "      <td>1.79792</td>\n",
       "      <td>1:19:55</td>\n",
       "    </tr>\n",
       "    <tr>\n",
       "      <td>720000</td>\n",
       "      <td>1.74787</td>\n",
       "      <td>1.78892</td>\n",
       "      <td>1:26:10</td>\n",
       "    </tr>\n",
       "    <tr>\n",
       "      <td>800000</td>\n",
       "      <td>1.79779</td>\n",
       "      <td>1.78353</td>\n",
       "      <td>1:32:32</td>\n",
       "    </tr>\n",
       "    <tr>\n",
       "      <td>880000</td>\n",
       "      <td>1.78870</td>\n",
       "      <td>1.78328</td>\n",
       "      <td>1:38:44</td>\n",
       "    </tr>\n",
       "    <tr>\n",
       "      <td>960000</td>\n",
       "      <td>1.74307</td>\n",
       "      <td>1.77828</td>\n",
       "      <td>1:44:58</td>\n",
       "    </tr>\n",
       "    <tr>\n",
       "      <td>1040000</td>\n",
       "      <td>1.66399</td>\n",
       "      <td>1.76878</td>\n",
       "      <td>1:51:11</td>\n",
       "    </tr>\n",
       "    <tr>\n",
       "      <td>1120000</td>\n",
       "      <td>1.78734</td>\n",
       "      <td>1.76162</td>\n",
       "      <td>1:57:22</td>\n",
       "    </tr>\n",
       "    <tr>\n",
       "      <td>1200000</td>\n",
       "      <td>1.74291</td>\n",
       "      <td>1.75627</td>\n",
       "      <td>2:03:33</td>\n",
       "    </tr>\n",
       "    <tr>\n",
       "      <td>1280000</td>\n",
       "      <td>1.77040</td>\n",
       "      <td>1.74938</td>\n",
       "      <td>2:09:42</td>\n",
       "    </tr>\n",
       "    <tr>\n",
       "      <td>1360000</td>\n",
       "      <td>1.73132</td>\n",
       "      <td>1.74514</td>\n",
       "      <td>2:16:01</td>\n",
       "    </tr>\n",
       "    <tr>\n",
       "      <td>1440000</td>\n",
       "      <td>1.75393</td>\n",
       "      <td>1.74387</td>\n",
       "      <td>2:22:16</td>\n",
       "    </tr>\n",
       "    <tr>\n",
       "      <td>1520000</td>\n",
       "      <td>1.66232</td>\n",
       "      <td>1.73543</td>\n",
       "      <td>2:28:28</td>\n",
       "    </tr>\n",
       "    <tr>\n",
       "      <td>1600000</td>\n",
       "      <td>1.69324</td>\n",
       "      <td>1.73118</td>\n",
       "      <td>2:34:47</td>\n",
       "    </tr>\n",
       "    <tr>\n",
       "      <td>1680000</td>\n",
       "      <td>1.68501</td>\n",
       "      <td>1.72626</td>\n",
       "      <td>2:41:03</td>\n",
       "    </tr>\n",
       "    <tr>\n",
       "      <td>1760000</td>\n",
       "      <td>1.70389</td>\n",
       "      <td>1.71939</td>\n",
       "      <td>2:47:19</td>\n",
       "    </tr>\n",
       "    <tr>\n",
       "      <td>1840000</td>\n",
       "      <td>1.68793</td>\n",
       "      <td>1.71493</td>\n",
       "      <td>2:53:36</td>\n",
       "    </tr>\n",
       "    <tr>\n",
       "      <td>1920000</td>\n",
       "      <td>1.63555</td>\n",
       "      <td>1.70718</td>\n",
       "      <td>2:59:48</td>\n",
       "    </tr>\n",
       "    <tr>\n",
       "      <td>2000000</td>\n",
       "      <td>1.63574</td>\n",
       "      <td>1.70242</td>\n",
       "      <td>3:05:54</td>\n",
       "    </tr>\n",
       "    <tr>\n",
       "      <td>2080000</td>\n",
       "      <td>1.65461</td>\n",
       "      <td>1.69481</td>\n",
       "      <td>3:12:09</td>\n",
       "    </tr>\n",
       "    <tr>\n",
       "      <td>2160000</td>\n",
       "      <td>1.64555</td>\n",
       "      <td>1.68704</td>\n",
       "      <td>3:18:25</td>\n",
       "    </tr>\n",
       "    <tr>\n",
       "      <td>2240000</td>\n",
       "      <td>1.62322</td>\n",
       "      <td>1.68100</td>\n",
       "      <td>3:24:48</td>\n",
       "    </tr>\n",
       "    <tr>\n",
       "      <td>2320000</td>\n",
       "      <td>1.66849</td>\n",
       "      <td>1.67832</td>\n",
       "      <td>3:31:07</td>\n",
       "    </tr>\n",
       "    <tr>\n",
       "      <td>2400000</td>\n",
       "      <td>1.68997</td>\n",
       "      <td>1.66812</td>\n",
       "      <td>3:37:22</td>\n",
       "    </tr>\n",
       "    <tr>\n",
       "      <td>2480000</td>\n",
       "      <td>1.60114</td>\n",
       "      <td>1.66068</td>\n",
       "      <td>3:43:26</td>\n",
       "    </tr>\n",
       "    <tr>\n",
       "      <td>2560000</td>\n",
       "      <td>1.59099</td>\n",
       "      <td>1.65411</td>\n",
       "      <td>3:49:36</td>\n",
       "    </tr>\n",
       "    <tr>\n",
       "      <td>2640000</td>\n",
       "      <td>1.56531</td>\n",
       "      <td>1.64151</td>\n",
       "      <td>3:55:43</td>\n",
       "    </tr>\n",
       "    <tr>\n",
       "      <td>2720000</td>\n",
       "      <td>1.54572</td>\n",
       "      <td>1.63576</td>\n",
       "      <td>4:01:49</td>\n",
       "    </tr>\n",
       "    <tr>\n",
       "      <td>2800000</td>\n",
       "      <td>1.58271</td>\n",
       "      <td>1.62604</td>\n",
       "      <td>4:07:57</td>\n",
       "    </tr>\n",
       "    <tr>\n",
       "      <td>2880000</td>\n",
       "      <td>1.56368</td>\n",
       "      <td>1.61911</td>\n",
       "      <td>4:14:27</td>\n",
       "    </tr>\n",
       "    <tr>\n",
       "      <td>2960000</td>\n",
       "      <td>1.52660</td>\n",
       "      <td>1.60916</td>\n",
       "      <td>4:20:53</td>\n",
       "    </tr>\n",
       "    <tr>\n",
       "      <td>3040000</td>\n",
       "      <td>1.52538</td>\n",
       "      <td>1.60165</td>\n",
       "      <td>4:27:04</td>\n",
       "    </tr>\n",
       "    <tr>\n",
       "      <td>3120000</td>\n",
       "      <td>1.51891</td>\n",
       "      <td>1.59460</td>\n",
       "      <td>4:33:15</td>\n",
       "    </tr>\n",
       "    <tr>\n",
       "      <td>3200000</td>\n",
       "      <td>1.52464</td>\n",
       "      <td>1.58767</td>\n",
       "      <td>4:39:53</td>\n",
       "    </tr>\n",
       "    <tr>\n",
       "      <td>3280000</td>\n",
       "      <td>1.46514</td>\n",
       "      <td>1.58307</td>\n",
       "      <td>4:46:08</td>\n",
       "    </tr>\n",
       "    <tr>\n",
       "      <td>3360000</td>\n",
       "      <td>1.48269</td>\n",
       "      <td>1.57895</td>\n",
       "      <td>4:52:27</td>\n",
       "    </tr>\n",
       "    <tr>\n",
       "      <td>3440000</td>\n",
       "      <td>1.51657</td>\n",
       "      <td>1.57807</td>\n",
       "      <td>4:59:13</td>\n",
       "    </tr>\n",
       "  </tbody>\n",
       "</table>"
      ],
      "text/plain": [
       "<IPython.core.display.HTML object>"
      ]
     },
     "metadata": {},
     "output_type": "display_data"
    },
    {
     "data": {
      "image/png": "[encoded data removed]",
      "text/plain": [
       "<Figure size 1000x600 with 2 Axes>"
      ]
     },
     "metadata": {},
     "output_type": "display_data"
    }
   ],
   "source": [
    "model = TSARTransformer(depth=3).cuda()\n",
    "train(\"tsar-140k\", model, train_ds, val_ds, half=True, bs=8, lr=1e-3, epochs=25, warmup=0,\n",
    "      table_row_every_iters=80000, run_valid_every_iters=8000)"
   ]
  },
  {
   "cell_type": "code",
   "execution_count": null,
   "id": "282243a2",
   "metadata": {},
   "outputs": [],
   "source": [
    "torch.save(model.state_dict(), 'tsar-140k-25e-ce1.58.pth')"
   ]
  },
  {
   "cell_type": "code",
   "execution_count": null,
   "id": "4ec37514",
   "metadata": {},
   "outputs": [
    {
     "data": {
      "text/html": [],
      "text/plain": [
       "<IPython.core.display.HTML object>"
      ]
     },
     "metadata": {},
     "output_type": "display_data"
    },
    {
     "data": {
      "text/html": [
       "\n",
       "<style>\n",
       "    /* Turns off some styling */\n",
       "    progress {\n",
       "        /* gets rid of default border in Firefox and Opera. */\n",
       "        border: none;\n",
       "        /* Needs to be in here for Safari polyfill so background images work as expected. */\n",
       "        background-size: auto;\n",
       "    }\n",
       "    progress:not([value]), progress:not([value])::-webkit-progress-bar {\n",
       "        background: repeating-linear-gradient(45deg, #7e7e7e, #7e7e7e 10px, #5c5c5c 10px, #5c5c5c 20px);\n",
       "    }\n",
       "    .progress-bar-interrupted, .progress-bar-interrupted::-webkit-progress-bar {\n",
       "        background: #F44336;\n",
       "    }\n",
       "</style>\n"
      ],
      "text/plain": [
       "<IPython.core.display.HTML object>"
      ]
     },
     "metadata": {},
     "output_type": "display_data"
    },
    {
     "data": {
      "text/html": [
       "<table border=\"1\" class=\"dataframe\">\n",
       "  <thead>\n",
       "    <tr style=\"text-align: left;\">\n",
       "      <th>samples</th>\n",
       "      <th>train</th>\n",
       "      <th>val</th>\n",
       "      <th>time</th>\n",
       "    </tr>\n",
       "  </thead>\n",
       "  <tbody>\n",
       "    <tr>\n",
       "      <td>80000</td>\n",
       "      <td>2.31314</td>\n",
       "      <td>2.41210</td>\n",
       "      <td>04:53</td>\n",
       "    </tr>\n",
       "    <tr>\n",
       "      <td>160000</td>\n",
       "      <td>2.16040</td>\n",
       "      <td>2.25076</td>\n",
       "      <td>09:42</td>\n",
       "    </tr>\n",
       "    <tr>\n",
       "      <td>240000</td>\n",
       "      <td>2.09020</td>\n",
       "      <td>2.14504</td>\n",
       "      <td>14:51</td>\n",
       "    </tr>\n",
       "    <tr>\n",
       "      <td>320000</td>\n",
       "      <td>1.95545</td>\n",
       "      <td>2.00177</td>\n",
       "      <td>19:52</td>\n",
       "    </tr>\n",
       "    <tr>\n",
       "      <td>400000</td>\n",
       "      <td>1.83738</td>\n",
       "      <td>1.87890</td>\n",
       "      <td>24:42</td>\n",
       "    </tr>\n",
       "    <tr>\n",
       "      <td>480000</td>\n",
       "      <td>1.75185</td>\n",
       "      <td>1.82079</td>\n",
       "      <td>29:49</td>\n",
       "    </tr>\n",
       "    <tr>\n",
       "      <td>560000</td>\n",
       "      <td>1.72557</td>\n",
       "      <td>1.78461</td>\n",
       "      <td>34:49</td>\n",
       "    </tr>\n",
       "    <tr>\n",
       "      <td>640000</td>\n",
       "      <td>1.73570</td>\n",
       "      <td>1.76621</td>\n",
       "      <td>39:40</td>\n",
       "    </tr>\n",
       "    <tr>\n",
       "      <td>720000</td>\n",
       "      <td>1.69044</td>\n",
       "      <td>1.75392</td>\n",
       "      <td>44:40</td>\n",
       "    </tr>\n",
       "    <tr>\n",
       "      <td>800000</td>\n",
       "      <td>1.67324</td>\n",
       "      <td>1.73999</td>\n",
       "      <td>49:35</td>\n",
       "    </tr>\n",
       "    <tr>\n",
       "      <td>880000</td>\n",
       "      <td>1.70643</td>\n",
       "      <td>1.73158</td>\n",
       "      <td>54:24</td>\n",
       "    </tr>\n",
       "    <tr>\n",
       "      <td>960000</td>\n",
       "      <td>1.70786</td>\n",
       "      <td>1.72684</td>\n",
       "      <td>59:18</td>\n",
       "    </tr>\n",
       "    <tr>\n",
       "      <td>1040000</td>\n",
       "      <td>1.71996</td>\n",
       "      <td>1.71658</td>\n",
       "      <td>1:04:09</td>\n",
       "    </tr>\n",
       "    <tr>\n",
       "      <td>1120000</td>\n",
       "      <td>1.67093</td>\n",
       "      <td>1.71494</td>\n",
       "      <td>1:08:59</td>\n",
       "    </tr>\n",
       "    <tr>\n",
       "      <td>1200000</td>\n",
       "      <td>1.68071</td>\n",
       "      <td>1.70685</td>\n",
       "      <td>1:13:52</td>\n",
       "    </tr>\n",
       "    <tr>\n",
       "      <td>1280000</td>\n",
       "      <td>1.67647</td>\n",
       "      <td>1.69975</td>\n",
       "      <td>1:18:41</td>\n",
       "    </tr>\n",
       "    <tr>\n",
       "      <td>1360000</td>\n",
       "      <td>1.68778</td>\n",
       "      <td>1.69497</td>\n",
       "      <td>1:23:45</td>\n",
       "    </tr>\n",
       "    <tr>\n",
       "      <td>1440000</td>\n",
       "      <td>1.63308</td>\n",
       "      <td>1.69156</td>\n",
       "      <td>1:28:50</td>\n",
       "    </tr>\n",
       "    <tr>\n",
       "      <td>1520000</td>\n",
       "      <td>1.62949</td>\n",
       "      <td>1.68304</td>\n",
       "      <td>1:33:56</td>\n",
       "    </tr>\n",
       "    <tr>\n",
       "      <td>1600000</td>\n",
       "      <td>1.65336</td>\n",
       "      <td>1.67676</td>\n",
       "      <td>1:39:02</td>\n",
       "    </tr>\n",
       "    <tr>\n",
       "      <td>1680000</td>\n",
       "      <td>1.64270</td>\n",
       "      <td>1.67212</td>\n",
       "      <td>1:44:08</td>\n",
       "    </tr>\n",
       "    <tr>\n",
       "      <td>1760000</td>\n",
       "      <td>1.60869</td>\n",
       "      <td>1.66234</td>\n",
       "      <td>1:48:54</td>\n",
       "    </tr>\n",
       "    <tr>\n",
       "      <td>1840000</td>\n",
       "      <td>1.63936</td>\n",
       "      <td>1.65975</td>\n",
       "      <td>1:53:43</td>\n",
       "    </tr>\n",
       "    <tr>\n",
       "      <td>1920000</td>\n",
       "      <td>1.60129</td>\n",
       "      <td>1.65080</td>\n",
       "      <td>1:58:49</td>\n",
       "    </tr>\n",
       "    <tr>\n",
       "      <td>2000000</td>\n",
       "      <td>1.61278</td>\n",
       "      <td>1.64941</td>\n",
       "      <td>2:03:41</td>\n",
       "    </tr>\n",
       "    <tr>\n",
       "      <td>2080000</td>\n",
       "      <td>1.59714</td>\n",
       "      <td>1.64003</td>\n",
       "      <td>2:08:33</td>\n",
       "    </tr>\n",
       "    <tr>\n",
       "      <td>2160000</td>\n",
       "      <td>1.60850</td>\n",
       "      <td>1.63501</td>\n",
       "      <td>2:13:21</td>\n",
       "    </tr>\n",
       "    <tr>\n",
       "      <td>2240000</td>\n",
       "      <td>1.55892</td>\n",
       "      <td>1.62777</td>\n",
       "      <td>2:18:18</td>\n",
       "    </tr>\n",
       "    <tr>\n",
       "      <td>2320000</td>\n",
       "      <td>1.55027</td>\n",
       "      <td>1.62194</td>\n",
       "      <td>2:23:05</td>\n",
       "    </tr>\n",
       "    <tr>\n",
       "      <td>2400000</td>\n",
       "      <td>1.53199</td>\n",
       "      <td>1.61445</td>\n",
       "      <td>2:27:54</td>\n",
       "    </tr>\n",
       "    <tr>\n",
       "      <td>2480000</td>\n",
       "      <td>1.55937</td>\n",
       "      <td>1.60859</td>\n",
       "      <td>2:33:05</td>\n",
       "    </tr>\n",
       "    <tr>\n",
       "      <td>2560000</td>\n",
       "      <td>1.50396</td>\n",
       "      <td>1.60217</td>\n",
       "      <td>2:38:00</td>\n",
       "    </tr>\n",
       "    <tr>\n",
       "      <td>2640000</td>\n",
       "      <td>1.54471</td>\n",
       "      <td>1.59542</td>\n",
       "      <td>2:43:14</td>\n",
       "    </tr>\n",
       "    <tr>\n",
       "      <td>2720000</td>\n",
       "      <td>1.55641</td>\n",
       "      <td>1.58846</td>\n",
       "      <td>2:48:25</td>\n",
       "    </tr>\n",
       "    <tr>\n",
       "      <td>2800000</td>\n",
       "      <td>1.50863</td>\n",
       "      <td>1.57974</td>\n",
       "      <td>2:53:37</td>\n",
       "    </tr>\n",
       "    <tr>\n",
       "      <td>2880000</td>\n",
       "      <td>1.49681</td>\n",
       "      <td>1.57561</td>\n",
       "      <td>2:58:43</td>\n",
       "    </tr>\n",
       "    <tr>\n",
       "      <td>2960000</td>\n",
       "      <td>1.50676</td>\n",
       "      <td>1.57008</td>\n",
       "      <td>3:03:52</td>\n",
       "    </tr>\n",
       "    <tr>\n",
       "      <td>3040000</td>\n",
       "      <td>1.50988</td>\n",
       "      <td>1.56511</td>\n",
       "      <td>3:08:52</td>\n",
       "    </tr>\n",
       "    <tr>\n",
       "      <td>3120000</td>\n",
       "      <td>1.45172</td>\n",
       "      <td>1.56008</td>\n",
       "      <td>3:13:49</td>\n",
       "    </tr>\n",
       "    <tr>\n",
       "      <td>3200000</td>\n",
       "      <td>1.44757</td>\n",
       "      <td>1.55511</td>\n",
       "      <td>3:18:36</td>\n",
       "    </tr>\n",
       "    <tr>\n",
       "      <td>3280000</td>\n",
       "      <td>1.46662</td>\n",
       "      <td>1.55356</td>\n",
       "      <td>3:23:34</td>\n",
       "    </tr>\n",
       "    <tr>\n",
       "      <td>3360000</td>\n",
       "      <td>1.44749</td>\n",
       "      <td>1.55062</td>\n",
       "      <td>3:28:34</td>\n",
       "    </tr>\n",
       "    <tr>\n",
       "      <td>3440000</td>\n",
       "      <td>1.47749</td>\n",
       "      <td>1.55033</td>\n",
       "      <td>3:33:28</td>\n",
       "    </tr>\n",
       "  </tbody>\n",
       "</table>"
      ],
      "text/plain": [
       "<IPython.core.display.HTML object>"
      ]
     },
     "metadata": {},
     "output_type": "display_data"
    },
    {
     "data": {
      "image/png": "[encoded data removed]",
      "text/plain": [
       "<Figure size 1000x600 with 2 Axes>"
      ]
     },
     "metadata": {},
     "output_type": "display_data"
    }
   ],
   "source": [
    "# Whisper tiny sized model\n",
    "model = TSARTransformer(depth=4).cuda()\n",
    "train(\"tsar-140k-4l\", model, train_ds, val_ds, half=True, bs=16, lr=2e-3, epochs=25, warmup=0, pct_start=0.05,\n",
    "      table_row_every_iters=80000, run_valid_every_iters=8000, chkpt_every_iters=80000)"
   ]
  },
  {
   "cell_type": "code",
   "execution_count": null,
   "id": "a21eb3ed",
   "metadata": {},
   "outputs": [],
   "source": [
    "torch.save(model.state_dict(), 'tsar-140k-4l-25e-ce1.55.pth')"
   ]
  },
  {
   "cell_type": "markdown",
   "id": "843d6703",
   "metadata": {},
   "source": [
    "# Sample from the model"
   ]
  },
  {
   "cell_type": "code",
   "execution_count": null,
   "id": "46afee25",
   "metadata": {},
   "outputs": [],
   "source": [
    "model = TSARTransformer(depth=4).cuda()\n",
    "model.load_state_dict(torch.load('tsar-140k-4l-25e-ce1.55.pth')) #'/scrach/tsar-checkpoints/1480000.pt')) #  tsar-32k-60e-ce1.87.pth\n",
    "model.eval().cuda();"
   ]
  },
  {
   "cell_type": "code",
   "execution_count": null,
   "id": "8c4e37f8",
   "metadata": {},
   "outputs": [],
   "source": [
    "whmodel = whisper.load_model('tiny.en')"
   ]
  },
  {
   "cell_type": "code",
   "execution_count": null,
   "id": "b26f93b3",
   "metadata": {},
   "outputs": [],
   "source": [
    "from spear_tts_pytorch.extract_stoks import RQBottleneckTransformer\n",
    "vqmodel = RQBottleneckTransformer(codebook_dim=16, vq_codes=1024, q_depth=1, n_head=6, depth=1,\n",
    "                              threshold_ema_dead_code=0.1)\n",
    "vqmodel.load_state_dict(torch.load('./vqmodel2-tiny-1000h.pth'))\n",
    "vqmodel.eval().cuda();"
   ]
  },
  {
   "cell_type": "code",
   "execution_count": null,
   "id": "da227a3b",
   "metadata": {},
   "outputs": [],
   "source": [
    "from torch.utils.data import DataLoader\n",
    "dl = DataLoader(val_ds, batch_size=16)"
   ]
  },
  {
   "cell_type": "code",
   "execution_count": null,
   "id": "f9f8ae84",
   "metadata": {},
   "outputs": [],
   "source": [
    "bx, by = [x.cuda() for x in next(iter(dl))]"
   ]
  },
  {
   "cell_type": "code",
   "execution_count": null,
   "id": "145d3f4b",
   "metadata": {},
   "outputs": [
    {
     "data": {
      "text/plain": [
       "(torch.Size([16, 200]), torch.Size([16, 1500]))"
      ]
     },
     "execution_count": null,
     "metadata": {},
     "output_type": "execute_result"
    }
   ],
   "source": [
    "bx.shape, by.shape"
   ]
  },
  {
   "cell_type": "code",
   "execution_count": null,
   "id": "ca57316b",
   "metadata": {},
   "outputs": [
    {
     "data": {
      "text/plain": [
       "tensor(1.4946, device='cuda:0')"
      ]
     },
     "execution_count": null,
     "metadata": {},
     "output_type": "execute_result"
    }
   ],
   "source": [
    "with torch.no_grad():\n",
    "    logits, loss = model(bx, by)\n",
    "loss"
   ]
  },
  {
   "cell_type": "code",
   "execution_count": null,
   "id": "d7cea6e2",
   "metadata": {},
   "outputs": [
    {
     "data": {
      "text/plain": [
       "tensor(141, device='cuda:0')"
      ]
     },
     "execution_count": null,
     "metadata": {},
     "output_type": "execute_result"
    }
   ],
   "source": [
    "(by[5] == 1024).sum()"
   ]
  },
  {
   "cell_type": "code",
   "execution_count": null,
   "id": "3d49a5c2",
   "metadata": {},
   "outputs": [
    {
     "data": {
      "text/plain": [
       "tensor([ 78, 980, 980,  ..., 216, 690, 216], device='cuda:0')"
      ]
     },
     "execution_count": null,
     "metadata": {},
     "output_type": "execute_result"
    }
   ],
   "source": [
    "by[5,:-141]"
   ]
  },
  {
   "cell_type": "code",
   "execution_count": null,
   "id": "7b437e0e",
   "metadata": {},
   "outputs": [
    {
     "data": {
      "text/plain": [
       "[DecodingResult(audio_features=tensor([[-1.7002, -1.3105, -0.0891,  ..., -1.5332,  0.6606, -3.5156],\n",
       "         [-1.5342, -0.3982,  1.1299,  ..., -1.8730, -0.1315, -4.1523],\n",
       "         [-1.5029, -0.5972,  0.6626,  ..., -1.5752, -0.1542, -4.1172],\n",
       "         ...,\n",
       "         [-0.2218,  1.3877,  0.6792,  ...,  1.5840, -1.5488, -0.7349],\n",
       "         [-0.4180,  1.5811,  0.3328,  ...,  2.4277, -1.4521, -0.7466],\n",
       "         [-0.7339,  1.4521, -0.0561,  ...,  2.8633, -1.2754, -0.6807]],\n",
       "        device='cuda:0', dtype=torch.float16), language='en', language_probs=None, tokens=[50363, 1002, 673, 15847, 612, 11, 262, 34692, 10846, 561, 423, 284, 1394, 2491, 736, 290, 6071, 287, 262, 3024, 50619, 50619, 4252, 393, 287, 262, 23147, 6290, 286, 262, 937, 36194, 13, 50807, 50807, 1318, 318, 645, 406, 6, 46, 293, 321, 11, 691, 257, 21151, 11, 30690, 7815, 4314, 11, 290, 612, 318, 645, 14595, 13, 51145, 51145, 1439, 262, 670, 10616, 1660, 318, 1760, 319, 262, 4314, 416, 257, 14782, 12656, 13, 51371, 51371, 843, 3360, 611, 262, 3159, 3011, 5445, 625, 262, 5422, 286, 262, 14782, 12656, 11, 284, 5643, 1282, 51633, 51633], text=\"If she cooked there, the missionary lady would have to keep running back and forth in the hot sun or in the pouring rain of the monsoon. There is no L'Oleam, only a damp, uneven stone floor, and there is no sink. All the work requiring water is done on the floor by a drain pipe. And sometimes if the screen gets broken over the mouth of the drain pipe, toads come\", avg_logprob=-0.29323856198057835, no_speech_prob=0.04910319671034813, temperature=0.0, compression_ratio=1.6177777777777778)]"
      ]
     },
     "execution_count": null,
     "metadata": {},
     "output_type": "execute_result"
    }
   ],
   "source": [
    "x = vqmodel.rq.layers[0]._codebook.embed[0,by[5,:-141].to(torch.long).view(-1)]\n",
    "x = F.pad(x, (0, 0, 0, 1500-len(x)))\n",
    "orig_embs = vqmodel.ln_post(vqmodel.out_blocks((vqmodel.rq.layers[0].project_out(x) + vqmodel.positional_embedding).unsqueeze(0)))\n",
    "whmodel.decode(orig_embs, whisper.DecodingOptions(language='en'))"
   ]
  },
  {
   "cell_type": "code",
   "execution_count": null,
   "id": "61e0e6e5",
   "metadata": {},
   "outputs": [],
   "source": [
    "def decode_stoks(stoks):\n",
    "    stoks = stoks[:-(stoks == 1024).sum()]\n",
    "    x = vqmodel.rq.layers[0]._codebook.embed[0,stoks.to(torch.long).view(-1)]\n",
    "    x = F.pad(x, (0, 0, 0, 1500-len(x)))\n",
    "    embs = vqmodel.ln_post(vqmodel.out_blocks((vqmodel.rq.layers[0].project_out(x) + vqmodel.positional_embedding).unsqueeze(0)))\n",
    "    return whmodel.decode(embs, whisper.DecodingOptions(language='en'))"
   ]
  },
  {
   "cell_type": "code",
   "execution_count": null,
   "id": "f51e1772",
   "metadata": {},
   "outputs": [
    {
     "name": "stdout",
     "output_type": "stream",
     "text": [
      " If she cooked there, the missionary lady would have to keep running back and forth in the hot sun or in the pouring rain of the monsoon. There is no linoleum, only a damp, uneven stone floor, and there is no sink. All the work requiring water is done on the floor by a drainpipe, and sometimes, if the screen gets broken over the mouth of the drainpipe, toads come hopping in, and sometimes even\n"
     ]
    }
   ],
   "source": [
    "print(tokenizer.decode(bx[5][torch.where(bx[5] != tokenizer.eot)]))"
   ]
  },
  {
   "cell_type": "code",
   "execution_count": null,
   "id": "5adc41c9",
   "metadata": {},
   "outputs": [
    {
     "name": "stdout",
     "output_type": "stream",
     "text": [
      "If she cooked there, the missionary lady would have to keep running back and forth in the hot sun or in the pouring rain of the monsoon. There is no L'Oleam, only a damp, uneven stone floor, and there is no sink. All the work requiring water is done on the floor by a drain pipe. And sometimes if the screen gets broken over the mouth of the drain pipe, toads come\n"
     ]
    }
   ],
   "source": [
    "# decode the quantized semantic tokens (they have some errors!)\n",
    "print(decode_stoks(by[5])[0].text)\n",
    "torch.save(by[5], 'gt-tokens.pth')"
   ]
  },
  {
   "cell_type": "code",
   "execution_count": null,
   "id": "702121bc",
   "metadata": {},
   "outputs": [
    {
     "data": {
      "text/html": [
       "\n",
       "<style>\n",
       "    /* Turns off some styling */\n",
       "    progress {\n",
       "        /* gets rid of default border in Firefox and Opera. */\n",
       "        border: none;\n",
       "        /* Needs to be in here for Safari polyfill so background images work as expected. */\n",
       "        background-size: auto;\n",
       "    }\n",
       "    progress:not([value]), progress:not([value])::-webkit-progress-bar {\n",
       "        background: repeating-linear-gradient(45deg, #7e7e7e, #7e7e7e 10px, #5c5c5c 10px, #5c5c5c 20px);\n",
       "    }\n",
       "    .progress-bar-interrupted, .progress-bar-interrupted::-webkit-progress-bar {\n",
       "        background: #F44336;\n",
       "    }\n",
       "</style>\n"
      ],
      "text/plain": [
       "<IPython.core.display.HTML object>"
      ]
     },
     "metadata": {},
     "output_type": "display_data"
    },
    {
     "data": {
      "text/html": [
       "\n",
       "    <div>\n",
       "      <progress value='1500' class='' max='1500' style='width:300px; height:20px; vertical-align: middle;'></progress>\n",
       "      100.00% [1500/1500 00:35&lt;00:00]\n",
       "    </div>\n",
       "    "
      ],
      "text/plain": [
       "<IPython.core.display.HTML object>"
      ]
     },
     "metadata": {},
     "output_type": "display_data"
    }
   ],
   "source": [
    "from fastprogress import progress_bar\n",
    "# generate output using sampling, one token at a time\n",
    "T=0.7\n",
    "toks = []\n",
    "for i in progress_bar(range(1500)):\n",
    "    p, loss = model(bx[5:6], torch.tensor([toks]).cuda(), loss=None)\n",
    "    last_p = p[0,-1]\n",
    "    toks.append(torch.multinomial((last_p / T).softmax(-1), 1).item())\n",
    "toks = torch.tensor(toks).cuda()\n",
    "# btw. this is stupidly slow since it reruns the whole sequence every time, to be optimized later"
   ]
  },
  {
   "cell_type": "code",
   "execution_count": null,
   "id": "c43f4edc",
   "metadata": {},
   "outputs": [
    {
     "name": "stdout",
     "output_type": "stream",
     "text": [
      "If she cooked there, the missionary lady would have to keep running back and forth in the hot sun or in the pouring rain of the monsoon. There is no L'Alim, only a damp, uneven stone floor, and there is no sink. All the work requiring water is done on the floor by a drying pipe. And sometimes, if the screen gets broken over the mouth of the drain pipe, towards\n"
     ]
    }
   ],
   "source": [
    "# decode the semantic tokens generated by the model (they have some more errors)\n",
    "print(decode_stoks(toks)[0].text)\n",
    "torch.save(toks, 'gen-tokens-T0.7.pth')"
   ]
  }
 ],
 "metadata": {
  "kernelspec": {
   "display_name": "python3",
   "language": "python",
   "name": "python3"
  }
 },
 "nbformat": 4,
 "nbformat_minor": 5
}
