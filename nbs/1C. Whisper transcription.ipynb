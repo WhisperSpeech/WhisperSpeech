{
 "cells": [
  {
   "cell_type": "code",
   "execution_count": null,
   "id": "a9158eaa",
   "metadata": {},
   "outputs": [],
   "source": [
    "#| default_exp wh_transcribe"
   ]
  },
  {
   "cell_type": "markdown",
   "id": "4ae2d927",
   "metadata": {},
   "source": [
    "## Precompute Whisper transcriptions for VQ bottleneck distilation\n",
    "\n",
    "Doing transcription means sampling from the Whisper auto-regresive decoder. This is too slow to do for each training batch. Fortunately the trainscriptions are small text snippets so we can precompute them once for the whole dataset.\n",
    "\n",
    "We use segments from Voice Activity Detection to reduce any boundary issues, the we use webdataset to yields multiple chunks from a FLAC file we only load once. The VAD segments are merged into longer chunks to make Whisper processing more efficent (it always processes 30s at a time)\n",
    "\n",
    "**Usage:**  \n",
    "```\n",
    "python -m whisperspeech.wh_transcribe librilight-large-wo6454-flac-000002.tar\n",
    "```\n",
    "\n",
    "You can pass in either a URL or a local file name. Either way it will expect a `vad` file in the local directory. The result will go into a file in the current directory named after the source file but replacing `flac` with `txt`."
   ]
  },
  {
   "cell_type": "code",
   "execution_count": null,
   "id": "6cf56fcb",
   "metadata": {},
   "outputs": [
    {
     "name": "stdout",
     "output_type": "stream",
     "text": [
      "The autoreload extension is already loaded. To reload it, use:\n",
      "  %reload_ext autoreload\n"
     ]
    }
   ],
   "source": [
    "%load_ext autoreload\n",
    "%autoreload 2"
   ]
  },
  {
   "cell_type": "code",
   "execution_count": null,
   "id": "8ac6d8f8",
   "metadata": {},
   "outputs": [],
   "source": [
    "#| export\n",
    "import io\n",
    "import time\n",
    "import torch\n",
    "import torchaudio"
   ]
  },
  {
   "cell_type": "code",
   "execution_count": null,
   "id": "ecbdddfd",
   "metadata": {},
   "outputs": [],
   "source": [
    "#| export\n",
    "from pathlib import Path\n",
    "import json\n",
    "from fastprogress import progress_bar, master_bar\n",
    "import numpy as np\n",
    "import random\n",
    "\n",
    "import whisper\n",
    "\n",
    "from torch import nn\n",
    "import torch.nn.functional as F\n",
    "from torch.utils.data.dataloader import DataLoader\n",
    "\n",
    "from fastcore.script import *\n",
    "\n",
    "from whisperspeech import vad\n",
    "import webdataset as wds"
   ]
  },
  {
   "cell_type": "code",
   "execution_count": null,
   "id": "238e2dbe",
   "metadata": {},
   "outputs": [],
   "source": [
    "import pylab as plt\n",
    "import IPython"
   ]
  },
  {
   "cell_type": "code",
   "execution_count": null,
   "id": "bbd549c2",
   "metadata": {},
   "outputs": [],
   "source": [
    "flac_url = 'https://huggingface.co/datasets/collabora/librilight-webdataset/resolve/main/librilight-small-flac-000000.tar'"
   ]
  },
  {
   "cell_type": "code",
   "execution_count": null,
   "id": "0aa81fea",
   "metadata": {},
   "outputs": [],
   "source": [
    "flac_url = './librilight-small-flac-000000.tar'"
   ]
  },
  {
   "cell_type": "markdown",
   "id": "18ebf0df",
   "metadata": {},
   "source": [
    "## Merge VAD segments into longer chunks"
   ]
  },
  {
   "cell_type": "code",
   "execution_count": null,
   "id": "fc38db57",
   "metadata": {},
   "outputs": [],
   "source": [
    "#| exporti\n",
    "# let's make it a bit more conservative\n",
    "# with full 30 second chunks it sometimes misses a small part of the transcript\n",
    "def random_cutter(dur):\n",
    "    if random.random() < 0.5:\n",
    "        return dur > 28 * (random.random()*0.95+0.05)\n",
    "    else:\n",
    "        return dur > 28\n",
    "\n",
    "def chunk_merger(segments, should_cut=lambda x: x > 28):\n",
    "    curr_start = segments[0][0]\n",
    "    curr_end = 0\n",
    "    merged = []\n",
    "\n",
    "    for ts,te in segments:\n",
    "        if should_cut(te - curr_start) and curr_end - curr_start > 0:\n",
    "            merged.append((curr_start, curr_end))\n",
    "            curr_start = ts\n",
    "        curr_end = te\n",
    "    merged.append((curr_start, curr_end))\n",
    "    return merged"
   ]
  },
  {
   "cell_type": "code",
   "execution_count": null,
   "id": "8e34e15f",
   "metadata": {},
   "outputs": [
    {
     "data": {
      "text/html": [
       "\n",
       "<style>\n",
       "    /* Turns off some styling */\n",
       "    progress {\n",
       "        /* gets rid of default border in Firefox and Opera. */\n",
       "        border: none;\n",
       "        /* Needs to be in here for Safari polyfill so background images work as expected. */\n",
       "        background-size: auto;\n",
       "    }\n",
       "    progress:not([value]), progress:not([value])::-webkit-progress-bar {\n",
       "        background: repeating-linear-gradient(45deg, #7e7e7e, #7e7e7e 10px, #5c5c5c 10px, #5c5c5c 20px);\n",
       "    }\n",
       "    .progress-bar-interrupted, .progress-bar-interrupted::-webkit-progress-bar {\n",
       "        background: #F44336;\n",
       "    }\n",
       "</style>\n"
      ],
      "text/plain": [
       "<IPython.core.display.HTML object>"
      ]
     },
     "metadata": {},
     "output_type": "display_data"
    },
    {
     "data": {
      "text/html": [
       "\n",
       "    <div>\n",
       "      <progress value='335' class='' max='335' style='width:300px; height:20px; vertical-align: middle;'></progress>\n",
       "      100.00% [335/335 00:00&lt;00:00]\n",
       "    </div>\n",
       "    "
      ],
      "text/plain": [
       "<IPython.core.display.HTML object>"
      ]
     },
     "metadata": {},
     "output_type": "display_data"
    }
   ],
   "source": [
    "# load some VAD ouputs\n",
    "ds = wds.WebDataset(\n",
    "    vad.flac_to_vad_name(flac_url)\n",
    ").decode().to_tuple('vad.npy')\n",
    "chunks = [x[0] for x in progress_bar(ds, total='noinfer')]"
   ]
  },
  {
   "cell_type": "code",
   "execution_count": null,
   "id": "25431d5a",
   "metadata": {},
   "outputs": [
    {
     "data": {
      "text/plain": [
       "(46, 28)"
      ]
     },
     "execution_count": null,
     "metadata": {},
     "output_type": "execute_result"
    }
   ],
   "source": [
    "# quick test\n",
    "len(chunks[0]), len(chunk_merger(chunks[0]))"
   ]
  },
  {
   "cell_type": "code",
   "execution_count": null,
   "id": "c4e3edf8",
   "metadata": {},
   "outputs": [
    {
     "data": {
      "image/png": "[encoded data removed]",
      "text/plain": [
       "<Figure size 640x480 with 1 Axes>"
      ]
     },
     "metadata": {},
     "output_type": "display_data"
    }
   ],
   "source": [
    "plt.hist([te-ts for x in chunks for ts,te in x])\n",
    "plt.title('Segment length distribution straight out of the VAD algorithm');"
   ]
  },
  {
   "cell_type": "code",
   "execution_count": null,
   "id": "ebf12ba7",
   "metadata": {},
   "outputs": [
    {
     "data": {
      "image/png": "[encoded data removed]",
      "text/plain": [
       "<Figure size 640x480 with 1 Axes>"
      ]
     },
     "metadata": {},
     "output_type": "display_data"
    }
   ],
   "source": [
    "plt.hist([te-ts for x in chunks for ts,te in chunk_merger(x)]);\n",
    "plt.title('Chunk length distribution after greedy merging');"
   ]
  },
  {
   "cell_type": "code",
   "execution_count": null,
   "id": "38f475bd",
   "metadata": {},
   "outputs": [
    {
     "data": {
      "text/plain": [
       "0.03671825647504738"
      ]
     },
     "execution_count": null,
     "metadata": {},
     "output_type": "execute_result"
    }
   ],
   "source": [
    "(np.array([te-ts for x in chunks for ts,te in chunk_merger(x)]) < 10).mean()"
   ]
  },
  {
   "cell_type": "markdown",
   "id": "9548f1a8",
   "metadata": {},
   "source": [
    "In the above distribution only 3,7% of the samples have < 10 seconds. We noticed that this limits the ability of the T2S model to generate short sequences reliably.\n",
    "\n",
    "It does not seem to matter for quantizing Whisper so we can keep this distribution (it uses less compute for training).\n",
    "\n",
    "For T2S we can add some more shorter chunks at random:"
   ]
  },
  {
   "cell_type": "code",
   "execution_count": null,
   "id": "c3001e08",
   "metadata": {},
   "outputs": [
    {
     "data": {
      "image/png": "[encoded data removed]",
      "text/plain": [
       "<Figure size 640x480 with 1 Axes>"
      ]
     },
     "metadata": {},
     "output_type": "display_data"
    }
   ],
   "source": [
    "plt.hist([te-ts for x in chunks for ts,te in chunk_merger(x, random_cutter)])\n",
    "plt.title('Chunk length distribution after randomized merging');"
   ]
  },
  {
   "cell_type": "markdown",
   "id": "4b315d87",
   "metadata": {},
   "source": [
    "## Merge the FLAC and VAD datasets\n",
    "\n",
    "First we want to merge the VAD dataset with the FLAC audio data."
   ]
  },
  {
   "cell_type": "code",
   "execution_count": null,
   "id": "dc726655",
   "metadata": {},
   "outputs": [],
   "source": [
    "#| exporti\n",
    "def merge_in(*datasets):\n",
    "    \"\"\"Merge multiple datasets into the current one returning samples with the union of keys.\n",
    "    \n",
    "    It requires (and validates) all datasets to have the same ordering of keys so you have\n",
    "    to use it before any sample shuffling. Shard shuffling is ok.\n",
    "    \"\"\"\n",
    "    def merge_loop(main_samples):\n",
    "        for samples in zip(*[main_samples]+[iter(x) for x in datasets]):\n",
    "            key = samples[0]['__key__']\n",
    "            news = {}\n",
    "            for s in samples:\n",
    "                assert s['__key__'] == key\n",
    "                news.update(s)\n",
    "            yield news\n",
    "    return merge_loop"
   ]
  },
  {
   "cell_type": "code",
   "execution_count": null,
   "id": "f0d99ece",
   "metadata": {},
   "outputs": [],
   "source": [
    "#| exporti\n",
    "import copy"
   ]
  },
  {
   "cell_type": "code",
   "execution_count": null,
   "id": "dc68e971",
   "metadata": {},
   "outputs": [],
   "source": [
    "#| exporti\n",
    "# a workaround for https://github.com/webdataset/webdataset/issues/297\n",
    "# should be possible to use ds.compose here\n",
    "def wds_compose(ds, *args):\n",
    "    ds = copy.copy(ds)\n",
    "    ds.pipeline = copy.copy(ds.pipeline)\n",
    "    for f in args:\n",
    "        ds.append(f)\n",
    "    return ds"
   ]
  },
  {
   "cell_type": "code",
   "execution_count": null,
   "id": "76c4c739",
   "metadata": {},
   "outputs": [],
   "source": [
    "ds = wds_compose(vad.load_dataset(flac_url),\n",
    "    merge_in(wds.WebDataset(vad.flac_to_vad_name(flac_url)).decode())\n",
    ")"
   ]
  },
  {
   "cell_type": "code",
   "execution_count": null,
   "id": "130a7b59",
   "metadata": {},
   "outputs": [
    {
     "data": {
      "text/plain": [
       "{'__key__': 'small/100/sea_fairies_0812_librivox_64kb_mp3/01_baum_sea_fairies_64kb',\n",
       " '__url__': 'librilight-small-vad-000000.tar.gz',\n",
       " 'flac': (tensor([[0., 0., 0.,  ..., 0., 0., 0.]]), 16000),\n",
       " 'json': {'speaker': '100',\n",
       "  'book_meta': {'id': '2315',\n",
       "   'title': 'Sea Fairies',\n",
       "   'description': \"<p>In 1910, Baum hoped to end the Oz series and follow with a new series about a little girl named Trot and her sailor companion, Cap'n Bill. The Sea Fairies (1911) was the first book in the projected series and took Trot and Cap'n Bill under the sea where they had adventures with mermaids and other fantastic creatures. It was followed by Sky Island (1912) and then Baum returned to the Oz titles. He brought Trot and Cap'n Bill to Oz in the Scarecrow of Oz (1915). (Summary by Judy Bieber)</p>\",\n",
       "   'url_text_source': 'http://www.gutenberg.org/etext/4358',\n",
       "   'language': 'English',\n",
       "   'copyright_year': '1911',\n",
       "   'num_sections': '22',\n",
       "   'url_rss': 'https://librivox.org/rss/2315',\n",
       "   'url_zip_file': 'http://www.archive.org/download/sea_fairies_0812_librivox/sea_fairies_0812_librivox_64kb_mp3.zip',\n",
       "   'url_project': 'http://en.wikipedia.org/wiki/The_Sea_Fairies',\n",
       "   'url_librivox': 'https://librivox.org/the-sea-fairies-by-l-frank-baum/',\n",
       "   'url_other': None,\n",
       "   'totaltimesecs': 15311,\n",
       "   'authors': [{'id': '406',\n",
       "     'first_name': 'L. Frank',\n",
       "     'last_name': 'Baum',\n",
       "     'dob': '1856',\n",
       "     'dod': '1919'}],\n",
       "   'genre': ['Action & Adventure'],\n",
       "   'Dramatic Readings': False,\n",
       "   'meta_genre': 'Literature'},\n",
       "  'snr': 11.4471,\n",
       "  'voice_activity': [[1.52, 11.2],\n",
       "   [11.84, 14.08],\n",
       "   [15.12, 35.76],\n",
       "   [36.32, 55.6],\n",
       "   [56.24, 70.48],\n",
       "   [71.28, 79.52],\n",
       "   [80.08, 89.76],\n",
       "   [90.24, 97.52],\n",
       "   [98.0, 101.28],\n",
       "   [102.8, 124.88],\n",
       "   [125.36, 133.12],\n",
       "   [133.68, 154.16],\n",
       "   [154.64, 177.2],\n",
       "   [178.0, 196.96],\n",
       "   [197.68, 211.44],\n",
       "   [212.32, 216.32],\n",
       "   [216.96, 243.52],\n",
       "   [244.0, 250.72],\n",
       "   [251.52, 268.32],\n",
       "   [268.96, 308.56],\n",
       "   [309.04, 315.28],\n",
       "   [316.0, 317.36],\n",
       "   [317.92, 325.44],\n",
       "   [326.24, 343.6],\n",
       "   [344.08, 350.32],\n",
       "   [350.88, 356.64],\n",
       "   [357.2, 363.2],\n",
       "   [363.76, 365.2],\n",
       "   [365.2, 373.2],\n",
       "   [373.84, 392.0],\n",
       "   [392.56, 401.04],\n",
       "   [401.6, 456.96],\n",
       "   [457.68, 501.92],\n",
       "   [502.4, 531.04],\n",
       "   [531.6, 554.48],\n",
       "   [554.96, 568.32],\n",
       "   [568.96, 585.84],\n",
       "   [587.04, 588.48],\n",
       "   [597.12, 597.92]]},\n",
       " 'vad.npy': array([[  1.764,   6.49 ],\n",
       "        [  6.773,  11.18 ],\n",
       "        [ 11.98 ,  14.03 ],\n",
       "        [ 15.31 ,  36.3  ],\n",
       "        [ 36.3  ,  56.06 ],\n",
       "        [ 56.4  ,  70.6  ],\n",
       "        [ 71.4  , 101.2  ],\n",
       "        [102.75 , 103.56 ],\n",
       "        [103.7  , 121.75 ],\n",
       "        [122.06 , 125.   ],\n",
       "        [125.44 , 133.4  ],\n",
       "        [133.8  , 154.6  ],\n",
       "        [154.6  , 177.6  ],\n",
       "        [178.1  , 197.2  ],\n",
       "        [197.9  , 212.1  ],\n",
       "        [212.5  , 222.5  ],\n",
       "        [222.8  , 243.6  ],\n",
       "        [244.2  , 246.5  ],\n",
       "        [246.8  , 251.1  ],\n",
       "        [251.5  , 256.2  ],\n",
       "        [256.5  , 257.8  ],\n",
       "        [258.2  , 259.8  ],\n",
       "        [259.8  , 268.5  ],\n",
       "        [269.2  , 289.8  ],\n",
       "        [289.8  , 315.8  ],\n",
       "        [316.   , 317.2  ],\n",
       "        [318.   , 319.   ],\n",
       "        [319.8  , 344.   ],\n",
       "        [344.2  , 350.2  ],\n",
       "        [351.   , 352.5  ],\n",
       "        [353.   , 356.8  ],\n",
       "        [357.5  , 373.5  ],\n",
       "        [374.   , 388.   ],\n",
       "        [388.2  , 397.2  ],\n",
       "        [397.5  , 401.5  ],\n",
       "        [401.8  , 423.5  ],\n",
       "        [423.5  , 448.   ],\n",
       "        [448.   , 457.2  ],\n",
       "        [457.8  , 460.8  ],\n",
       "        [461.   , 477.8  ],\n",
       "        [478.5  , 502.2  ],\n",
       "        [502.2  , 527.5  ],\n",
       "        [527.5  , 550.5  ],\n",
       "        [550.5  , 576.5  ],\n",
       "        [577.   , 586.   ],\n",
       "        [587.5  , 588.5  ]], dtype=float16)}"
      ]
     },
     "execution_count": null,
     "metadata": {},
     "output_type": "execute_result"
    }
   ],
   "source": [
    "for s in ds: break\n",
    "s # notice the 'vad.npy' values that was missing from the FLAC dataset"
   ]
  },
  {
   "cell_type": "markdown",
   "id": "eceb33ab",
   "metadata": {},
   "source": [
    "## Split the audio into chunks\n",
    "\n",
    "After we merge the datasets and chunk the segments we can split each audio file into individual samples and pad them to 30s."
   ]
  },
  {
   "cell_type": "code",
   "execution_count": null,
   "id": "b58157a2",
   "metadata": {},
   "outputs": [],
   "source": [
    "#| exporti\n",
    "def split_to_chunks(stream, pad_to_seconds=30, random_shift=False):\n",
    "    for s in stream:\n",
    "        audio, sr = s['flac']\n",
    "        imax = len(s['vad.npy']) - 1\n",
    "        for i,(ts,te) in enumerate(s['vad.npy']):\n",
    "            samples = audio[0,int(ts*sr):int(te*sr)]\n",
    "            padding = pad_to_seconds*sr-samples.shape[-1]\n",
    "            lpad = random.randint(0, padding) if random_shift else 0\n",
    "            yield {\"__key__\": s['__key__'] + f\"_{i:03d}\",\n",
    "                   \"__url__\": s['__url__'],\n",
    "                   \"i\": i, \"imax\": imax,\n",
    "                   \"tstart\": ts, \"tend\": te, \"total_seconds\": audio.shape[-1]/sr,\n",
    "                   \"samples\": F.pad(samples, (lpad, padding-lpad))}"
   ]
  },
  {
   "cell_type": "code",
   "execution_count": null,
   "id": "0436d350",
   "metadata": {},
   "outputs": [],
   "source": [
    "split_ds = wds_compose(ds,\n",
    "   wds.map_dict(**{\"vad.npy\":chunk_merger}),\n",
    "   split_to_chunks,\n",
    ")"
   ]
  },
  {
   "cell_type": "code",
   "execution_count": null,
   "id": "a677578f",
   "metadata": {},
   "outputs": [
    {
     "data": {
      "text/plain": [
       "{'__key__': 'small/100/sea_fairies_0812_librivox_64kb_mp3/01_baum_sea_fairies_64kb_000',\n",
       " '__url__': 'librilight-small-vad-000000.tar.gz',\n",
       " 'i': 0,\n",
       " 'imax': 27,\n",
       " 'tstart': 1.764,\n",
       " 'tend': 14.03,\n",
       " 'total_seconds': 597.9425,\n",
       " 'samples': tensor([0., 0., 0.,  ..., 0., 0., 0.])}"
      ]
     },
     "execution_count": null,
     "metadata": {},
     "output_type": "execute_result"
    }
   ],
   "source": [
    "for s in split_ds: break\n",
    "s"
   ]
  },
  {
   "cell_type": "markdown",
   "id": "b405408f",
   "metadata": {},
   "source": [
    "## Transcribe"
   ]
  },
  {
   "cell_type": "code",
   "execution_count": null,
   "id": "a6d46dc2",
   "metadata": {},
   "outputs": [],
   "source": [
    "whmodel = whisper.load_model('base.en')\n",
    "decoding_options = whisper.DecodingOptions(language='en')"
   ]
  },
  {
   "cell_type": "code",
   "execution_count": null,
   "id": "bc1aad2c",
   "metadata": {},
   "outputs": [
    {
     "data": {
      "text/html": [
       "\n",
       "<style>\n",
       "    /* Turns off some styling */\n",
       "    progress {\n",
       "        /* gets rid of default border in Firefox and Opera. */\n",
       "        border: none;\n",
       "        /* Needs to be in here for Safari polyfill so background images work as expected. */\n",
       "        background-size: auto;\n",
       "    }\n",
       "    progress:not([value]), progress:not([value])::-webkit-progress-bar {\n",
       "        background: repeating-linear-gradient(45deg, #7e7e7e, #7e7e7e 10px, #5c5c5c 10px, #5c5c5c 20px);\n",
       "    }\n",
       "    .progress-bar-interrupted, .progress-bar-interrupted::-webkit-progress-bar {\n",
       "        background: #F44336;\n",
       "    }\n",
       "</style>\n"
      ],
      "text/plain": [
       "<IPython.core.display.HTML object>"
      ]
     },
     "metadata": {},
     "output_type": "display_data"
    },
    {
     "data": {
      "text/html": [
       "\n",
       "    <div>\n",
       "      <progress value='256' class='' max='256' style='width:300px; height:20px; vertical-align: middle;'></progress>\n",
       "      100.00% [256/256 00:59&lt;00:00]\n",
       "    </div>\n",
       "    "
      ],
      "text/plain": [
       "<IPython.core.display.HTML object>"
      ]
     },
     "metadata": {},
     "output_type": "display_data"
    }
   ],
   "source": [
    "output = flac_url.rsplit(\"/\", 1)[1].replace('flac', 'txt') + \".gz\"\n",
    "with wds.TarWriter(output) as sink:\n",
    "    for s in progress_bar(split_ds, total=256):\n",
    "        mel = whisper.log_mel_spectrogram(s['samples'].unsqueeze(0).cuda())\n",
    "        embs = whmodel.encoder(mel)\n",
    "        decs = whmodel.decode(embs, decoding_options)\n",
    "\n",
    "        sink.write({\n",
    "            \"__key__\": s['__key__'],\n",
    "            \"txt\": decs[0].text,\n",
    "        })"
   ]
  },
  {
   "cell_type": "markdown",
   "id": "2546aac1",
   "metadata": {},
   "source": [
    "## Transcribe in batches\n",
    "\n",
    "We have one more thing to add – batch processing makes the transcription quite a bit faster (bs=16 brings a 4.5x speedup)."
   ]
  },
  {
   "cell_type": "code",
   "execution_count": null,
   "id": "ec215074",
   "metadata": {},
   "outputs": [],
   "source": [
    "batched_ds = wds_compose(split_ds,\n",
    "    wds.to_tuple('__key__', 'samples'),\n",
    "    wds.batched(16),\n",
    ")"
   ]
  },
  {
   "cell_type": "code",
   "execution_count": null,
   "id": "8efbde3e",
   "metadata": {},
   "outputs": [
    {
     "data": {
      "text/html": [
       "\n",
       "<style>\n",
       "    /* Turns off some styling */\n",
       "    progress {\n",
       "        /* gets rid of default border in Firefox and Opera. */\n",
       "        border: none;\n",
       "        /* Needs to be in here for Safari polyfill so background images work as expected. */\n",
       "        background-size: auto;\n",
       "    }\n",
       "    progress:not([value]), progress:not([value])::-webkit-progress-bar {\n",
       "        background: repeating-linear-gradient(45deg, #7e7e7e, #7e7e7e 10px, #5c5c5c 10px, #5c5c5c 20px);\n",
       "    }\n",
       "    .progress-bar-interrupted, .progress-bar-interrupted::-webkit-progress-bar {\n",
       "        background: #F44336;\n",
       "    }\n",
       "</style>\n"
      ],
      "text/plain": [
       "<IPython.core.display.HTML object>"
      ]
     },
     "metadata": {},
     "output_type": "display_data"
    },
    {
     "data": {
      "text/html": [
       "\n",
       "    <div>\n",
       "      <progress value='16' class='' max='16' style='width:300px; height:20px; vertical-align: middle;'></progress>\n",
       "      100.00% [16/16 00:11&lt;00:00]\n",
       "    </div>\n",
       "    "
      ],
      "text/plain": [
       "<IPython.core.display.HTML object>"
      ]
     },
     "metadata": {},
     "output_type": "display_data"
    }
   ],
   "source": [
    "output = flac_url.rsplit(\"/\", 1)[1].replace('flac', 'txt') + \".gz\"\n",
    "with wds.TarWriter(output) as sink:\n",
    "    for keys, samples in progress_bar(batched_ds, total=256//16):\n",
    "        mel = whisper.log_mel_spectrogram(samples).cuda()\n",
    "        embs = whmodel.encoder(mel)\n",
    "        decs = whmodel.decode(embs, decoding_options)\n",
    "        for key, dec in zip(keys, decs):\n",
    "            sink.write({\n",
    "                \"__key__\": key,\n",
    "                \"txt\": dec.text,\n",
    "            })"
   ]
  },
  {
   "cell_type": "markdown",
   "id": "c1720218",
   "metadata": {},
   "source": [
    "## Verify the transcripts and the chunks work together"
   ]
  },
  {
   "cell_type": "code",
   "execution_count": null,
   "id": "8e8ae1b0",
   "metadata": {},
   "outputs": [],
   "source": [
    "txt_ds = wds_compose(split_ds,\n",
    "    merge_in(wds.WebDataset(flac_url.rsplit(\"/\", 1)[1].replace('flac', 'txt') + \".gz\").decode())\n",
    ")"
   ]
  },
  {
   "cell_type": "code",
   "execution_count": null,
   "id": "9bc463a8",
   "metadata": {},
   "outputs": [
    {
     "data": {
      "text/plain": [
       "{'__key__': 'small/100/sea_fairies_0812_librivox_64kb_mp3/01_baum_sea_fairies_64kb_000',\n",
       " '__url__': 'librilight-small-txt-000000.tar.gz',\n",
       " 'i': 0,\n",
       " 'imax': 27,\n",
       " 'tstart': 1.764,\n",
       " 'tend': 14.03,\n",
       " 'total_seconds': 597.9425,\n",
       " 'samples': tensor([0., 0., 0.,  ..., 0., 0., 0.]),\n",
       " 'txt': 'This is a LibraVox recording. Holy bivox recordings are in the public domain. For more information or to volunteer, please visit libravox.org.'}"
      ]
     },
     "execution_count": null,
     "metadata": {},
     "output_type": "execute_result"
    }
   ],
   "source": [
    "for x in txt_ds: break\n",
    "x"
   ]
  },
  {
   "cell_type": "code",
   "execution_count": null,
   "id": "54968ab1",
   "metadata": {},
   "outputs": [
    {
     "data": {
      "text/html": [
       "\n",
       "<style>\n",
       "    /* Turns off some styling */\n",
       "    progress {\n",
       "        /* gets rid of default border in Firefox and Opera. */\n",
       "        border: none;\n",
       "        /* Needs to be in here for Safari polyfill so background images work as expected. */\n",
       "        background-size: auto;\n",
       "    }\n",
       "    progress:not([value]), progress:not([value])::-webkit-progress-bar {\n",
       "        background: repeating-linear-gradient(45deg, #7e7e7e, #7e7e7e 10px, #5c5c5c 10px, #5c5c5c 20px);\n",
       "    }\n",
       "    .progress-bar-interrupted, .progress-bar-interrupted::-webkit-progress-bar {\n",
       "        background: #F44336;\n",
       "    }\n",
       "</style>\n"
      ],
      "text/plain": [
       "<IPython.core.display.HTML object>"
      ]
     },
     "metadata": {},
     "output_type": "display_data"
    },
    {
     "data": {
      "text/html": [
       "\n",
       "    <div>\n",
       "      <progress value='10' class='' max='10' style='width:300px; height:20px; vertical-align: middle;'></progress>\n",
       "      100.00% [10/10 00:00&lt;00:00]\n",
       "    </div>\n",
       "    "
      ],
      "text/plain": [
       "<IPython.core.display.HTML object>"
      ]
     },
     "metadata": {},
     "output_type": "display_data"
    },
    {
     "data": {
      "text/markdown": [
       "#### small/100/sea_fairies_0812_librivox_64kb_mp3/01_baum_sea_fairies_64kb_000 chunk 0 of 27"
      ],
      "text/plain": [
       "<IPython.core.display.Markdown object>"
      ]
     },
     "metadata": {},
     "output_type": "display_data"
    },
    {
     "data": {
      "text/html": [
       "\n",
       "                <audio  controls=\"controls\" >\n",
       "                    <source src=\"test-0.ogg\" type=\"audio/ogg\" />\n",
       "                    Your browser does not support the audio element.\n",
       "                </audio>\n",
       "              "
      ],
      "text/plain": [
       "<IPython.lib.display.Audio object>"
      ]
     },
     "metadata": {},
     "output_type": "display_data"
    },
    {
     "data": {
      "text/markdown": [
       "This is a LibraVox recording. Holy bivox recordings are in the public domain. For more information or to volunteer, please visit libravox.org."
      ],
      "text/plain": [
       "<IPython.core.display.Markdown object>"
      ]
     },
     "metadata": {},
     "output_type": "display_data"
    },
    {
     "data": {
      "text/markdown": [
       "#### small/100/sea_fairies_0812_librivox_64kb_mp3/01_baum_sea_fairies_64kb_001 chunk 1 of 27"
      ],
      "text/plain": [
       "<IPython.core.display.Markdown object>"
      ]
     },
     "metadata": {},
     "output_type": "display_data"
    },
    {
     "data": {
      "text/html": [
       "\n",
       "                <audio  controls=\"controls\" >\n",
       "                    <source src=\"test-1.ogg\" type=\"audio/ogg\" />\n",
       "                    Your browser does not support the audio element.\n",
       "                </audio>\n",
       "              "
      ],
      "text/plain": [
       "<IPython.lib.display.Audio object>"
      ]
     },
     "metadata": {},
     "output_type": "display_data"
    },
    {
     "data": {
      "text/markdown": [
       "The oceans are being in broad. I believe two-thirds of the Earth's surface is covered with water. What people inhabit this water has always been a subject of curiosity to the inhabitants of the land. Strange creatures come from the seas at times, and perhaps in the ocean depths are many more strange than mortal eye has ever gazed upon."
      ],
      "text/plain": [
       "<IPython.core.display.Markdown object>"
      ]
     },
     "metadata": {},
     "output_type": "display_data"
    },
    {
     "data": {
      "text/markdown": [
       "#### small/100/sea_fairies_0812_librivox_64kb_mp3/01_baum_sea_fairies_64kb_002 chunk 2 of 27"
      ],
      "text/plain": [
       "<IPython.core.display.Markdown object>"
      ]
     },
     "metadata": {},
     "output_type": "display_data"
    },
    {
     "data": {
      "text/html": [
       "\n",
       "                <audio  controls=\"controls\" >\n",
       "                    <source src=\"test-2.ogg\" type=\"audio/ogg\" />\n",
       "                    Your browser does not support the audio element.\n",
       "                </audio>\n",
       "              "
      ],
      "text/plain": [
       "<IPython.lib.display.Audio object>"
      ]
     },
     "metadata": {},
     "output_type": "display_data"
    },
    {
     "data": {
      "text/markdown": [
       "This story is fanciful. In it the sea people talk and act much as we do, and the mermaids especially are not unlike the fairies with whom we have learned to be familiar. Yet they are real sea people for all that, and with the exception of Zog the magician, they are all supposed to exist in the ocean steps."
      ],
      "text/plain": [
       "<IPython.core.display.Markdown object>"
      ]
     },
     "metadata": {},
     "output_type": "display_data"
    },
    {
     "data": {
      "text/markdown": [
       "#### small/100/sea_fairies_0812_librivox_64kb_mp3/01_baum_sea_fairies_64kb_003 chunk 3 of 27"
      ],
      "text/plain": [
       "<IPython.core.display.Markdown object>"
      ]
     },
     "metadata": {},
     "output_type": "display_data"
    },
    {
     "data": {
      "text/html": [
       "\n",
       "                <audio  controls=\"controls\" >\n",
       "                    <source src=\"test-3.ogg\" type=\"audio/ogg\" />\n",
       "                    Your browser does not support the audio element.\n",
       "                </audio>\n",
       "              "
      ],
      "text/plain": [
       "<IPython.lib.display.Audio object>"
      ]
     },
     "metadata": {},
     "output_type": "display_data"
    },
    {
     "data": {
      "text/markdown": [
       "I am told that some very learned people deny that mermaids or sea serpents have ever inhabited the oceans. But it would be very difficult for them to prove such an assertion, unless they had lived under the water as trot and caten-billed did in this story."
      ],
      "text/plain": [
       "<IPython.core.display.Markdown object>"
      ]
     },
     "metadata": {},
     "output_type": "display_data"
    },
    {
     "data": {
      "text/markdown": [
       "#### small/100/sea_fairies_0812_librivox_64kb_mp3/01_baum_sea_fairies_64kb_004 chunk 4 of 27"
      ],
      "text/plain": [
       "<IPython.core.display.Markdown object>"
      ]
     },
     "metadata": {},
     "output_type": "display_data"
    },
    {
     "data": {
      "text/html": [
       "\n",
       "                <audio  controls=\"controls\" >\n",
       "                    <source src=\"test-4.ogg\" type=\"audio/ogg\" />\n",
       "                    Your browser does not support the audio element.\n",
       "                </audio>\n",
       "              "
      ],
      "text/plain": [
       "<IPython.lib.display.Audio object>"
      ]
     },
     "metadata": {},
     "output_type": "display_data"
    },
    {
     "data": {
      "text/markdown": [
       "I hope my readers who have so long followed Dorothy's adventures in the Land of Oz will be interested in Trot's equally strange experiences. The ocean has always appealed to me as a veritable wonderland, and this story has been suggested to me many times by my young correspondence in their letters. Indeed, a good many children have implored me to write something about the mermaids, and I have willingly granted the request."
      ],
      "text/plain": [
       "<IPython.core.display.Markdown object>"
      ]
     },
     "metadata": {},
     "output_type": "display_data"
    },
    {
     "data": {
      "text/markdown": [
       "#### small/100/sea_fairies_0812_librivox_64kb_mp3/01_baum_sea_fairies_64kb_005 chunk 5 of 27"
      ],
      "text/plain": [
       "<IPython.core.display.Markdown object>"
      ]
     },
     "metadata": {},
     "output_type": "display_data"
    },
    {
     "data": {
      "text/html": [
       "\n",
       "                <audio  controls=\"controls\" >\n",
       "                    <source src=\"test-5.ogg\" type=\"audio/ogg\" />\n",
       "                    Your browser does not support the audio element.\n",
       "                </audio>\n",
       "              "
      ],
      "text/plain": [
       "<IPython.lib.display.Audio object>"
      ]
     },
     "metadata": {},
     "output_type": "display_data"
    },
    {
     "data": {
      "text/markdown": [
       "CHAPTER I. TROT AND CAPTAIN BILL. Nobody said Captain Bill solemnly, ever saw a mermaid and lived to tell the tale. Why not, asked TROT, looking earnestly up into the old sailor's face? They were seated on a bench built around a giant acacia tree that grew just at the edge of the bluff. Below them rolled the blue waves of the great Pacific."
      ],
      "text/plain": [
       "<IPython.core.display.Markdown object>"
      ]
     },
     "metadata": {},
     "output_type": "display_data"
    },
    {
     "data": {
      "text/markdown": [
       "#### small/100/sea_fairies_0812_librivox_64kb_mp3/01_baum_sea_fairies_64kb_006 chunk 6 of 27"
      ],
      "text/plain": [
       "<IPython.core.display.Markdown object>"
      ]
     },
     "metadata": {},
     "output_type": "display_data"
    },
    {
     "data": {
      "text/html": [
       "\n",
       "                <audio  controls=\"controls\" >\n",
       "                    <source src=\"test-6.ogg\" type=\"audio/ogg\" />\n",
       "                    Your browser does not support the audio element.\n",
       "                </audio>\n",
       "              "
      ],
      "text/plain": [
       "<IPython.lib.display.Audio object>"
      ]
     },
     "metadata": {},
     "output_type": "display_data"
    },
    {
     "data": {
      "text/markdown": [
       "A little way behind them was the house, a neat framed cottage painted white and surrounded by huge eucalyptus and pepper trees."
      ],
      "text/plain": [
       "<IPython.core.display.Markdown object>"
      ]
     },
     "metadata": {},
     "output_type": "display_data"
    },
    {
     "data": {
      "text/markdown": [
       "#### small/100/sea_fairies_0812_librivox_64kb_mp3/01_baum_sea_fairies_64kb_007 chunk 7 of 27"
      ],
      "text/plain": [
       "<IPython.core.display.Markdown object>"
      ]
     },
     "metadata": {},
     "output_type": "display_data"
    },
    {
     "data": {
      "text/html": [
       "\n",
       "                <audio  controls=\"controls\" >\n",
       "                    <source src=\"test-7.ogg\" type=\"audio/ogg\" />\n",
       "                    Your browser does not support the audio element.\n",
       "                </audio>\n",
       "              "
      ],
      "text/plain": [
       "<IPython.lib.display.Audio object>"
      ]
     },
     "metadata": {},
     "output_type": "display_data"
    },
    {
     "data": {
      "text/markdown": [
       "Still farther behind that, a quarter of a mile distant but built upon a bend of the coast was the village overlooking a pretty bay. Catonville and Trot came often to this tree to sit and watch the ocean below them. The sailor man had one meat leg and one hickory leg, and he often said the wooden one was the best of the two."
      ],
      "text/plain": [
       "<IPython.core.display.Markdown object>"
      ]
     },
     "metadata": {},
     "output_type": "display_data"
    },
    {
     "data": {
      "text/markdown": [
       "#### small/100/sea_fairies_0812_librivox_64kb_mp3/01_baum_sea_fairies_64kb_008 chunk 8 of 27"
      ],
      "text/plain": [
       "<IPython.core.display.Markdown object>"
      ]
     },
     "metadata": {},
     "output_type": "display_data"
    },
    {
     "data": {
      "text/html": [
       "\n",
       "                <audio  controls=\"controls\" >\n",
       "                    <source src=\"test-8.ogg\" type=\"audio/ogg\" />\n",
       "                    Your browser does not support the audio element.\n",
       "                </audio>\n",
       "              "
      ],
      "text/plain": [
       "<IPython.lib.display.Audio object>"
      ]
     },
     "metadata": {},
     "output_type": "display_data"
    },
    {
     "data": {
      "text/markdown": [
       "Once Catenville had commanded and owned the anemone, a trading schooner that plied along the coast, and in those days Charlie Griffin's, who was trot's father, had been the captain's mate. But ever since Catenville's accident when he lost his leg, Charlie Griffiths had been the captain of the little schooner, while his old master lived peacefully ashore with the Griffiths family."
      ],
      "text/plain": [
       "<IPython.core.display.Markdown object>"
      ]
     },
     "metadata": {},
     "output_type": "display_data"
    },
    {
     "data": {
      "text/markdown": [
       "#### small/100/sea_fairies_0812_librivox_64kb_mp3/01_baum_sea_fairies_64kb_009 chunk 9 of 27"
      ],
      "text/plain": [
       "<IPython.core.display.Markdown object>"
      ]
     },
     "metadata": {},
     "output_type": "display_data"
    },
    {
     "data": {
      "text/html": [
       "\n",
       "                <audio  controls=\"controls\" >\n",
       "                    <source src=\"test-9.ogg\" type=\"audio/ogg\" />\n",
       "                    Your browser does not support the audio element.\n",
       "                </audio>\n",
       "              "
      ],
      "text/plain": [
       "<IPython.lib.display.Audio object>"
      ]
     },
     "metadata": {},
     "output_type": "display_data"
    },
    {
     "data": {
      "text/markdown": [
       "This was about the time Trot was born, and the old sailor became very fond of the baby girl. Her real name was Mary, but when she grew big enough to walk, she took so many busy little steps every day that both her mother and Captain Bill nicknamed her Trot, and so she was thereafter mostly called."
      ],
      "text/plain": [
       "<IPython.core.display.Markdown object>"
      ]
     },
     "metadata": {},
     "output_type": "display_data"
    }
   ],
   "source": [
    "for x in progress_bar(txt_ds, total=10):\n",
    "    IPython.display.display(IPython.display.Markdown(f\"#### {x['__key__']} chunk {x['i']} of {x['imax']}\"))\n",
    "    fname = f\"test-{x['i']}.ogg\"\n",
    "    torchaudio.save(fname, x['samples'][None,:int((x['tend']-x['tstart'])*16000)], 16000)\n",
    "    IPython.display.display(IPython.display.Audio(url=fname, rate=16000))\n",
    "    IPython.display.display(IPython.display.Markdown(x['txt']))"
   ]
  },
  {
   "cell_type": "markdown",
   "id": "832ce681",
   "metadata": {},
   "source": [
    "## Batch processing\n",
    "\n",
    "Let's put everything above together."
   ]
  },
  {
   "cell_type": "code",
   "execution_count": null,
   "id": "74ef82da",
   "metadata": {},
   "outputs": [],
   "source": [
    "#| exporti\n",
    "def flac_to_txt_name(input):\n",
    "    return input.rsplit(\"/\", 1)[1].replace('flac', 'txt') + \".gz\"\n",
    "\n",
    "@call_parse\n",
    "def process_shard(\n",
    "    input:str,          # input shard URL/path\n",
    "    output:str=None,    # output shard URL/path\n",
    "    bs:int=None,        # batch size (16 uses around 11GB of VRAM)\n",
    "    n_samples:int=None, # limit the number of samples (useful for quick benchmarking)\n",
    "):\n",
    "    if output is None: output = flac_to_txt_name(input)\n",
    "    if bs is None: bs = 16\n",
    "    if n_samples is None: n_samples = 'noinfer'\n",
    "    else: n_samples = n_samples // bs\n",
    "\n",
    "    ds = wds_compose(vad.load_dataset(input),\n",
    "        merge_in(wds.WebDataset(vad.flac_to_vad_name(input)).decode()),\n",
    "        wds.map_dict(**{\"vad.npy\":chunk_merger}),\n",
    "        split_to_chunks,\n",
    "        wds.to_tuple('__key__', 'samples'),\n",
    "        wds.batched(bs),\n",
    "    )\n",
    "    dl = DataLoader(ds, num_workers=2, batch_size=None)\n",
    "    \n",
    "    whmodel = whisper.load_model('base.en')\n",
    "    decoding_options = whisper.DecodingOptions(language='en')\n",
    "    \n",
    "    tmp = output+\".tmp\"\n",
    "    with wds.TarWriter(tmp) as sink:\n",
    "        for keys, samples in progress_bar(dl, total=n_samples):\n",
    "            with torch.no_grad():\n",
    "                embs = whmodel.encoder(whisper.log_mel_spectrogram(samples).cuda())\n",
    "                decs = whmodel.decode(embs, decoding_options)\n",
    "            for key, dec in zip(keys, decs):\n",
    "                sink.write({\n",
    "                    \"__key__\": key,\n",
    "                    \"txt\": dec.text,\n",
    "                })\n",
    "    os.rename(tmp, output)"
   ]
  }
 ],
 "metadata": {
  "kernelspec": {
   "display_name": "python3",
   "language": "python",
   "name": "python3"
  }
 },
 "nbformat": 4,
 "nbformat_minor": 5
}
