{
 "cells": [
  {
   "cell_type": "code",
   "execution_count": null,
   "id": "a9158eaa",
   "metadata": {},
   "outputs": [],
   "source": [
    "#| default_exp extract_stoks"
   ]
  },
  {
   "cell_type": "code",
   "execution_count": null,
   "id": "6cf56fcb",
   "metadata": {},
   "outputs": [],
   "source": [
    "%load_ext autoreload\n",
    "%autoreload 2"
   ]
  },
  {
   "cell_type": "code",
   "execution_count": null,
   "id": "8ac6d8f8",
   "metadata": {},
   "outputs": [],
   "source": [
    "#| export\n",
    "import io\n",
    "import time\n",
    "import torch\n",
    "import torchaudio"
   ]
  },
  {
   "cell_type": "code",
   "execution_count": null,
   "id": "ecbdddfd",
   "metadata": {},
   "outputs": [],
   "source": [
    "#| export\n",
    "from pathlib import Path\n",
    "import json\n",
    "from fastprogress import progress_bar, master_bar\n",
    "import fastprogress\n",
    "import numpy as np\n",
    "import pylab as plt\n",
    "import pandas as pd\n",
    "\n",
    "from fastcore.script import *"
   ]
  },
  {
   "cell_type": "markdown",
   "id": "454be05c",
   "metadata": {},
   "source": [
    "# Distill Whisper with a RQ bottleneck (588hrs)"
   ]
  },
  {
   "cell_type": "markdown",
   "id": "cb7c1a95",
   "metadata": {},
   "source": [
    "## Index the dataset"
   ]
  },
  {
   "cell_type": "code",
   "execution_count": null,
   "id": "f504ab10",
   "metadata": {},
   "outputs": [
    {
     "data": {
      "text/html": [
       "\n",
       "<style>\n",
       "    /* Turns off some styling */\n",
       "    progress {\n",
       "        /* gets rid of default border in Firefox and Opera. */\n",
       "        border: none;\n",
       "        /* Needs to be in here for Safari polyfill so background images work as expected. */\n",
       "        background-size: auto;\n",
       "    }\n",
       "    progress:not([value]), progress:not([value])::-webkit-progress-bar {\n",
       "        background: repeating-linear-gradient(45deg, #7e7e7e, #7e7e7e 10px, #5c5c5c 10px, #5c5c5c 20px);\n",
       "    }\n",
       "    .progress-bar-interrupted, .progress-bar-interrupted::-webkit-progress-bar {\n",
       "        background: #F44336;\n",
       "    }\n",
       "</style>\n"
      ],
      "text/plain": [
       "<IPython.core.display.HTML object>"
      ]
     },
     "metadata": {},
     "output_type": "display_data"
    },
    {
     "data": {
      "text/html": [
       "\n",
       "    <div>\n",
       "      <progress value='5878' class='' max='5878' style='width:300px; height:20px; vertical-align: middle;'></progress>\n",
       "      100.00% [5878/5878 11:47&lt;00:00]\n",
       "    </div>\n",
       "    "
      ],
      "text/plain": [
       "<IPython.core.display.HTML object>"
      ]
     },
     "metadata": {},
     "output_type": "display_data"
    }
   ],
   "source": [
    "# create an index of the data\n",
    "fnames = []\n",
    "all_samples = []\n",
    "i = 0\n",
    "for name in progress_bar(list(Path('/mnt/distil').rglob('*.semb'))):\n",
    "    all_samples += [(i,j) for j in range(torch.load(name).shape[0])]\n",
    "    fnames.append(name)\n",
    "    i += 1"
   ]
  },
  {
   "cell_type": "code",
   "execution_count": null,
   "id": "fe4d6bbb",
   "metadata": {},
   "outputs": [],
   "source": [
    "data = pd.DataFrame(dict(idx = all_samples))"
   ]
  },
  {
   "cell_type": "code",
   "execution_count": null,
   "id": "e1b6fbb7",
   "metadata": {},
   "outputs": [],
   "source": [
    "data['fname'] = data['idx'].map(lambda x: str(fnames[x[0]]))"
   ]
  },
  {
   "cell_type": "code",
   "execution_count": null,
   "id": "08cf97e1",
   "metadata": {},
   "outputs": [],
   "source": [
    "data['speaker'] = data['fname'].map(lambda x: Path(x).parents[0].name)"
   ]
  },
  {
   "cell_type": "code",
   "execution_count": null,
   "id": "10df9b1b",
   "metadata": {},
   "outputs": [
    {
     "data": {
      "text/html": [
       "<div>\n",
       "<style scoped>\n",
       "    .dataframe tbody tr th:only-of-type {\n",
       "        vertical-align: middle;\n",
       "    }\n",
       "\n",
       "    .dataframe tbody tr th {\n",
       "        vertical-align: top;\n",
       "    }\n",
       "\n",
       "    .dataframe thead th {\n",
       "        text-align: right;\n",
       "    }\n",
       "</style>\n",
       "<table border=\"1\" class=\"dataframe\">\n",
       "  <thead>\n",
       "    <tr style=\"text-align: right;\">\n",
       "      <th></th>\n",
       "      <th>idx</th>\n",
       "      <th>fname</th>\n",
       "      <th>speaker</th>\n",
       "    </tr>\n",
       "  </thead>\n",
       "  <tbody>\n",
       "    <tr>\n",
       "      <th>0</th>\n",
       "      <td>(0, 0)</td>\n",
       "      <td>/mnt/distil/medium/5145/lastevolution_campbell...</td>\n",
       "      <td>5145</td>\n",
       "    </tr>\n",
       "    <tr>\n",
       "      <th>1</th>\n",
       "      <td>(0, 1)</td>\n",
       "      <td>/mnt/distil/medium/5145/lastevolution_campbell...</td>\n",
       "      <td>5145</td>\n",
       "    </tr>\n",
       "    <tr>\n",
       "      <th>2</th>\n",
       "      <td>(0, 2)</td>\n",
       "      <td>/mnt/distil/medium/5145/lastevolution_campbell...</td>\n",
       "      <td>5145</td>\n",
       "    </tr>\n",
       "    <tr>\n",
       "      <th>3</th>\n",
       "      <td>(0, 3)</td>\n",
       "      <td>/mnt/distil/medium/5145/lastevolution_campbell...</td>\n",
       "      <td>5145</td>\n",
       "    </tr>\n",
       "    <tr>\n",
       "      <th>4</th>\n",
       "      <td>(0, 4)</td>\n",
       "      <td>/mnt/distil/medium/5145/lastevolution_campbell...</td>\n",
       "      <td>5145</td>\n",
       "    </tr>\n",
       "    <tr>\n",
       "      <th>...</th>\n",
       "      <td>...</td>\n",
       "      <td>...</td>\n",
       "      <td>...</td>\n",
       "    </tr>\n",
       "    <tr>\n",
       "      <th>173188</th>\n",
       "      <td>(5875, 46)</td>\n",
       "      <td>/mnt/distil/small/3196/millonthefloss_27_eliot...</td>\n",
       "      <td>3196</td>\n",
       "    </tr>\n",
       "    <tr>\n",
       "      <th>173189</th>\n",
       "      <td>(5876, 0)</td>\n",
       "      <td>/mnt/distil/small/1276/im_nobody_dickinson_en_...</td>\n",
       "      <td>1276</td>\n",
       "    </tr>\n",
       "    <tr>\n",
       "      <th>173190</th>\n",
       "      <td>(5876, 1)</td>\n",
       "      <td>/mnt/distil/small/1276/im_nobody_dickinson_en_...</td>\n",
       "      <td>1276</td>\n",
       "    </tr>\n",
       "    <tr>\n",
       "      <th>173191</th>\n",
       "      <td>(5877, 0)</td>\n",
       "      <td>/mnt/distil/small/1267/im_nobody_dickinson_mmv...</td>\n",
       "      <td>1267</td>\n",
       "    </tr>\n",
       "    <tr>\n",
       "      <th>173192</th>\n",
       "      <td>(5877, 1)</td>\n",
       "      <td>/mnt/distil/small/1267/im_nobody_dickinson_mmv...</td>\n",
       "      <td>1267</td>\n",
       "    </tr>\n",
       "  </tbody>\n",
       "</table>\n",
       "<p>173193 rows × 3 columns</p>\n",
       "</div>"
      ],
      "text/plain": [
       "               idx                                              fname speaker\n",
       "0           (0, 0)  /mnt/distil/medium/5145/lastevolution_campbell...    5145\n",
       "1           (0, 1)  /mnt/distil/medium/5145/lastevolution_campbell...    5145\n",
       "2           (0, 2)  /mnt/distil/medium/5145/lastevolution_campbell...    5145\n",
       "3           (0, 3)  /mnt/distil/medium/5145/lastevolution_campbell...    5145\n",
       "4           (0, 4)  /mnt/distil/medium/5145/lastevolution_campbell...    5145\n",
       "...            ...                                                ...     ...\n",
       "173188  (5875, 46)  /mnt/distil/small/3196/millonthefloss_27_eliot...    3196\n",
       "173189   (5876, 0)  /mnt/distil/small/1276/im_nobody_dickinson_en_...    1276\n",
       "173190   (5876, 1)  /mnt/distil/small/1276/im_nobody_dickinson_en_...    1276\n",
       "173191   (5877, 0)  /mnt/distil/small/1267/im_nobody_dickinson_mmv...    1267\n",
       "173192   (5877, 1)  /mnt/distil/small/1267/im_nobody_dickinson_mmv...    1267\n",
       "\n",
       "[173193 rows x 3 columns]"
      ]
     },
     "execution_count": null,
     "metadata": {},
     "output_type": "execute_result"
    }
   ],
   "source": [
    "data"
   ]
  },
  {
   "cell_type": "code",
   "execution_count": null,
   "id": "dc1e765d",
   "metadata": {},
   "outputs": [],
   "source": [
    "data.to_feather('whisper-distil.feather')"
   ]
  },
  {
   "cell_type": "markdown",
   "id": "5f6b51e2",
   "metadata": {},
   "source": [
    "## Load the index and create Dataset objects"
   ]
  },
  {
   "cell_type": "code",
   "execution_count": null,
   "id": "a925d939",
   "metadata": {},
   "outputs": [],
   "source": [
    "data = pd.read_feather('whisper-distil.feather')"
   ]
  },
  {
   "cell_type": "code",
   "execution_count": null,
   "id": "c8c60842",
   "metadata": {},
   "outputs": [
    {
     "data": {
      "text/plain": [
       "173193"
      ]
     },
     "execution_count": null,
     "metadata": {},
     "output_type": "execute_result"
    }
   ],
   "source": [
    "len(data)"
   ]
  },
  {
   "cell_type": "code",
   "execution_count": null,
   "id": "a60b2fa4",
   "metadata": {},
   "outputs": [
    {
     "data": {
      "text/plain": [
       "1443.275"
      ]
     },
     "execution_count": null,
     "metadata": {},
     "output_type": "execute_result"
    }
   ],
   "source": [
    "len(data) * 30 / 3600"
   ]
  },
  {
   "cell_type": "code",
   "execution_count": null,
   "id": "b9be16bd",
   "metadata": {},
   "outputs": [
    {
     "data": {
      "text/plain": [
       "idx                                                   [0, 0]\n",
       "fname      /mnt/distil/medium/5145/lastevolution_campbell...\n",
       "speaker                                                 5145\n",
       "Name: 0, dtype: object"
      ]
     },
     "execution_count": null,
     "metadata": {},
     "output_type": "execute_result"
    }
   ],
   "source": [
    "data.iloc[0]"
   ]
  },
  {
   "cell_type": "code",
   "execution_count": null,
   "id": "dba23926",
   "metadata": {},
   "outputs": [],
   "source": [
    "import whisper\n",
    "whmodel = whisper.load_model('tiny.en')\n",
    "tokenizer = whisper.tokenizer.get_tokenizer(False, language='en')\n",
    "whmodel.eval();"
   ]
  },
  {
   "cell_type": "code",
   "execution_count": null,
   "id": "0a09a9ac",
   "metadata": {},
   "outputs": [],
   "source": [
    "import torch.nn.functional as F\n",
    "\n",
    "class SADataset(torch.utils.data.Dataset):\n",
    "    def __init__(self, data, samplerate=24000, pad_size=200):\n",
    "        self.data = data\n",
    "        self.samplerate = samplerate\n",
    "        self.pad_size = pad_size\n",
    "    \n",
    "    def __len__(self):\n",
    "        return len(self.data)\n",
    "        \n",
    "    def hours(self):\n",
    "        return len(self)*30/3600\n",
    "    \n",
    "    def __repr__(self):\n",
    "        return f\"Dataset: {len(self)} samples, {self.hours():.1f} hours)\"\n",
    "        \n",
    "    def __getitem__(self, idx):\n",
    "        row = self.data.iloc[idx]\n",
    "        _,j = row['idx']\n",
    "        fname = Path(row['fname'])\n",
    "        \n",
    "        tokens = torch.load(fname.with_suffix('.ttoks'))[j]\n",
    "        embs = torch.load(fname)[j,0]\n",
    "            \n",
    "        pad = self.pad_size - 1 - len(tokens)\n",
    "        input_toks = F.pad(torch.tensor(list(tokenizer.sot_sequence)+tokens), (0, pad), value=tokenizer.eot)\n",
    "        output_toks = F.pad(torch.tensor(tokens + [tokenizer.eot]), (0, pad), value=-100)\n",
    "        \n",
    "        return embs, input_toks, output_toks"
   ]
  },
  {
   "cell_type": "code",
   "execution_count": null,
   "id": "0410f179",
   "metadata": {},
   "outputs": [
    {
     "data": {
      "text/html": [
       "<div>\n",
       "<style scoped>\n",
       "    .dataframe tbody tr th:only-of-type {\n",
       "        vertical-align: middle;\n",
       "    }\n",
       "\n",
       "    .dataframe tbody tr th {\n",
       "        vertical-align: top;\n",
       "    }\n",
       "\n",
       "    .dataframe thead th {\n",
       "        text-align: right;\n",
       "    }\n",
       "</style>\n",
       "<table border=\"1\" class=\"dataframe\">\n",
       "  <thead>\n",
       "    <tr style=\"text-align: right;\">\n",
       "      <th></th>\n",
       "      <th>idx</th>\n",
       "      <th>fname</th>\n",
       "      <th>speaker</th>\n",
       "    </tr>\n",
       "  </thead>\n",
       "  <tbody>\n",
       "    <tr>\n",
       "      <th>0</th>\n",
       "      <td>[0, 0]</td>\n",
       "      <td>/mnt/distil/medium/5145/lastevolution_campbell...</td>\n",
       "      <td>5145</td>\n",
       "    </tr>\n",
       "    <tr>\n",
       "      <th>1</th>\n",
       "      <td>[0, 1]</td>\n",
       "      <td>/mnt/distil/medium/5145/lastevolution_campbell...</td>\n",
       "      <td>5145</td>\n",
       "    </tr>\n",
       "    <tr>\n",
       "      <th>2</th>\n",
       "      <td>[0, 2]</td>\n",
       "      <td>/mnt/distil/medium/5145/lastevolution_campbell...</td>\n",
       "      <td>5145</td>\n",
       "    </tr>\n",
       "    <tr>\n",
       "      <th>3</th>\n",
       "      <td>[0, 3]</td>\n",
       "      <td>/mnt/distil/medium/5145/lastevolution_campbell...</td>\n",
       "      <td>5145</td>\n",
       "    </tr>\n",
       "    <tr>\n",
       "      <th>4</th>\n",
       "      <td>[0, 4]</td>\n",
       "      <td>/mnt/distil/medium/5145/lastevolution_campbell...</td>\n",
       "      <td>5145</td>\n",
       "    </tr>\n",
       "    <tr>\n",
       "      <th>...</th>\n",
       "      <td>...</td>\n",
       "      <td>...</td>\n",
       "      <td>...</td>\n",
       "    </tr>\n",
       "    <tr>\n",
       "      <th>293</th>\n",
       "      <td>[7, 33]</td>\n",
       "      <td>/mnt/distil/medium/1943/quixote_vol2_09_cervan...</td>\n",
       "      <td>1943</td>\n",
       "    </tr>\n",
       "    <tr>\n",
       "      <th>294</th>\n",
       "      <td>[7, 34]</td>\n",
       "      <td>/mnt/distil/medium/1943/quixote_vol2_09_cervan...</td>\n",
       "      <td>1943</td>\n",
       "    </tr>\n",
       "    <tr>\n",
       "      <th>295</th>\n",
       "      <td>[7, 35]</td>\n",
       "      <td>/mnt/distil/medium/1943/quixote_vol2_09_cervan...</td>\n",
       "      <td>1943</td>\n",
       "    </tr>\n",
       "    <tr>\n",
       "      <th>296</th>\n",
       "      <td>[7, 36]</td>\n",
       "      <td>/mnt/distil/medium/1943/quixote_vol2_09_cervan...</td>\n",
       "      <td>1943</td>\n",
       "    </tr>\n",
       "    <tr>\n",
       "      <th>297</th>\n",
       "      <td>[7, 37]</td>\n",
       "      <td>/mnt/distil/medium/1943/quixote_vol2_09_cervan...</td>\n",
       "      <td>1943</td>\n",
       "    </tr>\n",
       "  </tbody>\n",
       "</table>\n",
       "<p>298 rows × 3 columns</p>\n",
       "</div>"
      ],
      "text/plain": [
       "         idx                                              fname speaker\n",
       "0     [0, 0]  /mnt/distil/medium/5145/lastevolution_campbell...    5145\n",
       "1     [0, 1]  /mnt/distil/medium/5145/lastevolution_campbell...    5145\n",
       "2     [0, 2]  /mnt/distil/medium/5145/lastevolution_campbell...    5145\n",
       "3     [0, 3]  /mnt/distil/medium/5145/lastevolution_campbell...    5145\n",
       "4     [0, 4]  /mnt/distil/medium/5145/lastevolution_campbell...    5145\n",
       "..       ...                                                ...     ...\n",
       "293  [7, 33]  /mnt/distil/medium/1943/quixote_vol2_09_cervan...    1943\n",
       "294  [7, 34]  /mnt/distil/medium/1943/quixote_vol2_09_cervan...    1943\n",
       "295  [7, 35]  /mnt/distil/medium/1943/quixote_vol2_09_cervan...    1943\n",
       "296  [7, 36]  /mnt/distil/medium/1943/quixote_vol2_09_cervan...    1943\n",
       "297  [7, 37]  /mnt/distil/medium/1943/quixote_vol2_09_cervan...    1943\n",
       "\n",
       "[298 rows x 3 columns]"
      ]
     },
     "execution_count": null,
     "metadata": {},
     "output_type": "execute_result"
    }
   ],
   "source": [
    "data[:298]"
   ]
  },
  {
   "cell_type": "code",
   "execution_count": null,
   "id": "0a3463c0",
   "metadata": {},
   "outputs": [
    {
     "data": {
      "text/plain": [
       "Dataset: 298 samples, 2.5 hours)"
      ]
     },
     "execution_count": null,
     "metadata": {},
     "output_type": "execute_result"
    }
   ],
   "source": [
    "val_data, train_data = data[:298], data[298:130000]\n",
    "val_ds = SADataset(val_data)\n",
    "val_ds"
   ]
  },
  {
   "cell_type": "code",
   "execution_count": null,
   "id": "d40fa70d",
   "metadata": {},
   "outputs": [
    {
     "data": {
      "text/plain": [
       "Dataset: 129702 samples, 1080.8 hours)"
      ]
     },
     "execution_count": null,
     "metadata": {},
     "output_type": "execute_result"
    }
   ],
   "source": [
    "train_ds = SADataset(train_data)\n",
    "train_ds"
   ]
  },
  {
   "cell_type": "code",
   "execution_count": null,
   "id": "fa55f811",
   "metadata": {},
   "outputs": [
    {
     "data": {
      "text/plain": [
       "(tensor([[ 0.7944,  0.0347,  0.8855,  ..., -2.7491,  0.8675, -0.9254],\n",
       "         [ 1.3523,  0.5560, -0.8735,  ..., -2.5424,  1.5299, -0.2041],\n",
       "         [-0.0241,  0.3919, -2.1869,  ..., -2.8512,  2.0449,  0.3861],\n",
       "         ...,\n",
       "         [ 0.8048,  0.5847, -3.0314,  ..., -0.6954,  0.1120,  0.9341],\n",
       "         [ 0.1238,  0.2581, -1.8695,  ...,  0.1802, -1.2729,  1.0476],\n",
       "         [-0.0371,  0.3969, -0.6002,  ...,  0.9175, -0.5362,  0.9545]]),\n",
       " tensor([50257, 50363,  4150,  3737,   314,   815,   954,  3589, 23030,   621,\n",
       "           314,   716,    11,   407,   780,   339,   318,   257,  2089,  3367,\n",
       "            11,   475, 50623, 50623,   780,   339,   318,   407,   523,   922,\n",
       "           355,   314,   714,  4601,    13,   679,   318, 29095,   812,   286,\n",
       "          2479,    13,   679,   468,   587,   329,  2237, 50907, 50907,   379,\n",
       "         38170, 42124, 11065,  9133,   290,  8312,    11,   290,   618,   314,\n",
       "         16555,   683,   284,  1210,   284,   262,  2050,   286,   584, 51143,\n",
       "         51143, 19838,    11,   314,  1043,   683,   523, 12908,   510,   287,\n",
       "           326,   286, 19518,    11,   611,   326,   460,   307,  1444,   257,\n",
       "          3783,    11,   326,   612, 51463, 51463,   318,   645,  1972,   683,\n",
       "           284,  1011, 26820,   284,   262,  1099,    11,   543,   314, 16555,\n",
       "           683,   284,  2050,    11,   393,   284, 24383,    11,   262, 16599,\n",
       "         51739, 51739, 50256, 50256, 50256, 50256, 50256, 50256, 50256, 50256,\n",
       "         50256, 50256, 50256, 50256, 50256, 50256, 50256, 50256, 50256, 50256,\n",
       "         50256, 50256, 50256, 50256, 50256, 50256, 50256, 50256, 50256, 50256,\n",
       "         50256, 50256, 50256, 50256, 50256, 50256, 50256, 50256, 50256, 50256,\n",
       "         50256, 50256, 50256, 50256, 50256, 50256, 50256, 50256, 50256, 50256,\n",
       "         50256, 50256, 50256, 50256, 50256, 50256, 50256, 50256, 50256, 50256,\n",
       "         50256, 50256, 50256, 50256, 50256, 50256, 50256, 50256, 50256, 50256,\n",
       "         50256, 50256, 50256, 50256, 50256, 50256, 50256, 50256, 50256, 50256]),\n",
       " tensor([50363,  4150,  3737,   314,   815,   954,  3589, 23030,   621,   314,\n",
       "           716,    11,   407,   780,   339,   318,   257,  2089,  3367,    11,\n",
       "           475, 50623, 50623,   780,   339,   318,   407,   523,   922,   355,\n",
       "           314,   714,  4601,    13,   679,   318, 29095,   812,   286,  2479,\n",
       "            13,   679,   468,   587,   329,  2237, 50907, 50907,   379, 38170,\n",
       "         42124, 11065,  9133,   290,  8312,    11,   290,   618,   314, 16555,\n",
       "           683,   284,  1210,   284,   262,  2050,   286,   584, 51143, 51143,\n",
       "         19838,    11,   314,  1043,   683,   523, 12908,   510,   287,   326,\n",
       "           286, 19518,    11,   611,   326,   460,   307,  1444,   257,  3783,\n",
       "            11,   326,   612, 51463, 51463,   318,   645,  1972,   683,   284,\n",
       "          1011, 26820,   284,   262,  1099,    11,   543,   314, 16555,   683,\n",
       "           284,  2050,    11,   393,   284, 24383,    11,   262, 16599, 51739,\n",
       "         51739, 50256,  -100,  -100,  -100,  -100,  -100,  -100,  -100,  -100,\n",
       "          -100,  -100,  -100,  -100,  -100,  -100,  -100,  -100,  -100,  -100,\n",
       "          -100,  -100,  -100,  -100,  -100,  -100,  -100,  -100,  -100,  -100,\n",
       "          -100,  -100,  -100,  -100,  -100,  -100,  -100,  -100,  -100,  -100,\n",
       "          -100,  -100,  -100,  -100,  -100,  -100,  -100,  -100,  -100,  -100,\n",
       "          -100,  -100,  -100,  -100,  -100,  -100,  -100,  -100,  -100,  -100,\n",
       "          -100,  -100,  -100,  -100,  -100,  -100,  -100,  -100,  -100,  -100,\n",
       "          -100,  -100,  -100,  -100,  -100,  -100,  -100,  -100,  -100,  -100]))"
      ]
     },
     "execution_count": null,
     "metadata": {},
     "output_type": "execute_result"
    }
   ],
   "source": [
    "train_ds[0]"
   ]
  },
  {
   "cell_type": "markdown",
   "id": "8be7e7a3",
   "metadata": {},
   "source": [
    "# Training code"
   ]
  },
  {
   "cell_type": "code",
   "execution_count": null,
   "id": "7c43c8a2",
   "metadata": {},
   "outputs": [],
   "source": [
    "class VQVisual:\n",
    "    def __init__ (self, model, total_steps):\n",
    "        self.model = model\n",
    "        self.total_steps = total_steps\n",
    "        self.q_depth = len(model.rq.layers)\n",
    "        \n",
    "        gs = plt.GridSpec(3, 1, height_ratios=[2, 1, 1])\n",
    "        vq_gs = gs[1].subgridspec(1, self.q_depth)\n",
    "        codebook_gs = gs[2].subgridspec(1, self.q_depth)\n",
    "        graph_fig = plt.figure(figsize=(10,6))\n",
    "        self.graph_fig = graph_fig\n",
    "        self.loss_p = graph_fig.add_subplot(gs[0])\n",
    "        self.vq_p = [graph_fig.add_subplot(vq_gs[i]) for i in range(self.q_depth)]\n",
    "        self.codebook_p = [graph_fig.add_subplot(codebook_gs[i]) for i in range(self.q_depth)]\n",
    "        self.graph_out = None\n",
    "        \n",
    "        self.its = []\n",
    "        self.train_losses = []\n",
    "        self.val_losses = []\n",
    "        self.lr_history = []\n",
    "        \n",
    "        self.vq_usage_history = []\n",
    "        self.vq_range_history = []\n",
    "        \n",
    "        self.max_vq_usage = torch.tensor([5.]*self.q_depth)\n",
    "        self.vq_range = torch.tensor([-2.,2.,-2.,2.]).repeat(self.q_depth,1)\n",
    "    \n",
    "    def show(self):\n",
    "        self.graph_out = display(self.graph_fig, display_id=True, clear=True)\n",
    "    \n",
    "    def hide(self):\n",
    "        if self.graph_out is not None:\n",
    "            self.graph_out.update(IPython.display.HTML(''))\n",
    "    \n",
    "    def plot(self):\n",
    "        loss_p, vq_p, codebook_p = self.loss_p, self.vq_p, self.codebook_p\n",
    "        loss_p.clear()\n",
    "        loss_p.plot(self.its, self.train_losses)\n",
    "        loss_p.plot(self.its, self.val_losses)\n",
    "        loss_p.set_xlim(0, self.total_steps)\n",
    "        loss_p.set_yscale('log')\n",
    "        vq_range = torch.tensor([-2,2,-2,2]).repeat(self.q_depth,1)\n",
    "        for i in range(self.q_depth):\n",
    "            vq = self.model.rq.layers[i]\n",
    "            cls = vq._codebook.cluster_size\n",
    "            vq_p[i].clear()\n",
    "            vq_p[i].fill_between(range(cls.shape[1]), 0, torch.sort(cls, descending=True).values.cpu().numpy()[0])\n",
    "            vq_p[i].margins(0,0)\n",
    "            vq_p[i].spines['top'].set_visible(False)\n",
    "            vq_p[i].spines['right'].set_visible(False)\n",
    "            vq_p[i].spines['bottom'].set_visible(False)\n",
    "            vq_p[i].spines['left'].set_visible(False)\n",
    "            vq_p[i].set_ylim(0, self.max_vq_usage[i])\n",
    "            used_codes = (cls > 0.1).sum()\n",
    "            vq_p[i].text(0.5, 0.9, f'{int(used_codes)}', horizontalalignment='center',\n",
    "                 verticalalignment='center', transform=vq_p[i].transAxes)\n",
    "            self.max_vq_usage[i] = cls.max().item()\n",
    "            cd = vq._codebook.embed\n",
    "            codebook_p[i].clear()\n",
    "            codebook_p[i].scatter(vq.codebook[:,0].cpu(), vq.codebook[:,1].cpu(), s=vq._codebook.cluster_size.cpu(), alpha=.2)\n",
    "            s = self.vq_range[i]\n",
    "            margin = (s[1::2] - s[0::2])*0.1\n",
    "            s[0::2] -= margin\n",
    "            s[1::2] += margin\n",
    "            codebook_p[i].set_xlim(*s[0:2])\n",
    "            codebook_p[i].set_ylim(*s[2:4])\n",
    "            self.vq_range[i] = torch.tensor([vq.codebook[:,0].min(), vq.codebook[:,0].max(), vq.codebook[:,1].min(), vq.codebook[:,1].max()])\n",
    "        self.vq_range_history.append(self.vq_range)\n",
    "        s = self.vq_range_history[-10:]\n",
    "        self.vq_range = sum(s) / len(s)\n",
    "        self.vq_usage_history.append(self.max_vq_usage)\n",
    "        s = self.vq_usage_history[-10:]\n",
    "        self.max_vq_usage = sum(s) / len(s)\n",
    "        self.graph_out.update(self.graph_fig)\n",
    "    \n",
    "    def add_data(self, it, lr, train_loss, val_los):\n",
    "        self.its.append(it)\n",
    "        self.train_losses.append(train_loss)\n",
    "        self.val_losses.append(val_los)\n",
    "        self.lr_history.append(lr)\n",
    "        self.plot()"
   ]
  },
  {
   "cell_type": "code",
   "execution_count": null,
   "id": "cd0dc7b2",
   "metadata": {},
   "outputs": [
    {
     "data": {
      "text/html": [],
      "text/plain": [
       "<IPython.core.display.HTML object>"
      ]
     },
     "metadata": {},
     "output_type": "display_data"
    },
    {
     "data": {
      "image/png": "[encoded data removed]",
      "text/plain": [
       "<Figure size 1000x600 with 3 Axes>"
      ]
     },
     "metadata": {},
     "output_type": "display_data"
    }
   ],
   "source": [
    "# test VQVisual\n",
    "visual = VQVisual(vqmodel, 1)\n",
    "visual.show()\n",
    "visual.add_data(0, 1e-4, 0.5, 0.6)\n",
    "visual.add_data(1, 1.2e-4, 0.55, 0.65)\n",
    "visual.hide()"
   ]
  },
  {
   "cell_type": "code",
   "execution_count": null,
   "id": "099749c4",
   "metadata": {},
   "outputs": [],
   "source": [
    "# training code\n",
    "import torch.optim as optim\n",
    "import torch.nn.functional as F\n",
    "from torch.utils.data.dataloader import DataLoader\n",
    "import random\n",
    "import IPython\n",
    "\n",
    "def train(model_name, model, train, val, half=False, bs=16, lr=1e-4, visual_class = VQVisual,\n",
    "          weight_decay=0.1, pct_start=0.3, warmup=5000, warmup_mul=1e-2, epochs=10,\n",
    "          run_valid_every_iters=100, table_row_every_iters=1000,\n",
    "          device=\"cuda\"):\n",
    "    try:\n",
    "        scheduler = None\n",
    "        visual = visual_class(model, epochs*len(train))\n",
    "        all_params = set(model.parameters())\n",
    "        wd_params = set()\n",
    "        for m in model.modules():\n",
    "            if isinstance(m, (nn.Linear, nn.Conv1d)):\n",
    "                wd_params.add(m.weight)\n",
    "                if m.bias is not None:\n",
    "                    wd_params.add(m.bias)\n",
    "        no_wd_params = all_params - wd_params\n",
    "\n",
    "        optimizer = torch.optim.AdamW(lr=lr * warmup_mul, betas=(0.9, 0.95), #fused=True,\n",
    "            params=[\n",
    "                {\"params\": list(wd_params), \"weight_decay\": weight_decay},\n",
    "                {\"params\": list(no_wd_params), \"weight_decay\": 0.0},\n",
    "            ]\n",
    "        )\n",
    "        scaler = torch.cuda.amp.GradScaler(enabled=half)\n",
    "\n",
    "        train_loader = DataLoader(train, batch_size=bs, num_workers=20, drop_last=False, shuffle=True)\n",
    "        val_loader = DataLoader(val, batch_size=bs, num_workers=20, drop_last=False)\n",
    "        chkpt_every_iters = 5000\n",
    "\n",
    "        it = 0\n",
    "        start_t = time.time()\n",
    "        next_val_it = it + 50\n",
    "        next_chkpt_it = chkpt_every_iters\n",
    "        next_table_it = table_row_every_iters\n",
    "        \n",
    "        commit_loss = torch.nan\n",
    "        ce_loss = torch.nan\n",
    "        kl_loss = torch.nan\n",
    "        val_loss = torch.nan\n",
    "        avg_train_loss = torch.nan\n",
    "        \n",
    "        visual.show()\n",
    "\n",
    "        mb = master_bar(range(epochs))\n",
    "        mb.write([\"samples\", \"train\", \"val\", \"time\"], table=True)\n",
    "        running_loss = [0]\n",
    "        for epoch in mb:\n",
    "            bar = progress_bar(train_loader, parent=mb)\n",
    "            for batch in bar:\n",
    "                # zero the parameter gradients\n",
    "                optimizer.zero_grad(set_to_none=True)\n",
    "\n",
    "                with torch.autocast(device_type=device, dtype=torch.float16 if half else torch.float32, enabled=device!='cpu'):\n",
    "                    ps, loss = model(*batch)\n",
    "\n",
    "                scaler.scale(loss).backward()\n",
    "                scaler.step(optimizer)\n",
    "                scaler.update()\n",
    "\n",
    "                if it > warmup:\n",
    "                    if scheduler is None:\n",
    "                        scheduler = torch.optim.lr_scheduler.OneCycleLR(optimizer, max_lr=lr, pct_start=pct_start, steps_per_epoch=len(train_loader), epochs=epochs)\n",
    "                    else:\n",
    "                        scheduler.step()\n",
    "                        lr = scheduler.get_last_lr()                    \n",
    "\n",
    "                running_loss.append(loss.item())\n",
    "                running_loss = running_loss[-5:]\n",
    "                avg_train_loss = sum(running_loss)/len(running_loss)\n",
    "\n",
    "                if it >= next_chkpt_it:\n",
    "                    next_chkpt_it += chkpt_every_iters\n",
    "                    torch.save(vqmodel.state_dict(), f'{model_name}-{it}.pt')\n",
    "                    \n",
    "                if it >= next_val_it:\n",
    "                    next_val_it += run_valid_every_iters\n",
    "                    model.eval()\n",
    "                    with torch.no_grad():\n",
    "                        val_loss = 0\n",
    "                        commit_loss = 0\n",
    "                        ce_loss = 0\n",
    "                        kl_loss = 0\n",
    "                        for batch in val_loader:\n",
    "                            with torch.autocast(device_type=device, dtype=torch.float16 if half else torch.float32, enabled=device!='cpu'):\n",
    "                                ps, loss = model(*batch)\n",
    "                            val_loss += loss\n",
    "                            commit_loss += model.commit_loss\n",
    "                            ce_loss += model.ce_loss\n",
    "                            kl_loss += model.kl_loss\n",
    "                        N = len(val_loader)\n",
    "                        val_loss = val_loss.item() / N; commit_loss = commit_loss.item() / N; ce_loss = ce_loss.item() / N; kl_loss = kl_loss.item() / N;\n",
    "                    model.train()\n",
    "                    visual.add_data(it, lr, avg_train_loss, val_loss)\n",
    "                \n",
    "                if it >= next_table_it:\n",
    "                    elapsed_t = time.time() - start_t\n",
    "                    next_table_it += table_row_every_iters\n",
    "                    mb.write([it, f\"{avg_train_loss:.5f}\", f\"{val_loss:.5f}\", fastprogress.core.format_time(elapsed_t)], table=True)\n",
    "\n",
    "                it += bs\n",
    "                bar.comment = f\"#{epoch+1}/{epochs} loss: {avg_train_loss:.3f} / {val_loss:.3f} commit: {commit_loss:.3f} ce: {ce_loss:.3f} kl: {kl_loss:.3f}\"\n",
    "    except KeyboardInterrupt:\n",
    "        mb.write(f\"interrupted\")\n",
    "        mb.show()\n",
    "        pass\n",
    "    finally:\n",
    "        visual.hide()"
   ]
  },
  {
   "cell_type": "code",
   "execution_count": null,
   "id": "58911439",
   "metadata": {},
   "outputs": [],
   "source": [
    "#| exporti\n",
    "# the model\n",
    "import whisper\n",
    "from torch import nn\n",
    "from vector_quantize_pytorch import ResidualVQ\n",
    "\n",
    "class LayerNorm(nn.LayerNorm):\n",
    "    def forward(self, x):\n",
    "        return super().forward(x.float()).type(x.dtype)\n",
    "    \n",
    "def sinusoids(length, channels, max_timescale=10000):\n",
    "    \"\"\"Returns sinusoids for positional embedding\"\"\"\n",
    "    assert channels % 2 == 0\n",
    "    log_timescale_increment = np.log(max_timescale) / (channels // 2 - 1)\n",
    "    inv_timescales = torch.exp(-log_timescale_increment * torch.arange(channels // 2))\n",
    "    scaled_time = torch.arange(length)[:, np.newaxis] * inv_timescales[np.newaxis, :]\n",
    "    return torch.cat([torch.sin(scaled_time), torch.cos(scaled_time)], dim=1)\n",
    "\n",
    "def init_transformer(m):\n",
    "    if isinstance(m, (nn.Linear, nn.Embedding)):\n",
    "        torch.nn.init.trunc_normal_(m.weight, std=.02)\n",
    "        if isinstance(m, nn.Linear) and m.bias is not None:\n",
    "            torch.nn.init.constant_(m.bias, 0)\n",
    "    elif isinstance(m, nn.LayerNorm):\n",
    "        torch.nn.init.constant_(m.bias, 0)\n",
    "        torch.nn.init.constant_(m.weight, 1.0)"
   ]
  },
  {
   "cell_type": "code",
   "execution_count": null,
   "id": "b7e0227d",
   "metadata": {},
   "outputs": [],
   "source": [
    "#| export\n",
    "class RQBottleneckTransformer(nn.Module):\n",
    "    def __init__(self, width=384, vq_codes=512, q_depth=12, depth=1, n_head=2,\n",
    "                 codebook_dim=2, threshold_ema_dead_code=2, use_cosine_sim = False, kl_loss_mul=1):\n",
    "        super(RQBottleneckTransformer, self).__init__()\n",
    "        \n",
    "        self.whisper_decoder_config = whisper.DecodingOptions(language='en')\n",
    "        \n",
    "        self.vq_codes = vq_codes\n",
    "        self.kl_loss_mul = kl_loss_mul\n",
    "        \n",
    "        self.in_blocks = nn.Sequential(*[\n",
    "            whisper.model.ResidualAttentionBlock(width, n_head) for _ in range(depth)\n",
    "        ])\n",
    "        self.ln_vq = LayerNorm(width)\n",
    "\n",
    "        self.rq = ResidualVQ(\n",
    "            dim = width,\n",
    "            codebook_size = vq_codes, # codebook size\n",
    "            decay = 0.8,              # the exponential moving average decay, lower means the dictionary will change faster\n",
    "            commitment_weight = 1.,   # the weight on the commitment loss\n",
    "            threshold_ema_dead_code = threshold_ema_dead_code,\n",
    "            use_cosine_sim = use_cosine_sim,\n",
    "            codebook_dim = codebook_dim,\n",
    "            num_quantizers= q_depth,\n",
    "        )\n",
    "        \n",
    "        self.ce_lossf = nn.CrossEntropyLoss(ignore_index=-100)\n",
    "        self.kl_lossf = nn.KLDivLoss(reduction='batchmean')\n",
    "\n",
    "        self.register_buffer(\"positional_embedding\", sinusoids(1500, width))\n",
    "        \n",
    "        self.out_blocks = nn.Sequential(*[\n",
    "            whisper.model.ResidualAttentionBlock(width, n_head) for _ in range(depth)\n",
    "        ])\n",
    "        self.ln_post = LayerNorm(width)\n",
    "        \n",
    "        self.apply(init_transformer)\n",
    "    \n",
    "    def encode(self, embs):\n",
    "        x = self.ln_vq(self.in_blocks(embs))\n",
    "        _, indices, _ = self.rq(x)\n",
    "        return indices\n",
    "\n",
    "    @torch.no_grad()\n",
    "    def get_teacher_logits(self, embs, input_toks, output_toks):\n",
    "        teacher_logits = whmodel.decoder(input_toks, embs)\n",
    "        # set teacher logits to 0 for padding positions so KLDivLoss ignores them\n",
    "        teacher_logits[output_toks == -100] = 0\n",
    "        return teacher_logits\n",
    "    \n",
    "    def forward(self, embs, input_toks, output_toks):\n",
    "        embs, input_toks, output_toks = [x.cuda() for x in [embs, input_toks, output_toks]]\n",
    "        teacher_logits = self.get_teacher_logits(embs, input_toks, output_toks)\n",
    "        \n",
    "        # VQ bottleneck\n",
    "        x = self.ln_vq(self.in_blocks(embs))\n",
    "        quantized, self.indices, self.commit_loss = self.rq(x)\n",
    "        self.commit_loss = self.commit_loss.mean()\n",
    "        x = self.ln_post(self.out_blocks(quantized + self.positional_embedding))\n",
    "        \n",
    "        logits = whmodel.decoder(input_toks, x)\n",
    "        self.ce_loss = self.ce_lossf(logits.view(-1,logits.shape[-1]), output_toks.view(-1))\n",
    "        self.kl_loss = self.kl_lossf(F.log_softmax(logits, dim=-1), F.softmax(teacher_logits, dim=-1))\n",
    "        loss = self.ce_loss + self.kl_loss_mul * self.kl_loss + self.commit_loss\n",
    "        return x, loss"
   ]
  },
  {
   "cell_type": "code",
   "execution_count": null,
   "id": "70798828",
   "metadata": {},
   "outputs": [
    {
     "name": "stdout",
     "output_type": "stream",
     "text": [
      "Automatic pdb calling has been turned OFF\n"
     ]
    }
   ],
   "source": [
    "%pdb"
   ]
  },
  {
   "cell_type": "code",
   "execution_count": null,
   "id": "b188c1ea",
   "metadata": {},
   "outputs": [
    {
     "data": {
      "text/html": [],
      "text/plain": [
       "<IPython.core.display.HTML object>"
      ]
     },
     "metadata": {},
     "output_type": "display_data"
    },
    {
     "data": {
      "text/html": [
       "\n",
       "<style>\n",
       "    /* Turns off some styling */\n",
       "    progress {\n",
       "        /* gets rid of default border in Firefox and Opera. */\n",
       "        border: none;\n",
       "        /* Needs to be in here for Safari polyfill so background images work as expected. */\n",
       "        background-size: auto;\n",
       "    }\n",
       "    progress:not([value]), progress:not([value])::-webkit-progress-bar {\n",
       "        background: repeating-linear-gradient(45deg, #7e7e7e, #7e7e7e 10px, #5c5c5c 10px, #5c5c5c 20px);\n",
       "    }\n",
       "    .progress-bar-interrupted, .progress-bar-interrupted::-webkit-progress-bar {\n",
       "        background: #F44336;\n",
       "    }\n",
       "</style>\n"
      ],
      "text/plain": [
       "<IPython.core.display.HTML object>"
      ]
     },
     "metadata": {},
     "output_type": "display_data"
    },
    {
     "data": {
      "text/html": [
       "<table border=\"1\" class=\"dataframe\">\n",
       "  <thead>\n",
       "    <tr style=\"text-align: left;\">\n",
       "      <th>samples</th>\n",
       "      <th>train</th>\n",
       "      <th>val</th>\n",
       "      <th>time</th>\n",
       "    </tr>\n",
       "  </thead>\n",
       "  <tbody>\n",
       "    <tr>\n",
       "      <td>20000</td>\n",
       "      <td>413.38255</td>\n",
       "      <td>461.53012</td>\n",
       "      <td>12:25</td>\n",
       "    </tr>\n",
       "    <tr>\n",
       "      <td>40000</td>\n",
       "      <td>405.09925</td>\n",
       "      <td>447.97101</td>\n",
       "      <td>24:31</td>\n",
       "    </tr>\n",
       "    <tr>\n",
       "      <td>60000</td>\n",
       "      <td>424.49371</td>\n",
       "      <td>442.10788</td>\n",
       "      <td>36:39</td>\n",
       "    </tr>\n",
       "    <tr>\n",
       "      <td>80000</td>\n",
       "      <td>381.87087</td>\n",
       "      <td>429.67257</td>\n",
       "      <td>48:46</td>\n",
       "    </tr>\n",
       "    <tr>\n",
       "      <td>100000</td>\n",
       "      <td>272.97687</td>\n",
       "      <td>260.08321</td>\n",
       "      <td>1:00:47</td>\n",
       "    </tr>\n",
       "    <tr>\n",
       "      <td>120000</td>\n",
       "      <td>192.91068</td>\n",
       "      <td>168.19143</td>\n",
       "      <td>1:13:12</td>\n",
       "    </tr>\n",
       "    <tr>\n",
       "      <td>140000</td>\n",
       "      <td>133.61988</td>\n",
       "      <td>120.39785</td>\n",
       "      <td>1:25:23</td>\n",
       "    </tr>\n",
       "    <tr>\n",
       "      <td>160000</td>\n",
       "      <td>138.68134</td>\n",
       "      <td>105.93922</td>\n",
       "      <td>1:37:21</td>\n",
       "    </tr>\n",
       "    <tr>\n",
       "      <td>180000</td>\n",
       "      <td>132.85053</td>\n",
       "      <td>97.73884</td>\n",
       "      <td>1:49:19</td>\n",
       "    </tr>\n",
       "    <tr>\n",
       "      <td>200000</td>\n",
       "      <td>114.29639</td>\n",
       "      <td>88.18254</td>\n",
       "      <td>2:01:31</td>\n",
       "    </tr>\n",
       "    <tr>\n",
       "      <td>220000</td>\n",
       "      <td>111.50429</td>\n",
       "      <td>80.02561</td>\n",
       "      <td>2:13:19</td>\n",
       "    </tr>\n",
       "    <tr>\n",
       "      <td>240000</td>\n",
       "      <td>102.10757</td>\n",
       "      <td>75.81436</td>\n",
       "      <td>2:25:29</td>\n",
       "    </tr>\n",
       "    <tr>\n",
       "      <td>260000</td>\n",
       "      <td>89.56897</td>\n",
       "      <td>71.87073</td>\n",
       "      <td>2:37:29</td>\n",
       "    </tr>\n",
       "    <tr>\n",
       "      <td>280000</td>\n",
       "      <td>79.65078</td>\n",
       "      <td>66.50511</td>\n",
       "      <td>2:49:25</td>\n",
       "    </tr>\n",
       "    <tr>\n",
       "      <td>300000</td>\n",
       "      <td>92.04500</td>\n",
       "      <td>63.48845</td>\n",
       "      <td>3:01:14</td>\n",
       "    </tr>\n",
       "    <tr>\n",
       "      <td>320000</td>\n",
       "      <td>82.24992</td>\n",
       "      <td>59.45284</td>\n",
       "      <td>3:13:31</td>\n",
       "    </tr>\n",
       "    <tr>\n",
       "      <td>340000</td>\n",
       "      <td>76.45800</td>\n",
       "      <td>56.36837</td>\n",
       "      <td>3:25:21</td>\n",
       "    </tr>\n",
       "    <tr>\n",
       "      <td>360000</td>\n",
       "      <td>65.97841</td>\n",
       "      <td>53.82001</td>\n",
       "      <td>3:37:19</td>\n",
       "    </tr>\n",
       "    <tr>\n",
       "      <td>380000</td>\n",
       "      <td>74.58378</td>\n",
       "      <td>51.86225</td>\n",
       "      <td>3:49:19</td>\n",
       "    </tr>\n",
       "    <tr>\n",
       "      <td>400000</td>\n",
       "      <td>64.53362</td>\n",
       "      <td>50.07256</td>\n",
       "      <td>4:01:24</td>\n",
       "    </tr>\n",
       "    <tr>\n",
       "      <td>420000</td>\n",
       "      <td>66.98354</td>\n",
       "      <td>48.23877</td>\n",
       "      <td>4:13:19</td>\n",
       "    </tr>\n",
       "    <tr>\n",
       "      <td>440000</td>\n",
       "      <td>56.27019</td>\n",
       "      <td>46.68785</td>\n",
       "      <td>4:25:16</td>\n",
       "    </tr>\n",
       "    <tr>\n",
       "      <td>460000</td>\n",
       "      <td>55.82727</td>\n",
       "      <td>43.22568</td>\n",
       "      <td>4:37:15</td>\n",
       "    </tr>\n",
       "    <tr>\n",
       "      <td>480000</td>\n",
       "      <td>55.53478</td>\n",
       "      <td>41.45988</td>\n",
       "      <td>4:49:13</td>\n",
       "    </tr>\n",
       "    <tr>\n",
       "      <td>500000</td>\n",
       "      <td>54.21338</td>\n",
       "      <td>40.76278</td>\n",
       "      <td>5:01:02</td>\n",
       "    </tr>\n",
       "    <tr>\n",
       "      <td>520000</td>\n",
       "      <td>53.40224</td>\n",
       "      <td>38.09413</td>\n",
       "      <td>5:13:11</td>\n",
       "    </tr>\n",
       "    <tr>\n",
       "      <td>540000</td>\n",
       "      <td>50.76207</td>\n",
       "      <td>36.91007</td>\n",
       "      <td>5:24:57</td>\n",
       "    </tr>\n",
       "    <tr>\n",
       "      <td>560000</td>\n",
       "      <td>50.28255</td>\n",
       "      <td>35.38567</td>\n",
       "      <td>5:36:58</td>\n",
       "    </tr>\n",
       "    <tr>\n",
       "      <td>580000</td>\n",
       "      <td>50.89974</td>\n",
       "      <td>34.49696</td>\n",
       "      <td>5:49:00</td>\n",
       "    </tr>\n",
       "    <tr>\n",
       "      <td>600000</td>\n",
       "      <td>45.30112</td>\n",
       "      <td>33.35348</td>\n",
       "      <td>6:00:57</td>\n",
       "    </tr>\n",
       "    <tr>\n",
       "      <td>620000</td>\n",
       "      <td>44.70395</td>\n",
       "      <td>32.92961</td>\n",
       "      <td>6:12:53</td>\n",
       "    </tr>\n",
       "    <tr>\n",
       "      <td>640000</td>\n",
       "      <td>41.71813</td>\n",
       "      <td>32.43076</td>\n",
       "      <td>6:25:03</td>\n",
       "    </tr>\n",
       "  </tbody>\n",
       "</table>"
      ],
      "text/plain": [
       "<IPython.core.display.HTML object>"
      ]
     },
     "metadata": {},
     "output_type": "display_data"
    },
    {
     "data": {
      "image/png": "[encoded data removed]",
      "text/plain": [
       "<Figure size 1000x600 with 3 Axes>"
      ]
     },
     "metadata": {},
     "output_type": "display_data"
    }
   ],
   "source": [
    "# with positional embeddings, 10 bit bottleneck (1 quantizer, 1024 codes)\n",
    "vqmodel = RQBottleneckTransformer(codebook_dim=16, vq_codes=1024, q_depth=1, n_head=6, depth=1,\n",
    "                                  threshold_ema_dead_code=0.1).cuda()\n",
    "train(\"svq\", vqmodel, train_ds, val_ds, bs=8, epochs=5, lr=8e-4, warmup_mul=1e-3, warmup=10000,\n",
    "      run_valid_every_iters=2500, table_row_every_iters=20000)"
   ]
  },
  {
   "cell_type": "code",
   "execution_count": null,
   "id": "b07f768d",
   "metadata": {},
   "outputs": [],
   "source": [
    "torch.save(vqmodel.state_dict(), 'vqmodel2-tiny-1000h.pth')"
   ]
  },
  {
   "cell_type": "markdown",
   "id": "0e0519f3",
   "metadata": {},
   "source": [
    "## Check the decoder performance with and without the RQ bottleneck"
   ]
  },
  {
   "cell_type": "code",
   "execution_count": null,
   "id": "63ea38d8",
   "metadata": {},
   "outputs": [
    {
     "data": {
      "text/plain": [
       "' The Last Evolution by John W. Campbell Jr. This This is a Libervox recording. All All Libervox recordings are in the public domain. For more information or to volunteer, please visit the Libervox.org. Recording by Kevin Gunn. I am the last of my type existing today in all the solar system.<|endoftext|> I I I I I. I. I.... The... the. the the the the the the the the the the the the the the the the the the the the the the the the the the the the the the the the the the) the the the the the the the the the the the the the the the the the the.... the. the..........................................'"
      ]
     },
     "execution_count": null,
     "metadata": {},
     "output_type": "execute_result"
    }
   ],
   "source": [
    "embs, input_toks, _ = val_ds[0]\n",
    "tokenizer.decode(whmodel.decoder(input_toks.unsqueeze(0).cuda(), embs.unsqueeze(0).cuda()).argmax(-1)[0])"
   ]
  },
  {
   "cell_type": "code",
   "execution_count": null,
   "id": "616b6d90",
   "metadata": {},
   "outputs": [
    {
     "data": {
      "text/plain": [
       "\" The Last Evolution by John W. Campbell Jr. This This is a Libvox recording. All All Libervox recordings are in the public domain. For more information or to volunteer, please visit the Libervox.org. Recording by Kevin Gunn. And'm the last of my type existing today in all the solar system.<|endoftext|><|endoftext|><|endoftext|><|endoftext|><|endoftext|><|endoftext|><|endoftext|><|endoftext|><|endoftext|><|endoftext|><|endoftext|><|endoftext|><|endoftext|><|endoftext|><|endoftext|><|endoftext|><|endoftext|><|endoftext|><|endoftext|><|endoftext|><|endoftext|><|endoftext|><|endoftext|><|endoftext|><|endoftext|><|endoftext|><|endoftext|><|endoftext|><|endoftext|><|endoftext|><|endoftext|><|endoftext|><|endoftext|>.-<|endoftext|>.-<|endoftext|><|endoftext|><|endoftext|><|endoftext|><|endoftext|><|endoftext|><|endoftext|><|endoftext|><|endoftext|><|endoftext|><|endoftext|><|endoftext|><|endoftext|><|endoftext|><|endoftext|><|endoftext|><|endoftext|><|endoftext|><|endoftext|><|endoftext|><|endoftext|><|endoftext|><|endoftext|><|endoftext|><|endoftext|><|endoftext|><|endoftext|><|endoftext|><|endoftext|><|endoftext|><|endoftext|><|endoftext|><|endoftext|><|endoftext|><|endoftext|><|endoftext|><|endoftext|><|endoftext|><|endoftext|><|endoftext|><|endoftext|><|endoftext|><|endoftext|><|endoftext|><|endoftext|><|endoftext|><|endoftext|><|endoftext|><|endoftext|><|endoftext|><|endoftext|><|endoftext|><|endoftext|><|endoftext|><|endoftext|><|endoftext|><|endoftext|><|endoftext|><|endoftext|><|endoftext|><|endoftext|><|endoftext|><|endoftext|><|endoftext|><|endoftext|><|endoftext|><|endoftext|><|endoftext|><|endoftext|><|endoftext|><|endoftext|><|endoftext|><|endoftext|><|endoftext|><|endoftext|><|endoftext|><|endoftext|><|endoftext|><|endoftext|><|endoftext|><|endoftext|><|endoftext|><|endoftext|><|endoftext|><|endoftext|><|endoftext|>\""
      ]
     },
     "execution_count": null,
     "metadata": {},
     "output_type": "execute_result"
    }
   ],
   "source": [
    "# probably a bit better with more data, good enough for now\n",
    "tokenizer.decode(whmodel.decoder(input_toks.unsqueeze(0).cuda(), vqmodel(embs.unsqueeze(0).to(torch.float32), input_toks.unsqueeze(0), _.unsqueeze(0))[0]).argmax(-1)[0])"
   ]
  },
  {
   "cell_type": "markdown",
   "id": "f57f315c",
   "metadata": {},
   "source": [
    "# Semantic token extraction\n",
    "## Load the trained model"
   ]
  },
  {
   "cell_type": "code",
   "execution_count": null,
   "id": "94a3e196",
   "metadata": {},
   "outputs": [],
   "source": []
  },
  {
   "cell_type": "markdown",
   "id": "a2fd5d70",
   "metadata": {},
   "source": [
    "### Generate and save all semantic tokens (stoks)"
   ]
  },
  {
   "cell_type": "code",
   "execution_count": null,
   "id": "245c26ec",
   "metadata": {},
   "outputs": [],
   "source": [
    "#| export\n",
    "def load_model(fname='./vqmodel2-tiny-1000h.pth'):\n",
    "    whmodel = whisper.load_model('tiny.en')\n",
    "    vqmodel = RQBottleneckTransformer(codebook_dim=16, vq_codes=1024, q_depth=1, n_head=6, depth=1,\n",
    "                                  threshold_ema_dead_code=0.1)\n",
    "    vqmodel.load_state_dict(torch.load(fname))\n",
    "    vqmodel.eval().cuda();\n",
    "    return whmodel, vqmodel"
   ]
  },
  {
   "cell_type": "code",
   "execution_count": null,
   "id": "f7af832c",
   "metadata": {},
   "outputs": [],
   "source": [
    "whmodel, vqmodel = load_model()"
   ]
  },
  {
   "cell_type": "code",
   "execution_count": null,
   "id": "76bc52de",
   "metadata": {},
   "outputs": [],
   "source": [
    "#| export\n",
    "from spear_tts_pytorch.extract_acoustic import load\n",
    "\n",
    "def encode_stoks(whmodel, vqmodel, audio):\n",
    "    \"\"\"Encode the given `audio` (tensor or file name) into Whisper embeddings and lists of text tokens.\n",
    "    Uses the given `whmodel` (see `load_model`).\n",
    "    \"\"\"\n",
    "    if isinstance(audio, (Path, str)):\n",
    "        audio = load(audio, newsr=whisper.audio.SAMPLE_RATE)\n",
    "    mel = whisper.log_mel_spectrogram(audio[0,0])\n",
    "    embs = []\n",
    "    toks = []\n",
    "    for start in range(0, mel.shape[-1], whisper.audio.N_FRAMES):\n",
    "        sample = mel[:,start:]\n",
    "        with torch.no_grad():\n",
    "            padded = whisper.audio.pad_or_trim(sample, whisper.audio.N_FRAMES).unsqueeze(0)\n",
    "            emb = whmodel.encoder(padded)\n",
    "            toks.append(vqmodel.encode(emb).squeeze())\n",
    "    return torch.stack(toks, axis=0)"
   ]
  },
  {
   "cell_type": "code",
   "execution_count": null,
   "id": "6f6f0b0f",
   "metadata": {},
   "outputs": [
    {
     "data": {
      "text/plain": [
       "torch.Size([3, 1500])"
      ]
     },
     "execution_count": null,
     "metadata": {},
     "output_type": "execute_result"
    }
   ],
   "source": [
    "encode_stoks(whmodel, vqmodel, '/scrach/small/254/againstindifference_0801_librivox_64kb_mp3/againstindifference_webbe_add_64kb.flac').shape"
   ]
  },
  {
   "cell_type": "code",
   "execution_count": null,
   "id": "4641f0be",
   "metadata": {},
   "outputs": [],
   "source": [
    "#| export\n",
    "@call_parse\n",
    "def extract_stoks(\n",
    "        srcdir:Path,  # source dir, should contain *.flac files\n",
    "        outdir:Path,  # output dir, will get the *.stoks files\n",
    "        model:Path,   # model path (vqmodel2-tiny-1000h.pth)\n",
    "    ): \n",
    "    \"Convert audio files to .stoks files quantized Whisper embeddings\"\n",
    "    whmodel, vqmodel = load_model(model)\n",
    "        \n",
    "    outdir.mkdir(exist_ok=True, parents=True)\n",
    "    for name in progress_bar(list(srcdir.rglob('*.flac'))):\n",
    "        stoks = encode_stoks(whmodel, vqmodel, name)\n",
    "        torch.save(stoks, outdir/name.with_suffix('.stoks').name)"
   ]
  },
  {
   "cell_type": "code",
   "execution_count": null,
   "id": "68b66e6f",
   "metadata": {},
   "outputs": [],
   "source": [
    "#| hide\n",
    "import nbdev; nbdev.nbdev_export()"
   ]
  },
  {
   "cell_type": "code",
   "execution_count": null,
   "id": "ab80cf60",
   "metadata": {},
   "outputs": [],
   "source": []
  }
 ],
 "metadata": {
  "kernelspec": {
   "display_name": "Python 3 (ipykernel)",
   "language": "python",
   "name": "python3"
  }
 },
 "nbformat": 4,
 "nbformat_minor": 5
}
