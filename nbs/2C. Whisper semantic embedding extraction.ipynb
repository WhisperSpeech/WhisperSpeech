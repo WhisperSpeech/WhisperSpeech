{
 "cells": [
  {
   "cell_type": "code",
   "execution_count": null,
   "id": "8595f545",
   "metadata": {},
   "outputs": [],
   "source": [
    "#| default_exp extract_semb"
   ]
  },
  {
   "cell_type": "code",
   "execution_count": null,
   "id": "49e3ac51",
   "metadata": {},
   "outputs": [],
   "source": [
    "%load_ext autoreload\n",
    "%autoreload 2"
   ]
  },
  {
   "cell_type": "code",
   "execution_count": null,
   "id": "0909e3ad",
   "metadata": {},
   "outputs": [],
   "source": [
    "#| hide\n",
    "from nbdev.showdoc import *"
   ]
  },
  {
   "cell_type": "code",
   "execution_count": null,
   "id": "8ac6d8f8",
   "metadata": {},
   "outputs": [],
   "source": [
    "#| export\n",
    "import torch\n",
    "import torchaudio\n",
    "\n",
    "from pathlib import Path\n",
    "from fastprogress import progress_bar, master_bar\n",
    "from fastcore.script import *\n",
    "\n",
    "import whisper\n",
    "from spear_tts_pytorch.extract_acoustic import load"
   ]
  },
  {
   "cell_type": "code",
   "execution_count": null,
   "id": "fc96663a",
   "metadata": {},
   "outputs": [],
   "source": [
    "# unpacked small.tar should go here:\n",
    "datadir = Path('/mnt/')\n",
    "# you can download it downloaded from\n",
    "# https://github.com/facebookresearch/libri-light/blob/main/data_preparation/README.md"
   ]
  },
  {
   "cell_type": "code",
   "execution_count": null,
   "id": "1723d959",
   "metadata": {},
   "outputs": [],
   "source": []
  },
  {
   "cell_type": "markdown",
   "id": "79d6b6ca",
   "metadata": {},
   "source": [
    "# Extract Whisper embeddings and token lists\n",
    "\n",
    "For distillation with an autoregressive (AR) decoder we need to know the ground truth text tokens. We also need logits but they are extremely large (there are 15k+ text tokens) so we store the token indices instead and run them through the decoder at train time twice (once with raw encoder embeddings and once with quantized)."
   ]
  },
  {
   "cell_type": "code",
   "execution_count": null,
   "id": "f38945c7",
   "metadata": {},
   "outputs": [],
   "source": [
    "#| export\n",
    "def load_model():\n",
    "    return whisper.load_model('tiny.en')"
   ]
  },
  {
   "cell_type": "code",
   "execution_count": null,
   "id": "a392631d",
   "metadata": {},
   "outputs": [],
   "source": [
    "whmodel = load_model()"
   ]
  },
  {
   "cell_type": "code",
   "execution_count": null,
   "id": "9f94d8d5",
   "metadata": {},
   "outputs": [
    {
     "data": {
      "text/plain": [
       "Whisper(\n",
       "  (encoder): AudioEncoder(\n",
       "    (conv1): Conv1d(80, 384, kernel_size=(3,), stride=(1,), padding=(1,))\n",
       "    (conv2): Conv1d(384, 384, kernel_size=(3,), stride=(2,), padding=(1,))\n",
       "    (blocks): ModuleList(\n",
       "      (0): ResidualAttentionBlock(\n",
       "        (attn): MultiHeadAttention(\n",
       "          (query): Linear(in_features=384, out_features=384, bias=True)\n",
       "          (key): Linear(in_features=384, out_features=384, bias=False)\n",
       "          (value): Linear(in_features=384, out_features=384, bias=True)\n",
       "          (out): Linear(in_features=384, out_features=384, bias=True)\n",
       "        )\n",
       "        (attn_ln): LayerNorm((384,), eps=1e-05, elementwise_affine=True)\n",
       "        (mlp): Sequential(\n",
       "          (0): Linear(in_features=384, out_features=1536, bias=True)\n",
       "          (1): GELU(approximate='none')\n",
       "          (2): Linear(in_features=1536, out_features=384, bias=True)\n",
       "        )\n",
       "        (mlp_ln): LayerNorm((384,), eps=1e-05, elementwise_affine=True)\n",
       "      )\n",
       "      (1): ResidualAttentionBlock(\n",
       "        (attn): MultiHeadAttention(\n",
       "          (query): Linear(in_features=384, out_features=384, bias=True)\n",
       "          (key): Linear(in_features=384, out_features=384, bias=False)\n",
       "          (value): Linear(in_features=384, out_features=384, bias=True)\n",
       "          (out): Linear(in_features=384, out_features=384, bias=True)\n",
       "        )\n",
       "        (attn_ln): LayerNorm((384,), eps=1e-05, elementwise_affine=True)\n",
       "        (mlp): Sequential(\n",
       "          (0): Linear(in_features=384, out_features=1536, bias=True)\n",
       "          (1): GELU(approximate='none')\n",
       "          (2): Linear(in_features=1536, out_features=384, bias=True)\n",
       "        )\n",
       "        (mlp_ln): LayerNorm((384,), eps=1e-05, elementwise_affine=True)\n",
       "      )\n",
       "      (2): ResidualAttentionBlock(\n",
       "        (attn): MultiHeadAttention(\n",
       "          (query): Linear(in_features=384, out_features=384, bias=True)\n",
       "          (key): Linear(in_features=384, out_features=384, bias=False)\n",
       "          (value): Linear(in_features=384, out_features=384, bias=True)\n",
       "          (out): Linear(in_features=384, out_features=384, bias=True)\n",
       "        )\n",
       "        (attn_ln): LayerNorm((384,), eps=1e-05, elementwise_affine=True)\n",
       "        (mlp): Sequential(\n",
       "          (0): Linear(in_features=384, out_features=1536, bias=True)\n",
       "          (1): GELU(approximate='none')\n",
       "          (2): Linear(in_features=1536, out_features=384, bias=True)\n",
       "        )\n",
       "        (mlp_ln): LayerNorm((384,), eps=1e-05, elementwise_affine=True)\n",
       "      )\n",
       "      (3): ResidualAttentionBlock(\n",
       "        (attn): MultiHeadAttention(\n",
       "          (query): Linear(in_features=384, out_features=384, bias=True)\n",
       "          (key): Linear(in_features=384, out_features=384, bias=False)\n",
       "          (value): Linear(in_features=384, out_features=384, bias=True)\n",
       "          (out): Linear(in_features=384, out_features=384, bias=True)\n",
       "        )\n",
       "        (attn_ln): LayerNorm((384,), eps=1e-05, elementwise_affine=True)\n",
       "        (mlp): Sequential(\n",
       "          (0): Linear(in_features=384, out_features=1536, bias=True)\n",
       "          (1): GELU(approximate='none')\n",
       "          (2): Linear(in_features=1536, out_features=384, bias=True)\n",
       "        )\n",
       "        (mlp_ln): LayerNorm((384,), eps=1e-05, elementwise_affine=True)\n",
       "      )\n",
       "    )\n",
       "    (ln_post): LayerNorm((384,), eps=1e-05, elementwise_affine=True)\n",
       "  )\n",
       "  (decoder): TextDecoder(\n",
       "    (token_embedding): Embedding(51864, 384)\n",
       "    (blocks): ModuleList(\n",
       "      (0): ResidualAttentionBlock(\n",
       "        (attn): MultiHeadAttention(\n",
       "          (query): Linear(in_features=384, out_features=384, bias=True)\n",
       "          (key): Linear(in_features=384, out_features=384, bias=False)\n",
       "          (value): Linear(in_features=384, out_features=384, bias=True)\n",
       "          (out): Linear(in_features=384, out_features=384, bias=True)\n",
       "        )\n",
       "        (attn_ln): LayerNorm((384,), eps=1e-05, elementwise_affine=True)\n",
       "        (cross_attn): MultiHeadAttention(\n",
       "          (query): Linear(in_features=384, out_features=384, bias=True)\n",
       "          (key): Linear(in_features=384, out_features=384, bias=False)\n",
       "          (value): Linear(in_features=384, out_features=384, bias=True)\n",
       "          (out): Linear(in_features=384, out_features=384, bias=True)\n",
       "        )\n",
       "        (cross_attn_ln): LayerNorm((384,), eps=1e-05, elementwise_affine=True)\n",
       "        (mlp): Sequential(\n",
       "          (0): Linear(in_features=384, out_features=1536, bias=True)\n",
       "          (1): GELU(approximate='none')\n",
       "          (2): Linear(in_features=1536, out_features=384, bias=True)\n",
       "        )\n",
       "        (mlp_ln): LayerNorm((384,), eps=1e-05, elementwise_affine=True)\n",
       "      )\n",
       "      (1): ResidualAttentionBlock(\n",
       "        (attn): MultiHeadAttention(\n",
       "          (query): Linear(in_features=384, out_features=384, bias=True)\n",
       "          (key): Linear(in_features=384, out_features=384, bias=False)\n",
       "          (value): Linear(in_features=384, out_features=384, bias=True)\n",
       "          (out): Linear(in_features=384, out_features=384, bias=True)\n",
       "        )\n",
       "        (attn_ln): LayerNorm((384,), eps=1e-05, elementwise_affine=True)\n",
       "        (cross_attn): MultiHeadAttention(\n",
       "          (query): Linear(in_features=384, out_features=384, bias=True)\n",
       "          (key): Linear(in_features=384, out_features=384, bias=False)\n",
       "          (value): Linear(in_features=384, out_features=384, bias=True)\n",
       "          (out): Linear(in_features=384, out_features=384, bias=True)\n",
       "        )\n",
       "        (cross_attn_ln): LayerNorm((384,), eps=1e-05, elementwise_affine=True)\n",
       "        (mlp): Sequential(\n",
       "          (0): Linear(in_features=384, out_features=1536, bias=True)\n",
       "          (1): GELU(approximate='none')\n",
       "          (2): Linear(in_features=1536, out_features=384, bias=True)\n",
       "        )\n",
       "        (mlp_ln): LayerNorm((384,), eps=1e-05, elementwise_affine=True)\n",
       "      )\n",
       "      (2): ResidualAttentionBlock(\n",
       "        (attn): MultiHeadAttention(\n",
       "          (query): Linear(in_features=384, out_features=384, bias=True)\n",
       "          (key): Linear(in_features=384, out_features=384, bias=False)\n",
       "          (value): Linear(in_features=384, out_features=384, bias=True)\n",
       "          (out): Linear(in_features=384, out_features=384, bias=True)\n",
       "        )\n",
       "        (attn_ln): LayerNorm((384,), eps=1e-05, elementwise_affine=True)\n",
       "        (cross_attn): MultiHeadAttention(\n",
       "          (query): Linear(in_features=384, out_features=384, bias=True)\n",
       "          (key): Linear(in_features=384, out_features=384, bias=False)\n",
       "          (value): Linear(in_features=384, out_features=384, bias=True)\n",
       "          (out): Linear(in_features=384, out_features=384, bias=True)\n",
       "        )\n",
       "        (cross_attn_ln): LayerNorm((384,), eps=1e-05, elementwise_affine=True)\n",
       "        (mlp): Sequential(\n",
       "          (0): Linear(in_features=384, out_features=1536, bias=True)\n",
       "          (1): GELU(approximate='none')\n",
       "          (2): Linear(in_features=1536, out_features=384, bias=True)\n",
       "        )\n",
       "        (mlp_ln): LayerNorm((384,), eps=1e-05, elementwise_affine=True)\n",
       "      )\n",
       "      (3): ResidualAttentionBlock(\n",
       "        (attn): MultiHeadAttention(\n",
       "          (query): Linear(in_features=384, out_features=384, bias=True)\n",
       "          (key): Linear(in_features=384, out_features=384, bias=False)\n",
       "          (value): Linear(in_features=384, out_features=384, bias=True)\n",
       "          (out): Linear(in_features=384, out_features=384, bias=True)\n",
       "        )\n",
       "        (attn_ln): LayerNorm((384,), eps=1e-05, elementwise_affine=True)\n",
       "        (cross_attn): MultiHeadAttention(\n",
       "          (query): Linear(in_features=384, out_features=384, bias=True)\n",
       "          (key): Linear(in_features=384, out_features=384, bias=False)\n",
       "          (value): Linear(in_features=384, out_features=384, bias=True)\n",
       "          (out): Linear(in_features=384, out_features=384, bias=True)\n",
       "        )\n",
       "        (cross_attn_ln): LayerNorm((384,), eps=1e-05, elementwise_affine=True)\n",
       "        (mlp): Sequential(\n",
       "          (0): Linear(in_features=384, out_features=1536, bias=True)\n",
       "          (1): GELU(approximate='none')\n",
       "          (2): Linear(in_features=1536, out_features=384, bias=True)\n",
       "        )\n",
       "        (mlp_ln): LayerNorm((384,), eps=1e-05, elementwise_affine=True)\n",
       "      )\n",
       "    )\n",
       "    (ln): LayerNorm((384,), eps=1e-05, elementwise_affine=True)\n",
       "  )\n",
       ")"
      ]
     },
     "execution_count": null,
     "metadata": {},
     "output_type": "execute_result"
    }
   ],
   "source": [
    "whmodel"
   ]
  },
  {
   "cell_type": "markdown",
   "id": "55820869",
   "metadata": {},
   "source": [
    "Let's implement this step by step first:"
   ]
  },
  {
   "cell_type": "code",
   "execution_count": null,
   "id": "5f867aae",
   "metadata": {},
   "outputs": [],
   "source": [
    "# load an audio file\n",
    "audio = load(datadir/'small/200/spy_cooper_librivox_64kb_mp3/spy_05_cooper_64kb.flac',\n",
    "             newsr=whisper.audio.SAMPLE_RATE)"
   ]
  },
  {
   "cell_type": "code",
   "execution_count": null,
   "id": "1e826228",
   "metadata": {},
   "outputs": [],
   "source": [
    "# we start with the mel spectrogram\n",
    "mel = whisper.log_mel_spectrogram(audio[0,0])"
   ]
  },
  {
   "cell_type": "code",
   "execution_count": null,
   "id": "4f34f8eb",
   "metadata": {},
   "outputs": [
    {
     "data": {
      "image/png": "[encoded data removed]",
      "text/plain": [
       "<Figure size 640x480 with 1 Axes>"
      ]
     },
     "metadata": {},
     "output_type": "display_data"
    }
   ],
   "source": [
    "# let's see how a spectrogram of speech looks like\n",
    "import pylab as plt\n",
    "plt.imshow(mel[:,:300].cpu());"
   ]
  },
  {
   "cell_type": "code",
   "execution_count": null,
   "id": "cc92ef0a",
   "metadata": {},
   "outputs": [
    {
     "data": {
      "text/plain": [
       "AudioEncoder(\n",
       "  (conv1): Conv1d(80, 384, kernel_size=(3,), stride=(1,), padding=(1,))\n",
       "  (conv2): Conv1d(384, 384, kernel_size=(3,), stride=(2,), padding=(1,))\n",
       "  (blocks): ModuleList(\n",
       "    (0): ResidualAttentionBlock(\n",
       "      (attn): MultiHeadAttention(\n",
       "        (query): Linear(in_features=384, out_features=384, bias=True)\n",
       "        (key): Linear(in_features=384, out_features=384, bias=False)\n",
       "        (value): Linear(in_features=384, out_features=384, bias=True)\n",
       "        (out): Linear(in_features=384, out_features=384, bias=True)\n",
       "      )\n",
       "      (attn_ln): LayerNorm((384,), eps=1e-05, elementwise_affine=True)\n",
       "      (mlp): Sequential(\n",
       "        (0): Linear(in_features=384, out_features=1536, bias=True)\n",
       "        (1): GELU(approximate='none')\n",
       "        (2): Linear(in_features=1536, out_features=384, bias=True)\n",
       "      )\n",
       "      (mlp_ln): LayerNorm((384,), eps=1e-05, elementwise_affine=True)\n",
       "    )\n",
       "    (1): ResidualAttentionBlock(\n",
       "      (attn): MultiHeadAttention(\n",
       "        (query): Linear(in_features=384, out_features=384, bias=True)\n",
       "        (key): Linear(in_features=384, out_features=384, bias=False)\n",
       "        (value): Linear(in_features=384, out_features=384, bias=True)\n",
       "        (out): Linear(in_features=384, out_features=384, bias=True)\n",
       "      )\n",
       "      (attn_ln): LayerNorm((384,), eps=1e-05, elementwise_affine=True)\n",
       "      (mlp): Sequential(\n",
       "        (0): Linear(in_features=384, out_features=1536, bias=True)\n",
       "        (1): GELU(approximate='none')\n",
       "        (2): Linear(in_features=1536, out_features=384, bias=True)\n",
       "      )\n",
       "      (mlp_ln): LayerNorm((384,), eps=1e-05, elementwise_affine=True)\n",
       "    )\n",
       "  )\n",
       "  (ln_post): Identity()\n",
       ")"
      ]
     },
     "execution_count": null,
     "metadata": {},
     "output_type": "execute_result"
    }
   ],
   "source": [
    "whmodel.encoder.ln_post = torch.nn.Identity()\n",
    "#del whmodel.encoder.blocks[3]\n",
    "del whmodel.encoder.blocks[2]\n",
    "whmodel.encoder"
   ]
  },
  {
   "cell_type": "code",
   "execution_count": null,
   "id": "ed51824c",
   "metadata": {},
   "outputs": [],
   "source": [
    "# get float embeddings vectors for this spectrogram\n",
    "start = 0\n",
    "sample = mel[:,:3000]\n",
    "with torch.no_grad():\n",
    "    # we have to pad (or trim) the input so it's exactly 30 seconds long\n",
    "    padded = whisper.audio.pad_or_trim(sample, whisper.audio.N_FRAMES).unsqueeze(0)\n",
    "    emb = whmodel.encoder(padded)#[0,:sample.shape[-1]//2].cpu()"
   ]
  },
  {
   "cell_type": "code",
   "execution_count": null,
   "id": "509a4002",
   "metadata": {},
   "outputs": [
    {
     "data": {
      "text/plain": [
       "torch.Size([80, 3000])"
      ]
     },
     "execution_count": null,
     "metadata": {},
     "output_type": "execute_result"
    }
   ],
   "source": [
    "sample.shape"
   ]
  },
  {
   "cell_type": "code",
   "execution_count": null,
   "id": "6bb70652",
   "metadata": {},
   "outputs": [
    {
     "data": {
      "text/plain": [
       "torch.Size([1, 80, 3000])"
      ]
     },
     "execution_count": null,
     "metadata": {},
     "output_type": "execute_result"
    }
   ],
   "source": [
    "padded.shape"
   ]
  },
  {
   "cell_type": "code",
   "execution_count": null,
   "id": "9599c4ab",
   "metadata": {},
   "outputs": [
    {
     "data": {
      "text/plain": [
       "torch.Size([1, 1500, 384])"
      ]
     },
     "execution_count": null,
     "metadata": {},
     "output_type": "execute_result"
    }
   ],
   "source": [
    "emb.shape"
   ]
  },
  {
   "cell_type": "code",
   "execution_count": null,
   "id": "bfc132be",
   "metadata": {},
   "outputs": [
    {
     "data": {
      "text/plain": [
       "1"
      ]
     },
     "execution_count": null,
     "metadata": {},
     "output_type": "execute_result"
    }
   ],
   "source": [
    "# we use the Whisper decoding algorithm to get the text tokens (integer numbers)\n",
    "tokens = whmodel.decode(padded, whisper.DecodingOptions(language='en', suppress_blank=False, suppress_tokens=False))[0].tokens\n",
    "len(tokens)"
   ]
  },
  {
   "cell_type": "code",
   "execution_count": null,
   "id": "b3a56106",
   "metadata": {},
   "outputs": [],
   "source": [
    "# to decode these embeddings into text we need to prompt the model with some special tokens\n",
    "# we can get them from the tokenizer and prepend them to the token list\n",
    "tokenizer = whisper.tokenizer.get_tokenizer(False, language='en')"
   ]
  },
  {
   "cell_type": "code",
   "execution_count": null,
   "id": "b41e347f",
   "metadata": {},
   "outputs": [
    {
     "data": {
      "text/plain": [
       "torch.Size([1, 65, 51864])"
      ]
     },
     "execution_count": null,
     "metadata": {},
     "output_type": "execute_result"
    }
   ],
   "source": [
    "# afterwards we can pass in the whole token list through the model to get the logits\n",
    "logits = whmodel.decoder(torch.tensor(list(tokenizer.sot_sequence) + tokens).repeat(1,1).cuda(), emb)\n",
    "# these are probabilities of each token at each timestep so there are 52k numbers for each output token\n",
    "logits.shape"
   ]
  },
  {
   "cell_type": "markdown",
   "id": "2dc899ff",
   "metadata": {},
   "source": [
    "And verify it decodes successfully:"
   ]
  },
  {
   "cell_type": "code",
   "execution_count": null,
   "id": "0fa82954",
   "metadata": {},
   "outputs": [
    {
     "data": {
      "text/plain": [
       "tensor([50363,   770,   318,   257,  7980,   430, 28035,  8296,    13,  1439,\n",
       "         7980,   430, 28035, 18813,   389,   287,   262,  1171,  7386,    13,\n",
       "        50713, 50713,  1114,   517,  1321,   290,   284,  1064,   503,   703,\n",
       "          345,   460, 13904,    11,  3387,  3187,  7980,   430,    85,  1140,\n",
       "           13,  2398,    13, 51063, 51063, 43905,   416, 11000,   440,     6,\n",
       "        20118,    13, 51263, 51263, 14200,   801,  8609,    13,  6404, 20485,\n",
       "           13,   785, 51513, 51513])"
      ]
     },
     "execution_count": null,
     "metadata": {},
     "output_type": "execute_result"
    }
   ],
   "source": [
    "tokens = torch.tensor(tokens)\n",
    "tokens"
   ]
  },
  {
   "cell_type": "code",
   "execution_count": null,
   "id": "8dc1dc8f",
   "metadata": {},
   "outputs": [
    {
     "data": {
      "text/plain": [
       "\" This is a Libra Vox recording. All Libra Vox recordings are in the public domain. For more information and to find out how you can volunteer, please visit Libravox.org. Recording by Marine O'Brien. Marialectrix.logspot.com\""
      ]
     },
     "execution_count": null,
     "metadata": {},
     "output_type": "execute_result"
    }
   ],
   "source": [
    "tokenizer.decode(tokens)"
   ]
  },
  {
   "cell_type": "code",
   "execution_count": null,
   "id": "f2e6904c",
   "metadata": {},
   "outputs": [
    {
     "data": {
      "text/plain": [
       "tensor([[50361,   770,   318,   257,  7980,   430, 28035,  8296,    13,  1439,\n",
       "          7980,   430, 28035, 18813,   389,   287,   262,  1171,  7386,    13,\n",
       "          1114, 50713,  1114,   517,  1321,   290,   284,  1064,   503,   703,\n",
       "           345,   460, 13904,    11,  3387,  3187,  7980,   430,    85,  1140,\n",
       "            13,  2398,    13, 51063, 51063, 43905,   416, 11000,   440,     6,\n",
       "         20118,    13, 51263, 51263, 14200,   801,  8609,    13,  6404, 20485,\n",
       "            13,   785, 51513, 51513, 50256]], device='cuda:0')"
      ]
     },
     "execution_count": null,
     "metadata": {},
     "output_type": "execute_result"
    }
   ],
   "source": [
    "logits.argmax(-1)"
   ]
  },
  {
   "cell_type": "code",
   "execution_count": null,
   "id": "d9a1a707",
   "metadata": {},
   "outputs": [
    {
     "data": {
      "text/plain": [
       "\"<|nospeech|> This is a Libra Vox recording. All Libra Vox recordings are in the public domain. For For more information and to find out how you can volunteer, please visit Libravox.org. Recording by Marine O'Brien. Marialectrix.logspot.com<|endoftext|>\""
      ]
     },
     "execution_count": null,
     "metadata": {},
     "output_type": "execute_result"
    }
   ],
   "source": [
    "tokenizer.decode(logits.argmax(-1)[0])"
   ]
  },
  {
   "cell_type": "code",
   "execution_count": null,
   "id": "d070f599",
   "metadata": {},
   "outputs": [
    {
     "data": {
      "text/plain": [
       "('', '<|nospeech|>')"
      ]
     },
     "execution_count": null,
     "metadata": {},
     "output_type": "execute_result"
    }
   ],
   "source": [
    "# They are the same (apart from the first token for some reason; let's ignore this for now)\n",
    "tokenizer.decode([50363]), tokenizer.decode([50361])"
   ]
  },
  {
   "cell_type": "code",
   "execution_count": null,
   "id": "6e0ceb62",
   "metadata": {},
   "outputs": [],
   "source": [
    "#| export\n",
    "# same as above but rolled into a function\n",
    "def encode_semantic(whmodel, audio):\n",
    "    \"\"\"Encode the given `audio` (tensor or file name) into Whisper embeddings and lists of text tokens.\n",
    "    Uses the given `whmodel` (see `load_model`).\n",
    "    \"\"\"\n",
    "    if isinstance(audio, (Path, str)):\n",
    "        audio = load(audio, newsr=whisper.audio.SAMPLE_RATE)\n",
    "    mel = whisper.log_mel_spectrogram(audio[0,0])\n",
    "    embs = []\n",
    "    toks = []\n",
    "    for start in range(0, mel.shape[-1], whisper.audio.N_FRAMES):\n",
    "        sample = mel[:,start:]\n",
    "        with torch.no_grad():\n",
    "            padded = whisper.audio.pad_or_trim(sample, whisper.audio.N_FRAMES).unsqueeze(0)\n",
    "            emb = whmodel.encoder(padded)\n",
    "            tokens = whmodel.decode(emb, whisper.DecodingOptions(language='en', suppress_blank=False, suppress_tokens=False))[0].tokens\n",
    "            embs.append(emb.cpu())\n",
    "            toks.append(tokens)\n",
    "    return torch.stack(embs, axis=0), toks"
   ]
  },
  {
   "cell_type": "code",
   "execution_count": null,
   "id": "7493e9d8",
   "metadata": {},
   "outputs": [
    {
     "data": {
      "text/plain": [
       "(torch.Size([52, 1, 1500, 384]), 0)"
      ]
     },
     "execution_count": null,
     "metadata": {},
     "output_type": "execute_result"
    }
   ],
   "source": [
    "embs, toks = encode_semantic(whmodel, datadir/'small/200/spy_cooper_librivox_64kb_mp3/spy_05_cooper_64kb.flac')\n",
    "embs.shape, len(toks)"
   ]
  },
  {
   "cell_type": "code",
   "execution_count": null,
   "id": "50c77ca5",
   "metadata": {},
   "outputs": [],
   "source": [
    "#| export\n",
    "@call_parse\n",
    "def extract_semantic(\n",
    "        srcdir:Path,  # source dir, should contain *.flac files\n",
    "        outdir:Path,  # output dir, will get the *.semb and *.ttoks files\n",
    "        layer='last', # the layer to extract the embeddings from\n",
    "    ): \n",
    "    \"Convert audio files to .semb files with Whisper embeddings and .ttoks with text tokens\"\n",
    "    model = load_model()\n",
    "    suffix = '.semb'\n",
    "    \n",
    "    if layer != 'last':\n",
    "        layer = int(layer)\n",
    "        N = len(model.encoder.blocks)\n",
    "        for i in range(N,layer,-1):\n",
    "            print(\"Removing layer\", i)\n",
    "            del model.encoder.blocks[i-1]\n",
    "        model.encoder.ln_post = torch.nn.Identity()\n",
    "        suffix += f'-{layer}'\n",
    "    \n",
    "    outdir.mkdir(exist_ok=True, parents=True)\n",
    "    for name in progress_bar(list(srcdir.rglob('*.flac'))):\n",
    "        embs, toks = encode_semantic(model, name)\n",
    "        torch.save(embs, outdir/name.with_suffix(suffix).name)\n",
    "        torch.save(toks, outdir/name.with_suffix('.ttoks').name)"
   ]
  },
  {
   "cell_type": "code",
   "execution_count": null,
   "id": "29bedc8b",
   "metadata": {},
   "outputs": [
    {
     "data": {
      "text/html": [
       "\n",
       "<style>\n",
       "    /* Turns off some styling */\n",
       "    progress {\n",
       "        /* gets rid of default border in Firefox and Opera. */\n",
       "        border: none;\n",
       "        /* Needs to be in here for Safari polyfill so background images work as expected. */\n",
       "        background-size: auto;\n",
       "    }\n",
       "    progress:not([value]), progress:not([value])::-webkit-progress-bar {\n",
       "        background: repeating-linear-gradient(45deg, #7e7e7e, #7e7e7e 10px, #5c5c5c 10px, #5c5c5c 20px);\n",
       "    }\n",
       "    .progress-bar-interrupted, .progress-bar-interrupted::-webkit-progress-bar {\n",
       "        background: #F44336;\n",
       "    }\n",
       "</style>\n"
      ],
      "text/plain": [
       "<IPython.core.display.HTML object>"
      ]
     },
     "metadata": {},
     "output_type": "display_data"
    },
    {
     "data": {
      "text/html": [],
      "text/plain": [
       "<IPython.core.display.HTML object>"
      ]
     },
     "metadata": {},
     "output_type": "display_data"
    },
    {
     "name": "stdout",
     "output_type": "stream",
     "text": [
      "Removing layer 4\n",
      "Removing layer 3\n"
     ]
    },
    {
     "data": {
      "text/html": [
       "\n",
       "<style>\n",
       "    /* Turns off some styling */\n",
       "    progress {\n",
       "        /* gets rid of default border in Firefox and Opera. */\n",
       "        border: none;\n",
       "        /* Needs to be in here for Safari polyfill so background images work as expected. */\n",
       "        background-size: auto;\n",
       "    }\n",
       "    progress:not([value]), progress:not([value])::-webkit-progress-bar {\n",
       "        background: repeating-linear-gradient(45deg, #7e7e7e, #7e7e7e 10px, #5c5c5c 10px, #5c5c5c 20px);\n",
       "    }\n",
       "    .progress-bar-interrupted, .progress-bar-interrupted::-webkit-progress-bar {\n",
       "        background: #F44336;\n",
       "    }\n",
       "</style>\n"
      ],
      "text/plain": [
       "<IPython.core.display.HTML object>"
      ]
     },
     "metadata": {},
     "output_type": "display_data"
    },
    {
     "data": {
      "text/html": [
       "\n",
       "    <div>\n",
       "      <progress value='26' class='' max='26' style='width:300px; height:20px; vertical-align: middle;'></progress>\n",
       "      100.00% [26/26 00:06&lt;00:00]\n",
       "    </div>\n",
       "    "
      ],
      "text/plain": [
       "<IPython.core.display.HTML object>"
      ]
     },
     "metadata": {},
     "output_type": "display_data"
    }
   ],
   "source": [
    "# extract all embeddings for a couple of speakers\n",
    "speakers = [1649]\n",
    "#speakers = [1649, 2156, 1901, 2607, 2234, 1743, 1614, 3657, 204, 3488, 19, 107, 2162, 1212, 4174]\n",
    "\n",
    "# a faster version: parallel --eta -j10 spear_extract_semantic /mnt/small/{} /mnt/semantic-small/{} ::: 1649 2156 1901 2607 2234 1743 1614 3657 204 3488 19 107 2162 1212 4174\n",
    "mb = master_bar(speakers)\n",
    "for spkid in mb:\n",
    "    extract_semantic(datadir/'small'/str(spkid), datadir/'semantic-small'/str(spkid), layer=2)"
   ]
  },
  {
   "cell_type": "code",
   "execution_count": null,
   "id": "97805efe",
   "metadata": {},
   "outputs": [],
   "source": [
    "#| hide\n",
    "import nbdev; nbdev.nbdev_export()"
   ]
  }
 ],
 "metadata": {
  "kernelspec": {
   "display_name": "Python 3 (ipykernel)",
   "language": "python",
   "name": "python3"
  }
 },
 "nbformat": 4,
 "nbformat_minor": 5
}
